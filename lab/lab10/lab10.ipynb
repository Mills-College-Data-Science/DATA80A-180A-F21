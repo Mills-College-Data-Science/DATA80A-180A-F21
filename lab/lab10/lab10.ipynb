{
 "cells": [
  {
   "cell_type": "markdown",
   "id": "82b84443",
   "metadata": {},
   "source": [
    "# Data 80A/180A Data Science for Everyone"
   ]
  },
  {
   "cell_type": "markdown",
   "id": "ce51d2f5",
   "metadata": {},
   "source": [
    "## Lab 10: Great British Bake Off \n",
    "\n",
    "### A/B Test\n",
    "\n",
    "#### Today's lab\n",
    "\n",
    "Welcome to Lab 10! \n",
    "\n",
    "This week's lab will focus on A/B Testing using data from the ever-popular British television show, [*The Great British Bakeoff*](https://en.wikipedia.org/wiki/The_Great_British_Bake_Off).\n",
    "\n",
    "Reading:\n",
    "* [Chap 12.1. A/B Testing](https://inferentialthinking.com/chapters/12/1/AB_Testing.html)\n",
    "\n",
    "First, set up the notebook by running the cell below."
   ]
  },
  {
   "cell_type": "code",
   "execution_count": null,
   "id": "50d1ed6a",
   "metadata": {
    "execution": {
     "iopub.execute_input": "2021-10-19T03:47:04.842874Z",
     "iopub.status.busy": "2021-10-19T03:47:04.837681Z",
     "iopub.status.idle": "2021-10-19T03:47:06.810421Z",
     "shell.execute_reply": "2021-10-19T03:47:06.809219Z"
    }
   },
   "outputs": [],
   "source": [
    "# Run this cell, but please don't change it.\n",
    "\n",
    "# These lines import the Numpy and Datascience modules.\n",
    "import numpy as np\n",
    "from datascience import *\n",
    "\n",
    "# These lines do some fancy plotting magic\n",
    "import matplotlib\n",
    "%matplotlib inline\n",
    "import matplotlib.pyplot as plots\n",
    "plots.style.use('fivethirtyeight')\n",
    "\n",
    "import otter\n",
    "grader = otter.Notebook()"
   ]
  },
  {
   "cell_type": "markdown",
   "id": "a69fa2b2",
   "metadata": {},
   "source": [
    "## 1. A/B Testing\n",
    "\n",
    "A/B testing is a form of hypothesis testing that allows you to make comparisons between two distributions. We may also refer to an A/B test as a permutation test.\n",
    "\n",
    "You'll almost never be explicitly asked to perform an A/B test. Make sure you can identify situations where the test is appropriate and know how to correctly implement each step. Oftentimes, we use an A/B test to determine whether or not two samples came from the same underlying distribution."
   ]
  },
  {
   "cell_type": "markdown",
   "id": "cf2442af",
   "metadata": {
    "deletable": false,
    "editable": false
   },
   "source": [
    "**Question 1.1.** The following statements are the steps of an A/B hypothesis test presented in a *random order*:\n",
    "\n",
    "1. Choose a test statistic (typically the difference in means between two categories)\n",
    "\n",
    "2. Shuffle the labels of the original sample, find your simulated test statistic, and repeat many times\n",
    "\n",
    "3. Find the value of the observed test statistic\n",
    "\n",
    "4. Calculate the p-value based off your observed and simulated test statistics\n",
    "\n",
    "5. Define a null and alternate model\n",
    "\n",
    "6. Use the p-value and p-value cutoff to draw a conclusion about the null hypothesis\n",
    "\n",
    "Assign `ab_test_order` to an array of integers that contains the correct order of an A/B test, where the first item of the array is the first step of an A/B test and the last item of the array is the last step of an A/B test."
   ]
  },
  {
   "cell_type": "code",
   "execution_count": null,
   "id": "3fc5ee49",
   "metadata": {
    "execution": {
     "iopub.execute_input": "2021-10-19T03:47:06.819882Z",
     "iopub.status.busy": "2021-10-19T03:47:06.819013Z",
     "iopub.status.idle": "2021-10-19T03:47:06.822499Z",
     "shell.execute_reply": "2021-10-19T03:47:06.821888Z"
    }
   },
   "outputs": [],
   "source": [
    "ab_test_order = ..."
   ]
  },
  {
   "cell_type": "code",
   "execution_count": null,
   "id": "1f6f69c7",
   "metadata": {
    "deletable": false,
    "editable": false
   },
   "outputs": [],
   "source": [
    "grader.check(\"q1_1\")"
   ]
  },
  {
   "cell_type": "markdown",
   "id": "747750c2",
   "metadata": {
    "deletable": false,
    "editable": false
   },
   "source": [
    "**Question 1.2.** If the null hypothesis of an A/B test is correct, should the order of labels affect the differences in means between each group? Why do we shuffle labels in an A/B test? "
   ]
  },
  {
   "cell_type": "markdown",
   "id": "49b6947c",
   "metadata": {},
   "source": [
    "_Type your answer here, replacing this text._"
   ]
  },
  {
   "cell_type": "markdown",
   "id": "01bf1b25",
   "metadata": {},
   "source": [
    "## 2. The Great British Bake Off\n",
    "\n",
    ">\"The Great British Bake Off (often abbreviated to Bake Off or GBBO) is a British television baking competition, produced by Love Productions, in which a group of amateur bakers compete against each other in a series of rounds, attempting to impress a group of judges with their baking skills\" [Wikipedia](https://en.wikipedia.org/wiki/The_Great_British_Bake_Off)\n",
    "\n",
    "For every week of the competition, the judges assign one contestant the title \"Star Baker\". Ultimately, one winner is crowned every season. Using this information, we would like to investigate how winning Star Baker awards affects the odds of winning a season of the show."
   ]
  },
  {
   "cell_type": "markdown",
   "id": "a6fa58b3",
   "metadata": {
    "deletable": false,
    "editable": false
   },
   "source": [
    "**Question 2.1.** We want to know whether winning more Star Baker awards *causes* a change in likelihood of winning the season.  Why is it not sufficient to compare star baker rates (where the star baker rate for winners is the number of contestants who won star awards and won the season divided by the number of winners; the star baker rate for losers is the number of contestants who won star awards and lost the season divided by the number of losers) for winners and losers?  (In other words, the star baker rate does not take into account the number of Star Baker awards won, just that a contestant won a Star Baker award.)"
   ]
  },
  {
   "cell_type": "markdown",
   "id": "2cf5bcaf",
   "metadata": {},
   "source": [
    "_Type your answer here, replacing this text._"
   ]
  },
  {
   "cell_type": "markdown",
   "id": "9c65a8e6",
   "metadata": {},
   "source": [
    "### Running an Experiment\n",
    "\n",
    "We are going to run the following hypothesis test to determine the association between winning and number of Star Baker awards. The population we are examining is every contestant from seasons 2 through 11 of GBBO. We are going to use the following null and alternative hypotheses:\n",
    "\n",
    "**Null hypothesis:** The distribution of Star Baker awards between contestants who won their season and contestants who did not win their season is the same.\n",
    "\n",
    "**Alternative hypothesis:** Contestants who win their season of the show will win more Star Baker awards on average.\n",
    "\n",
    "Our alternative hypothesis is related to our suspicion that contestants who win more Star Baker awards are more skilled, so they are more likely to win the season."
   ]
  },
  {
   "cell_type": "markdown",
   "id": "cce50acf",
   "metadata": {
    "deletable": false,
    "editable": false
   },
   "source": [
    "**Question 2.2.** Should we use an A/B test to test these hypotheses? If yes, what is our \"A\" group and what is our \"B\" group?\n"
   ]
  },
  {
   "cell_type": "markdown",
   "id": "c4b2797e",
   "metadata": {},
   "source": [
    "_Type your answer here, replacing this text._"
   ]
  },
  {
   "cell_type": "markdown",
   "id": "4435611a",
   "metadata": {},
   "source": [
    "Check your answers with your neighbors or a lab instructor before you move on to the next section."
   ]
  },
  {
   "cell_type": "markdown",
   "id": "5fb7a354",
   "metadata": {},
   "source": [
    "The `bakers` table below describes the number of star baker awards each contest won and whether or not they won their season (`1` if they won, `0` if they did not win). The data was manually aggregated from Wikipedia for seasons 2-11 of the show. We randomized the order of rows as to not spoil the outcome of the show."
   ]
  },
  {
   "cell_type": "code",
   "execution_count": null,
   "id": "d8377343",
   "metadata": {
    "execution": {
     "iopub.execute_input": "2021-10-19T03:47:06.892638Z",
     "iopub.status.busy": "2021-10-19T03:47:06.891675Z",
     "iopub.status.idle": "2021-10-19T03:47:06.905203Z",
     "shell.execute_reply": "2021-10-19T03:47:06.904581Z"
    }
   },
   "outputs": [],
   "source": [
    "bakers = Table.read_table(\"star_bakers.csv\")\n",
    "bakers.show(3)"
   ]
  },
  {
   "cell_type": "markdown",
   "id": "7bbad05b",
   "metadata": {
    "deletable": false,
    "editable": false
   },
   "source": [
    "**Question 2.3.** Create a new table called `means` that contains the mean number of star baker awards for bakers who did not win (`won==0`) and bakers that did win (`won==1`). The table should have the column names `won` and `star baker awards mean`."
   ]
  },
  {
   "cell_type": "code",
   "execution_count": null,
   "id": "ab52da21",
   "metadata": {
    "execution": {
     "iopub.execute_input": "2021-10-19T03:47:06.923341Z",
     "iopub.status.busy": "2021-10-19T03:47:06.922641Z",
     "iopub.status.idle": "2021-10-19T03:47:06.929085Z",
     "shell.execute_reply": "2021-10-19T03:47:06.927889Z"
    }
   },
   "outputs": [],
   "source": [
    "means = ...\n",
    "means"
   ]
  },
  {
   "cell_type": "code",
   "execution_count": null,
   "id": "0ad60af2",
   "metadata": {
    "deletable": false,
    "editable": false
   },
   "outputs": [],
   "source": [
    "grader.check(\"q2_3\")"
   ]
  },
  {
   "cell_type": "markdown",
   "id": "6f314905",
   "metadata": {
    "deletable": false,
    "editable": false
   },
   "source": [
    "**Question 2.4.** Visualize the distribution of Star Baker awards for winners and non-winners. You should use the bins we provided.\n",
    "\n",
    "Hint: You will want to use the group argument of `tbl.hist`. In order to produce several overlayed histograms based on unique values in a given column, we can do something like `tbl.hist(group=<col_name>, bins=...)`!  Table 1 displays the expected output."
   ]
  },
  {
   "cell_type": "code",
   "execution_count": null,
   "id": "b06b3bdf",
   "metadata": {
    "execution": {
     "iopub.execute_input": "2021-10-19T03:47:06.975843Z",
     "iopub.status.busy": "2021-10-19T03:47:06.974905Z",
     "iopub.status.idle": "2021-10-19T03:47:07.264756Z",
     "shell.execute_reply": "2021-10-19T03:47:07.263963Z"
    }
   },
   "outputs": [],
   "source": [
    "useful_bins = np.arange(0, 7)\n",
    "..."
   ]
  },
  {
   "cell_type": "markdown",
   "id": "83818c94",
   "metadata": {},
   "source": [
    "Table 1:\n",
    "    \n",
    "<img src=\"Q2.4_table.PNG\">    "
   ]
  },
  {
   "cell_type": "markdown",
   "id": "39229afd",
   "metadata": {
    "deletable": false,
    "editable": false
   },
   "source": [
    "**Question 2.5.** We want to figure out if there is a difference between the distribution of Star Baker awards between winners and non winners. \n",
    "\n",
    "What should the test statistic be? Which values of this test statistic support the null, and which values support the alternative?\n",
    "\n",
    "If you are in lab, confirm your answer with a neighbor or a lab instructor before moving on.\n"
   ]
  },
  {
   "cell_type": "markdown",
   "id": "90bc5082",
   "metadata": {},
   "source": [
    "_Type your answer here, replacing this text._"
   ]
  },
  {
   "cell_type": "markdown",
   "id": "61acee74",
   "metadata": {
    "deletable": false,
    "editable": false
   },
   "source": [
    "**Question 2.6.** Set `observed_difference` to the observed test statistic using the `means` table. "
   ]
  },
  {
   "cell_type": "code",
   "execution_count": null,
   "id": "5e836ccf",
   "metadata": {
    "execution": {
     "iopub.execute_input": "2021-10-19T03:47:07.275021Z",
     "iopub.status.busy": "2021-10-19T03:47:07.274159Z",
     "iopub.status.idle": "2021-10-19T03:47:07.278332Z",
     "shell.execute_reply": "2021-10-19T03:47:07.277764Z"
    }
   },
   "outputs": [],
   "source": [
    "observed_difference = ...\n",
    "observed_difference"
   ]
  },
  {
   "cell_type": "code",
   "execution_count": null,
   "id": "278c2e9b",
   "metadata": {
    "deletable": false,
    "editable": false
   },
   "outputs": [],
   "source": [
    "grader.check(\"q2_6\")"
   ]
  },
  {
   "cell_type": "markdown",
   "id": "cb109aa2",
   "metadata": {
    "deletable": false,
    "editable": false
   },
   "source": [
    "**Question 2.7.** Given a table like `bakers`, a value column `label_col`, and a group column `group_col`, write a function that calculates the appropriate test statistic.\n",
    "\n",
    "*Hint:* Make sure that you are taking the directionality of our alternative hypothesis into account."
   ]
  },
  {
   "cell_type": "code",
   "execution_count": null,
   "id": "3526334b",
   "metadata": {
    "execution": {
     "iopub.execute_input": "2021-10-19T03:47:07.329383Z",
     "iopub.status.busy": "2021-10-19T03:47:07.320374Z",
     "iopub.status.idle": "2021-10-19T03:47:07.336559Z",
     "shell.execute_reply": "2021-10-19T03:47:07.335611Z"
    },
    "scrolled": true
   },
   "outputs": [],
   "source": [
    "def find_test_stat(tbl, label_col, group_col):\n",
    "    ...\n",
    "    \n",
    "\n",
    "find_test_stat(bakers, \"won\", \"star baker awards\")"
   ]
  },
  {
   "cell_type": "code",
   "execution_count": null,
   "id": "2908f17e",
   "metadata": {
    "deletable": false,
    "editable": false
   },
   "outputs": [],
   "source": [
    "grader.check(\"q2_7\")"
   ]
  },
  {
   "cell_type": "markdown",
   "id": "cfac955b",
   "metadata": {},
   "source": [
    "When we run a simulation for A/B testing, we resample by **shuffling the labels** of the original sample. If the null hypothesis is true and the star baker award distributions are the same, we expect that the difference in mean star baker awards will be not change when `\"won\"` labels are changed."
   ]
  },
  {
   "cell_type": "markdown",
   "id": "7d011b4a",
   "metadata": {
    "deletable": false,
    "editable": false
   },
   "source": [
    "**Question 2.8.** Write a function `simulate_and_test_statistic` to compute one trial of our A/B test. Your function should run a simulation and return a test statistic.\n"
   ]
  },
  {
   "cell_type": "code",
   "execution_count": null,
   "id": "c8061b09",
   "metadata": {
    "execution": {
     "iopub.execute_input": "2021-10-19T03:47:07.546059Z",
     "iopub.status.busy": "2021-10-19T03:47:07.369711Z",
     "iopub.status.idle": "2021-10-19T03:47:07.557822Z",
     "shell.execute_reply": "2021-10-19T03:47:07.556369Z"
    }
   },
   "outputs": [],
   "source": [
    "def simulate_and_test_statistic(tbl, labels_col, values_col):\n",
    "    ...\n",
    "    \n",
    "    \n",
    "simulate_and_test_statistic(bakers, \"won\", \"star baker awards\")"
   ]
  },
  {
   "cell_type": "code",
   "execution_count": null,
   "id": "2feb1645",
   "metadata": {
    "deletable": false,
    "editable": false
   },
   "outputs": [],
   "source": [
    "grader.check(\"q2_8\")"
   ]
  },
  {
   "cell_type": "markdown",
   "id": "ff374b89",
   "metadata": {
    "deletable": false,
    "editable": false
   },
   "source": [
    "**Question 2.9.** Simulate 5000 trials of our A/B test and store the test statistics in an array called `differences`.\n"
   ]
  },
  {
   "cell_type": "code",
   "execution_count": null,
   "id": "f0d891a5",
   "metadata": {
    "execution": {
     "iopub.execute_input": "2021-10-19T03:47:07.655746Z",
     "iopub.status.busy": "2021-10-19T03:47:07.624775Z",
     "iopub.status.idle": "2021-10-19T03:47:28.567891Z",
     "shell.execute_reply": "2021-10-19T03:47:28.567217Z"
    }
   },
   "outputs": [],
   "source": [
    "# This cell might take a couple seconds to run\n",
    "differences = make_array()\n",
    "\n",
    "...\n",
    "                                                 \n",
    "differences"
   ]
  },
  {
   "cell_type": "code",
   "execution_count": null,
   "id": "8dea4aeb",
   "metadata": {
    "deletable": false,
    "editable": false
   },
   "outputs": [],
   "source": [
    "grader.check(\"q2_9\")"
   ]
  },
  {
   "cell_type": "markdown",
   "id": "4be1beda",
   "metadata": {},
   "source": [
    "Run the cell below to view a histogram of your simulated test statistics plotted with your observed test statistic."
   ]
  },
  {
   "cell_type": "code",
   "execution_count": null,
   "id": "2d260987",
   "metadata": {
    "execution": {
     "iopub.execute_input": "2021-10-19T03:47:28.637593Z",
     "iopub.status.busy": "2021-10-19T03:47:28.608103Z",
     "iopub.status.idle": "2021-10-19T03:47:28.954466Z",
     "shell.execute_reply": "2021-10-19T03:47:28.954938Z"
    }
   },
   "outputs": [],
   "source": [
    "Table().with_column('Difference Between Group Means', differences).hist(bins=20)\n",
    "plots.scatter(observed_difference, 0, color='red', s=30, zorder=2)\n",
    "plots.ylim(-0.1, 1.35);"
   ]
  },
  {
   "cell_type": "markdown",
   "id": "a8cb8705",
   "metadata": {
    "deletable": false,
    "editable": false
   },
   "source": [
    "**Question 2.10.** Find the p-value for your test and assign it to `empirical_p`.\n"
   ]
  },
  {
   "cell_type": "code",
   "execution_count": null,
   "id": "9a16f4b0",
   "metadata": {
    "execution": {
     "iopub.execute_input": "2021-10-19T03:47:28.964964Z",
     "iopub.status.busy": "2021-10-19T03:47:28.963811Z",
     "iopub.status.idle": "2021-10-19T03:47:28.968017Z",
     "shell.execute_reply": "2021-10-19T03:47:28.968520Z"
    }
   },
   "outputs": [],
   "source": [
    "empirical_p = ...\n",
    "empirical_p"
   ]
  },
  {
   "cell_type": "code",
   "execution_count": null,
   "id": "cf5d016e",
   "metadata": {
    "deletable": false,
    "editable": false
   },
   "outputs": [],
   "source": [
    "grader.check(\"q2_10\")"
   ]
  },
  {
   "cell_type": "markdown",
   "id": "90f75ce8",
   "metadata": {
    "deletable": false,
    "editable": false
   },
   "source": [
    "**Question 2.11.** Using a 5% P-value cutoff, draw a conclusion about the null and alternative hypotheses. Describe your findings using simple, non-technical language. What does your analysis tell you about the association between star baker awards and winning? What can you claim about causation from your statistical analysis?\n"
   ]
  },
  {
   "cell_type": "markdown",
   "id": "77262e70",
   "metadata": {},
   "source": [
    "_Type your answer here, replacing this text._"
   ]
  },
  {
   "cell_type": "markdown",
   "id": "151098a3",
   "metadata": {},
   "source": [
    "Congratulations, you're done with Lab 10! \n",
    "\n",
    "Be sure to:\n",
    "\n",
    "   * run all the tests,\n",
    "   * save your notebook and download a pdf version of it,\n",
    "   * submit your work to Canvas,\n",
    "   * and ask a lab instructors to check you off."
   ]
  }
 ],
 "metadata": {
  "kernelspec": {
   "display_name": "Python 3 (ipykernel)",
   "language": "python",
   "name": "python3"
  },
  "language_info": {
   "codemirror_mode": {
    "name": "ipython",
    "version": 3
   },
   "file_extension": ".py",
   "mimetype": "text/x-python",
   "name": "python",
   "nbconvert_exporter": "python",
   "pygments_lexer": "ipython3",
   "version": "3.7.8"
  }
 },
 "nbformat": 4,
 "nbformat_minor": 5
}

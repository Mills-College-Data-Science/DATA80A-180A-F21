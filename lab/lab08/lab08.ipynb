{
 "cells": [
  {
   "cell_type": "markdown",
   "metadata": {
    "id": "prQS6LJPgM-e"
   },
   "source": [
    "# Data 80A/180A Data Science for Everyone"
   ]
  },
  {
   "cell_type": "markdown",
   "metadata": {
    "id": "D0VrIrjFgM-n"
   },
   "source": [
    "# Lab 8: Sampling and Simulations\n",
    "\n",
    "#### Today's lab\n",
    "\n",
    "Welcome to Lab 8! In today's lab, you'll learn about sampling and continue practicing simulation.\n",
    "\n",
    "Reading:\n",
    "\n",
    "* [9.3 Simulations](https://www.inferentialthinking.com/chapters/09/3/Simulation.html)\n",
    "* [10. Sampling](https://inferentialthinking.com/chapters/10/Sampling_and_Empirical_Distributions.html)\n",
    "\n",
    "First, set up the tests and imports by running the cell below."
   ]
  },
  {
   "cell_type": "code",
   "execution_count": null,
   "metadata": {
    "deletable": false,
    "editable": false,
    "id": "K8w9J2d9gM-o"
   },
   "outputs": [],
   "source": [
    "# Run this cell, but please don't change it.\n",
    "\n",
    "# These lines import the Numpy and Datascience modules.\n",
    "import numpy as np\n",
    "from datascience import *\n",
    "\n",
    "# These lines do some fancy plotting magic\n",
    "import matplotlib\n",
    "%matplotlib inline\n",
    "import matplotlib.pyplot as plt\n",
    "plt.style.use('fivethirtyeight')\n",
    "\n",
    "import otter\n",
    "grader = otter.Notebook()"
   ]
  },
  {
   "cell_type": "markdown",
   "metadata": {
    "id": "35BRkJCSgM_j"
   },
   "source": [
    "## 1. Sampling Basketball Data\n",
    "\n",
    "Run the cell below to load player and salary data. We join the two tables to form the `full_data` table from which we will sample.  "
   ]
  },
  {
   "cell_type": "code",
   "execution_count": null,
   "metadata": {
    "deletable": false,
    "editable": false,
    "id": "GD-lEcL_gM_m"
   },
   "outputs": [],
   "source": [
    "player_data = Table().read_table(\"player_data.csv\")\n",
    "salary_data = Table().read_table(\"salary_data.csv\")\n",
    "full_data = salary_data.join(\"PlayerName\", player_data, \"Name\")\n",
    "\n",
    "# The show method immediately displays the contents of a table. \n",
    "player_data.show(3)\n",
    "salary_data.show(3)\n",
    "full_data.show(3)"
   ]
  },
  {
   "cell_type": "markdown",
   "metadata": {
    "id": "UFKlC84XgM_o"
   },
   "source": [
    "Rather than getting data on every player (as in the tables loaded above), imagine that we had gotten data on only a smaller subset of the players.  \n",
    "\n",
    "If we want to make estimates about a certain numerical property of the population (known as a statistic, e.g. the mean or median), we may have to come up with these estimates based only on a smaller sample. Whether these estimates are useful or not often depends on how the sample was gathered. We have prepared some example sample datasets to see how they compare to the full NBA dataset. Later we'll ask you to create your own samples to see how they behave."
   ]
  },
  {
   "cell_type": "markdown",
   "metadata": {
    "id": "htyguaD3gM_p"
   },
   "source": [
    "To save typing and increase the clarity of your code, we will package the analysis code into a few functions. This will be useful in the rest of the lab as we will repeatedly need to create histograms and collect summary statistics from that data."
   ]
  },
  {
   "cell_type": "markdown",
   "metadata": {
    "id": "R9VNwQmrgM_q"
   },
   "source": [
    "We've defined the `histograms` function below, which takes a table with columns `Age` and `Salary` and draws a histogram for each one. It uses bin widths of 1 year for `Age` and $1,000,000 for `Salary`."
   ]
  },
  {
   "cell_type": "code",
   "execution_count": null,
   "metadata": {
    "deletable": false,
    "editable": false,
    "id": "tHjic9negM_q",
    "scrolled": true
   },
   "outputs": [],
   "source": [
    "def histograms(t):\n",
    "    ages = t.column('Age')\n",
    "    salaries = t.column('Salary')/1000000\n",
    "    t1 = t.drop('Salary').with_column('Salary', salaries)\n",
    "    age_bins = np.arange(min(ages), max(ages) + 2, 1) \n",
    "    salary_bins = np.arange(min(salaries), max(salaries) + 1, 1)\n",
    "    t1.hist('Age', bins=age_bins, unit='year')\n",
    "    plt.title('Age distribution')\n",
    "    t1.hist('Salary', bins=salary_bins, unit='million dollars')\n",
    "    plt.title('Salary distribution') \n",
    "    \n",
    "histograms(full_data)\n",
    "print('Two histograms should be displayed below')"
   ]
  },
  {
   "cell_type": "markdown",
   "metadata": {
    "deletable": false,
    "editable": false,
    "id": "oxa3dOq8gM_s"
   },
   "source": [
    "**Question 1.1**. Create a function called `compute_statistics` that takes a table containing ages and salaries and:\n",
    "- Draws a histogram of ages\n",
    "- Draws a histogram of salaries\n",
    "- Returns a two-element array containing the average age and average salary (in that order)\n",
    "\n",
    "You can call the `histograms` function to draw the histograms! "
   ]
  },
  {
   "cell_type": "code",
   "execution_count": null,
   "metadata": {
    "id": "Hy8yjaSwgM_t"
   },
   "outputs": [],
   "source": [
    "\n",
    "def compute_statistics(age_and_salary_data):\n",
    "    histograms(...)   # call the function histograms to plot Ages and Salaries\n",
    "    age = ...\n",
    "    salary = ...\n",
    "    return ...        # return an array with 2 values: the mean age and mean salary\n",
    "\n",
    "full_stats = compute_statistics(full_data)\n",
    "full_stats"
   ]
  },
  {
   "cell_type": "code",
   "execution_count": null,
   "metadata": {
    "deletable": false,
    "editable": false
   },
   "outputs": [],
   "source": [
    "grader.check(\"q11\")"
   ]
  },
  {
   "cell_type": "markdown",
   "metadata": {
    "id": "4M0nrEZSgNAD"
   },
   "source": [
    "### Simple random sampling\n",
    "\n",
    "In a **simple random sample (SRS) without replacement**, we ensure that when we randomly pick players, each player is selected at most once. Imagine writing down each player's name on a card, putting the cards in an box, and shuffling the box.  Then, pull out cards one by one and set them aside, stopping when the specified sample size is reached."
   ]
  },
  {
   "cell_type": "markdown",
   "metadata": {
    "id": "aVJLGNKmgNAE"
   },
   "source": [
    "### Producing simple random samples\n",
    "Sometimes, it’s useful to take random samples even when we have the data for the whole population. It helps us understand sampling accuracy.\n",
    "\n",
    "### `sample`\n",
    "\n",
    "The table method `sample` produces a random sample from the table. By default, it draws at random **with replacement** from the rows of a table. It takes in the sample size as its argument and returns a **table** with only the rows that were selected. \n",
    "\n",
    "Run the cell below to see an example call to `sample()` with a sample size of 5, with replacement."
   ]
  },
  {
   "cell_type": "code",
   "execution_count": null,
   "metadata": {
    "id": "ZSgxThEdgNAF"
   },
   "outputs": [],
   "source": [
    "# Just run this cell\n",
    "\n",
    "salary_data.sample(5)"
   ]
  },
  {
   "cell_type": "markdown",
   "metadata": {
    "id": "cNOQGhdbgNAG"
   },
   "source": [
    "The optional argument `with_replacement=False` can be passed through `sample()` to specify that the sample should be drawn **without replacement**.\n",
    "\n",
    "Run the cell below to see an example call to `sample()` with a sample size of 5, without replacement."
   ]
  },
  {
   "cell_type": "code",
   "execution_count": null,
   "metadata": {
    "id": "rN_uA4CJgNAH"
   },
   "outputs": [],
   "source": [
    "# Just run this cell\n",
    "\n",
    "salary_data.sample(5, with_replacement=False)"
   ]
  },
  {
   "cell_type": "markdown",
   "metadata": {
    "deletable": false,
    "editable": false
   },
   "source": [
    "**Question 1.2.** Produce a simple random sample of size 44 from `full_data`. Run your analysis on it again.  Run the cell a few times to see how the histograms and statistics change across different samples.\n",
    "\n",
    "*Note:* Unless specified otherwise, simple random sample is drawn **without replacement**.\n",
    "\n",
    "- How much does the average age change across samples? \n",
    "- What about average salary?"
   ]
  },
  {
   "cell_type": "code",
   "execution_count": null,
   "metadata": {
    "id": "LFmL8oLcgNAL",
    "scrolled": false
   },
   "outputs": [],
   "source": [
    "my_small_data = ...\n",
    "my_small_stats = compute_statistics(...) \n",
    "\n",
    "my_small_stats"
   ]
  },
  {
   "cell_type": "markdown",
   "metadata": {
    "id": "Sff_cPHegNAM",
    "manual_problem_id": "q_3_7_samples"
   },
   "source": [
    "*Write your answer here, replacing this text.*"
   ]
  },
  {
   "cell_type": "code",
   "execution_count": null,
   "metadata": {
    "deletable": false,
    "editable": false
   },
   "outputs": [],
   "source": [
    "grader.check(\"q12\")"
   ]
  },
  {
   "cell_type": "markdown",
   "metadata": {
    "deletable": false,
    "editable": false
   },
   "source": [
    "**Question 1.3.** As in the previous question, analyze several simple random samples of size 100 from `full_data` by using the `compute_statistics` function.\n",
    "\n",
    "- Do the histogram shapes seem to change more or less across samples of 100 than across samples of size 44?  \n",
    "- Are the sample averages and histograms closer to their true values/shape for age or for salary?  What did you expect to see?"
   ]
  },
  {
   "cell_type": "code",
   "execution_count": null,
   "metadata": {
    "id": "CVDa_vFSgNAN",
    "scrolled": true
   },
   "outputs": [],
   "source": [
    "\n",
    "my_large_data = ...\n",
    "my_large_stats = compute_statistics(...)\n",
    "\n",
    "\n",
    "# Solution\n",
    "my_large_data = full_data.sample(100, with_replacement=False) \n",
    "my_large_stats = compute_statistics(my_large_data)\n",
    "\n",
    "my_large_stats"
   ]
  },
  {
   "cell_type": "markdown",
   "metadata": {
    "id": "1NHtFfBpgNAO",
    "manual_problem_id": "large_srs_q"
   },
   "source": [
    "*Write your answer here, replacing this text.*"
   ]
  },
  {
   "cell_type": "code",
   "execution_count": null,
   "metadata": {
    "deletable": false,
    "editable": false
   },
   "outputs": [],
   "source": [
    "grader.check(\"q13\")"
   ]
  },
  {
   "cell_type": "markdown",
   "metadata": {},
   "source": [
    "## 2. More Practice with Simulations"
   ]
  },
  {
   "cell_type": "markdown",
   "metadata": {},
   "source": [
    "We can use `np.random.choice` to simulate multiple trials."
   ]
  },
  {
   "cell_type": "markdown",
   "metadata": {
    "deletable": false,
    "editable": false
   },
   "source": [
    "**Question 2.1.** Stephanie decides to spend her Friday night rolling a standard six-sided die. She wants to know what her total score would be if she rolled the die 100 times. Write code that simulates her total score after 100 rolls. \n",
    "\n",
    "*Hint:* First decide the possible values you can take in the experiment with one roll (point values in this case). Then use `np.random.choice` to simulate Stephanie’s rolls. Finally, sum up the rolls to get Stephanie's total score."
   ]
  },
  {
   "cell_type": "code",
   "execution_count": null,
   "metadata": {},
   "outputs": [],
   "source": [
    "possible_point_values = ...\n",
    "simulated_tosses = ...\n",
    "total_score = ...\n",
    "total_score"
   ]
  },
  {
   "cell_type": "code",
   "execution_count": null,
   "metadata": {
    "deletable": false,
    "editable": false
   },
   "outputs": [],
   "source": [
    "grader.check(\"q21\")"
   ]
  },
  {
   "cell_type": "markdown",
   "metadata": {
    "deletable": false,
    "editable": false
   },
   "source": [
    "**Question 2.2.** Write a function called `one_hundred_rolls` to simulate Stephanie's game of rolling a die 100 times and totaling up the scores."
   ]
  },
  {
   "cell_type": "code",
   "execution_count": null,
   "metadata": {},
   "outputs": [],
   "source": [
    "def one_hundred_rolls():\n",
    "    ..."
   ]
  },
  {
   "cell_type": "code",
   "execution_count": null,
   "metadata": {
    "deletable": false,
    "editable": false
   },
   "outputs": [],
   "source": [
    "grader.check(\"q22\")"
   ]
  },
  {
   "cell_type": "markdown",
   "metadata": {},
   "source": [
    "Run the following cell a few times to see the total score of 100 rolls."
   ]
  },
  {
   "cell_type": "code",
   "execution_count": null,
   "metadata": {},
   "outputs": [],
   "source": [
    "one_hundred_rolls()"
   ]
  },
  {
   "cell_type": "markdown",
   "metadata": {
    "deletable": false,
    "editable": false
   },
   "source": [
    "**Question 2.3.** Simulate Stephanie playing her one_hundred_rolls game 10000 times.  Make a histogram of the total score distributions (code provided)."
   ]
  },
  {
   "cell_type": "code",
   "execution_count": null,
   "metadata": {},
   "outputs": [],
   "source": [
    "total_scores = make_array()\n",
    "...\n",
    "\n",
    "# histogram of the total_scores\n",
    "Table().with_column('Total score of 100 rolls', total_scores).hist('Total score of 100 rolls')"
   ]
  },
  {
   "cell_type": "code",
   "execution_count": null,
   "metadata": {
    "deletable": false,
    "editable": false
   },
   "outputs": [],
   "source": [
    "grader.check(\"q23\")"
   ]
  },
  {
   "cell_type": "markdown",
   "metadata": {},
   "source": [
    "Achilles the turtle sits on the number line. Achilles loves long random walks that last a total of 100 times steps. At each time step, Achilles moves based on the following scheme: He flips a coin and moves one step to the right if the coin comes up heads or one step to the left if the coin comes up tails. (from Midterm Review Worksheet)"
   ]
  },
  {
   "cell_type": "markdown",
   "metadata": {
    "deletable": false,
    "editable": false
   },
   "source": [
    "**Question 2.4.** Assuming that Achilles’ coin is fair, write a function called `one_walk` that simulates one random walk of 100 time steps and returns how far from the origin  (this should be a positive number) Achilles ends up at the end of his walk. You may assume that Achilles always starts from the origin."
   ]
  },
  {
   "cell_type": "code",
   "execution_count": null,
   "metadata": {},
   "outputs": [],
   "source": [
    "def one_walk():\n",
    "    ...\n"
   ]
  },
  {
   "cell_type": "code",
   "execution_count": null,
   "metadata": {
    "deletable": false,
    "editable": false
   },
   "outputs": [],
   "source": [
    "grader.check(\"q24\")"
   ]
  },
  {
   "cell_type": "markdown",
   "metadata": {},
   "source": [
    "Run the following cell a few times to see the distance of one random walk."
   ]
  },
  {
   "cell_type": "code",
   "execution_count": null,
   "metadata": {},
   "outputs": [],
   "source": [
    "one_walk()"
   ]
  },
  {
   "cell_type": "markdown",
   "metadata": {
    "deletable": false,
    "editable": false
   },
   "source": [
    "**Question 2.5.** Assuming that Achilles’ coin is fair, we would like to simulate what would happen if Achilles took 10000 different random walks. Complete the simulation below and keep track of how far Achilles ends up from the origin in each of his walks in an array called `distances`. Make a histogram of the distribution of `distances`.\n",
    "\n",
    "A sample histogram looks like:\n",
    "<img src=\"Q2.5_graph.PNG\" width=\"400px\">"
   ]
  },
  {
   "cell_type": "code",
   "execution_count": null,
   "metadata": {},
   "outputs": [],
   "source": [
    "# this code may take some time to run\n",
    "distances = make_array()\n",
    "...\n",
    "    \n",
    "# histogram of the distances\n",
    "..."
   ]
  },
  {
   "cell_type": "code",
   "execution_count": null,
   "metadata": {
    "deletable": false,
    "editable": false
   },
   "outputs": [],
   "source": [
    "grader.check(\"q25\")"
   ]
  },
  {
   "cell_type": "markdown",
   "metadata": {
    "deletable": false,
    "editable": false
   },
   "source": [
    "**Question 2.6.** Achilles goes for a walk and claims that at the end of his walk, he ended up 35 steps away from the origin which happens to be the location of an ice cream store.  Does it seem to you that Achilles took a **random** walk?  What question(s) would you ask Achilles?"
   ]
  },
  {
   "cell_type": "markdown",
   "metadata": {},
   "source": [
    "*Write your answer here, replacing this text.*"
   ]
  },
  {
   "cell_type": "markdown",
   "metadata": {
    "id": "HkQUuUWMgNAO"
   },
   "source": [
    "Congratulations, you're done with Lab 8! \n",
    "Be sure to:\n",
    "\n",
    "   * run all the tests,\n",
    "   * save your notebook and download a pdf version of it,\n",
    "   * submit your work to Canvas,\n",
    "   * and ask a lab instructors to check you off."
   ]
  }
 ],
 "metadata": {
  "anaconda-cloud": {},
  "colab": {
   "name": "lab05.ipynb",
   "provenance": []
  },
  "kernelspec": {
   "display_name": "Python 3 (ipykernel)",
   "language": "python",
   "name": "python3"
  },
  "language_info": {
   "codemirror_mode": {
    "name": "ipython",
    "version": 3
   },
   "file_extension": ".py",
   "mimetype": "text/x-python",
   "name": "python",
   "nbconvert_exporter": "python",
   "pygments_lexer": "ipython3",
   "version": "3.7.8"
  }
 },
 "nbformat": 4,
 "nbformat_minor": 1
}

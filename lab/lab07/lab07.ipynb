{
 "cells": [
  {
   "cell_type": "markdown",
   "metadata": {
    "id": "prQS6LJPgM-e"
   },
   "source": [
    "# Data 80A/180A Data Science for Everyone"
   ]
  },
  {
   "cell_type": "markdown",
   "metadata": {
    "deletable": false,
    "editable": false,
    "id": "D0VrIrjFgM-n"
   },
   "source": [
    "# Lab 7: Simulations\n",
    "\n",
    "#### Today's lab\n",
    "\n",
    "Welcome to Lab 7! In today's lab, you'll learn about:\n",
    "\n",
    "\n",
    "1. [9 Randomness](https://www.inferentialthinking.com/chapters/09/Randomness.html)\n",
    "2. [9.2 Iteration](https://www.inferentialthinking.com/chapters/09/2/Iteration.html) \n",
    "3. [9.3 Simulations](https://www.inferentialthinking.com/chapters/09/3/Simulation.html)\n",
    "4. [9.5 Probability](https://inferentialthinking.com/chapters/09/5/Finding_Probabilities.html)\n",
    "\n",
    "First, set up the tests and imports by running the cell below."
   ]
  },
  {
   "cell_type": "code",
   "execution_count": null,
   "metadata": {
    "deletable": false,
    "editable": false,
    "id": "K8w9J2d9gM-o"
   },
   "outputs": [],
   "source": [
    "# Run this cell, but please don't change it.\n",
    "\n",
    "# These lines import the Numpy and Datascience modules.\n",
    "import numpy as np\n",
    "from datascience import *\n",
    "\n",
    "# These lines do some fancy plotting magic\n",
    "import matplotlib\n",
    "%matplotlib inline\n",
    "import matplotlib.pyplot as plt\n",
    "plt.style.use('fivethirtyeight')\n",
    "              \n",
    "import otter\n",
    "grader = otter.Notebook()"
   ]
  },
  {
   "cell_type": "markdown",
   "metadata": {
    "deletable": false,
    "editable": false,
    "id": "0Uw2pvthgM-p"
   },
   "source": [
    "## 1. Conditional Statements and Randomness \n",
    "\n",
    "In Python, the boolean data type contains only two unique values:  `True` and `False`. Expressions containing comparison operators such as `<` (less than), `>` (greater than), and `==` (equal to) evaluate to Boolean values. A list of common comparison operators can be found below!\n",
    "\n",
    "<img src=\"comparisons.png\">"
   ]
  },
  {
   "cell_type": "markdown",
   "metadata": {
    "id": "Bv6y4JaVgM-r"
   },
   "source": [
    "Run the cells below to see an example of a comparison operator in action."
   ]
  },
  {
   "cell_type": "code",
   "execution_count": null,
   "metadata": {
    "id": "wBPMRNUkgM-r",
    "outputId": "4ddf8df4-a77e-4583-b48b-bcf348cb2ace"
   },
   "outputs": [],
   "source": [
    "3 > 1 + 1"
   ]
  },
  {
   "cell_type": "code",
   "execution_count": null,
   "metadata": {},
   "outputs": [],
   "source": [
    "x = 7\n",
    "4 <= x <= 10"
   ]
  },
  {
   "cell_type": "markdown",
   "metadata": {
    "id": "KuszAhbsgM-t"
   },
   "source": [
    "We can even assign the result of a comparison operation to a variable."
   ]
  },
  {
   "cell_type": "code",
   "execution_count": null,
   "metadata": {
    "id": "4j30SVwjgM-t",
    "outputId": "0bb6117a-7885-4ff3-fc7a-528ffa277fcb"
   },
   "outputs": [],
   "source": [
    "result = (10 / 2 == 5)  # the condition is inside the parenthesis \n",
    "result"
   ]
  },
  {
   "cell_type": "markdown",
   "metadata": {
    "id": "Yi6AZaQmgM-v"
   },
   "source": [
    "Arrays are compatible with comparison operators. The output is an array of boolean values."
   ]
  },
  {
   "cell_type": "code",
   "execution_count": null,
   "metadata": {
    "id": "g4tobe64gM-w",
    "outputId": "c92cc4a5-28e2-4e63-acd3-e7e039cfefca"
   },
   "outputs": [],
   "source": [
    "make_array(1, 5, 7, 8, 3, -1) > 3"
   ]
  },
  {
   "cell_type": "markdown",
   "metadata": {
    "id": "2SUP2U4JgM-x"
   },
   "source": [
    "One day, when you come home after a long week, you see a hot bowl of nachos waiting on the dining table! Let's say that whenever you take a nacho from the bowl, it will either have only **cheese**, only **salsa**, **both** cheese and salsa, or **neither** cheese nor salsa (a sad tortilla chip indeed). \n",
    "\n",
    "Let's try and simulate taking nachos from the bowl at random using the function, `np.random.choice(...)`."
   ]
  },
  {
   "cell_type": "markdown",
   "metadata": {
    "id": "B7vSUOdxgM-y"
   },
   "source": [
    "### `np.random.choice`\n",
    "\n",
    "`np.random.choice` picks one item at random from the given **array**. It is equally likely to pick any of the items. Run the cell below several times, and observe how the results change."
   ]
  },
  {
   "cell_type": "code",
   "execution_count": null,
   "metadata": {
    "id": "0zbmM7tJgM-z",
    "outputId": "accde6b1-a585-467e-b7c3-16d61fa9ecc4"
   },
   "outputs": [],
   "source": [
    "nachos = make_array('cheese', 'salsa', 'both', 'neither')\n",
    "np.random.choice(nachos)"
   ]
  },
  {
   "cell_type": "markdown",
   "metadata": {
    "id": "EjA7WhscgM-0"
   },
   "source": [
    "To repeat this process multiple times, pass in an int `n` as the second argument to return `n` different random choices. By default, `np.random.choice` samples **with replacement** and returns an *array* of items. \n",
    "\n",
    "Run the next cell to see an example of sampling with replacement 10 times from the `nachos` array."
   ]
  },
  {
   "cell_type": "code",
   "execution_count": null,
   "metadata": {
    "id": "FOXbKVcEgM-1",
    "outputId": "57ca8ba2-a86e-4425-e19a-d332fd314cdc"
   },
   "outputs": [],
   "source": [
    "np.random.choice(nachos, 10)"
   ]
  },
  {
   "cell_type": "markdown",
   "metadata": {
    "id": "SX1hitkWgM-3"
   },
   "source": [
    "To count the number of times a certain type of nacho is randomly chosen, we can use `np.count_nonzero`"
   ]
  },
  {
   "cell_type": "markdown",
   "metadata": {
    "id": "VABW1OotgM-4"
   },
   "source": [
    "### `np.count_nonzero`\n",
    "\n",
    "`np.count_nonzero` counts the number of non-zero values that appear in an array. When an array of boolean values are passed through the function, it will count the number of `True` values (remember that in Python, `True` is coded as 1 and `False` is coded as 0.)\n",
    "\n",
    "Run the next cell to see an example that uses `np.count_nonzero`."
   ]
  },
  {
   "cell_type": "code",
   "execution_count": null,
   "metadata": {
    "id": "cDYsSeoGgM-5",
    "outputId": "93693a39-486b-4450-e7c8-4813fe892204"
   },
   "outputs": [],
   "source": [
    "np.count_nonzero(make_array(True, False, False, True, True))"
   ]
  },
  {
   "cell_type": "markdown",
   "metadata": {
    "deletable": false,
    "editable": false,
    "id": "HNsBOxBKgM-6"
   },
   "source": [
    "**Question 1.1.** Assume we have an array `ten_nachos` as shown below. Find the number of nachos with only `cheese` using code (do not hardcode the answer).  \n",
    "\n",
    "*Hint:* Our solution involves a comparison operator (e.g. `=`, `<`, ...) and the `np.count_nonzero` method."
   ]
  },
  {
   "cell_type": "code",
   "execution_count": null,
   "metadata": {
    "id": "80uV65fugM-8",
    "outputId": "ec6f662f-2fc0-4751-e912-6b993f9f1cf0"
   },
   "outputs": [],
   "source": [
    "ten_nachos = make_array('neither', 'cheese', 'both', 'both', 'cheese', 'salsa', 'both', 'neither', 'cheese', 'both')\n",
    "number_cheese = ...\n",
    "number_cheese"
   ]
  },
  {
   "cell_type": "code",
   "execution_count": null,
   "metadata": {
    "deletable": false,
    "editable": false,
    "id": "dDsUtbFKgM-9",
    "outputId": "aab4d717-c3a7-4730-cc66-9cdc7c16df56"
   },
   "outputs": [],
   "source": [
    "grader.check(\"q11\")"
   ]
  },
  {
   "cell_type": "markdown",
   "metadata": {
    "deletable": false,
    "editable": false
   },
   "source": [
    "**Conditional Statements**\n",
    "\n",
    "In Python, the boolean data type contains only two unique values:  `True` and `False`. Expressions containing comparison operators such as `<` (less than), `>` (greater than), and `==` (equal to) evaluate to Boolean values. A list of common comparison operators can be found below!\n",
    "\n",
    "<img src=\"comparisons.png\">\n",
    "\n",
    "\n",
    "A conditional statement is a multi-line statement that allows Python to choose among different alternatives based on the truth value of an expression.\n",
    "\n",
    "Here is a basic example.\n",
    "\n",
    "```\n",
    "def sign(x):\n",
    "    if x > 0:\n",
    "        return 'Positive'\n",
    "    elif x == 0:\n",
    "        return 'Zero'\n",
    "    else:\n",
    "        return 'Negative'\n",
    "```\n",
    "\n",
    "If the input `x` is greater than `0`, we return the string `'Positive'`. \n",
    "    If the input `x` is `0`, we return the string `'Zero'`.  Otherwise, we return `'Negative'`.\n",
    "\n",
    "If we want to test multiple conditions at once, we use the following general format.\n",
    "\n",
    "```\n",
    "if <if expression>:\n",
    "    <if body>\n",
    "elif <elif expression 0>:\n",
    "    <elif body 0>\n",
    "elif <elif expression 1>:\n",
    "    <elif body 1>\n",
    "...\n",
    "else:\n",
    "    <else body>\n",
    "```\n",
    "\n",
    "Only the body for the first conditional expression that is true will be evaluated. Each `if` and `elif` expression is evaluated and considered in order, starting at the top. As soon as a true value is found, the corresponding body is executed, and the rest of the conditional statement is skipped. If none of the `if` or `elif` expressions are true, then the `else body` is executed. \n",
    "\n",
    "For more examples and explanation, refer to the section on conditional statements [here](https://inferentialthinking.com/chapters/09/1/Conditional_Statements.html)."
   ]
  },
  {
   "cell_type": "markdown",
   "metadata": {
    "deletable": false,
    "editable": false,
    "id": "2cmAWMIygM_B"
   },
   "source": [
    "**Question 1.2.** Complete the following conditional statement so that if the number of nachos with cheese in `ten_nachos` is less than `5`, the string `'More please'` is assigned to the variable `more_nachos`.\n",
    "\n",
    "*Hint*: You should be using `number_cheese` from Question 1.1."
   ]
  },
  {
   "cell_type": "code",
   "execution_count": null,
   "metadata": {
    "for_assignment_type": "student",
    "id": "31qHTxXlgM_D",
    "outputId": "04dee9bb-313a-477c-b26e-eda9df1c4376"
   },
   "outputs": [],
   "source": [
    "more_nachos = 'No more!'\n",
    "\n",
    "if ...:\n",
    "    more_nachos = 'More please!'\n",
    "    \n",
    "more_nachos\n"
   ]
  },
  {
   "cell_type": "code",
   "execution_count": null,
   "metadata": {
    "deletable": false,
    "id": "jWD_ilypgM_G",
    "outputId": "a1f60a90-6d7d-4482-c098-45d8ac8ef7c8"
   },
   "outputs": [],
   "source": [
    "grader.check(\"q12\")"
   ]
  },
  {
   "cell_type": "markdown",
   "metadata": {
    "deletable": false,
    "editable": false,
    "id": "JT1XJeLdgM_K"
   },
   "source": [
    "**Question 1.3.** Write a function called `nacho_reaction` that returns a reaction (as a string) based on the type of nacho passed in as an argument. Use the table below to match the nacho type to the appropriate reaction.\n",
    "\n",
    "<img src=\"nacho_reactions.png\">\n",
    "\n",
    "*Hint:* If you're failing the test, double check the spelling of your reactions."
   ]
  },
  {
   "cell_type": "code",
   "execution_count": null,
   "metadata": {
    "for_assignment_type": "student",
    "id": "TZRaV--TgM_M",
    "outputId": "890a07a4-945a-4296-e63c-afc5251cdc4b"
   },
   "outputs": [],
   "source": [
    "\n",
    "def nacho_reaction(nacho):\n",
    "    if nacho == \"cheese\":\n",
    "        return ...\n",
    "    ... :\n",
    "        ...\n",
    "    ... :\n",
    "        ...\n",
    "    ... :\n",
    "        ...\n",
    "\n",
    "spicy_nacho = nacho_reaction('salsa')\n",
    "spicy_nacho"
   ]
  },
  {
   "cell_type": "code",
   "execution_count": null,
   "metadata": {
    "deletable": false,
    "editable": false,
    "id": "QPZyqmjDgM_O"
   },
   "outputs": [],
   "source": [
    "grader.check(\"q13\")"
   ]
  },
  {
   "cell_type": "markdown",
   "metadata": {
    "deletable": false,
    "editable": false,
    "id": "cDpLRiTFgM_O"
   },
   "source": [
    "**Question 1.4.** Create a table `ten_nachos_reactions` that consists of the nachos in `ten_nachos` as well as the reactions for each of those nachos. The columns should be called `Nachos` and `Reactions`.\n",
    "\n",
    "*Hint:* Use the `apply` method. \n",
    "\n",
    "The table should look like:  \n",
    "<img src=\"nachos.png\" width=\"150\">"
   ]
  },
  {
   "cell_type": "code",
   "execution_count": null,
   "metadata": {
    "for_assignment_type": "student",
    "id": "8xMdfaYbgM_P"
   },
   "outputs": [],
   "source": [
    "ten_nachos_reactions = Table().with_column('Nachos', ten_nachos)\n",
    "...\n",
    "\n",
    "ten_nachos_reactions"
   ]
  },
  {
   "cell_type": "code",
   "execution_count": null,
   "metadata": {
    "deletable": false,
    "editable": false,
    "id": "pfcpQ5m1gM_Q"
   },
   "outputs": [],
   "source": [
    "grader.check(\"q14\")"
   ]
  },
  {
   "cell_type": "markdown",
   "metadata": {
    "deletable": false,
    "editable": false,
    "id": "3p1fUXEPgM_R"
   },
   "source": [
    "**Question 1.5.** Using code, find the number of 'Wow!' reactions for the nachos in `ten_nachos_reactions`.\n",
    "\n",
    "*Hint:* Use `np.count_nonzero` to count the number of rows with the value 'Wow!' in the `Reactions` column.  "
   ]
  },
  {
   "cell_type": "code",
   "execution_count": null,
   "metadata": {
    "id": "oJbehg_UgM_S"
   },
   "outputs": [],
   "source": [
    "number_wow_reactions = ...\n",
    "number_wow_reactions"
   ]
  },
  {
   "cell_type": "code",
   "execution_count": null,
   "metadata": {
    "deletable": false,
    "editable": false,
    "id": "-UOi35k2gM_S"
   },
   "outputs": [],
   "source": [
    "grader.check(\"q15\")"
   ]
  },
  {
   "cell_type": "markdown",
   "metadata": {
    "id": "8maQc7LLgM_T"
   },
   "source": [
    "## 2. For Loops and Simulation\n",
    "\n",
    "Using a `for` statement, we can perform a task multiple times. This is known as iteration."
   ]
  },
  {
   "cell_type": "markdown",
   "metadata": {
    "id": "c4zMvw3QgM_U"
   },
   "source": [
    "One use of iteration is to loop through a set of values. For instance, we can print out all of the colors of the rainbow."
   ]
  },
  {
   "cell_type": "code",
   "execution_count": null,
   "metadata": {
    "id": "_bwyrERDgM_V"
   },
   "outputs": [],
   "source": [
    "rainbow = make_array(\"red\", \"orange\", \"yellow\", \"green\", \"blue\", \"indigo\", \"violet\")\n",
    "\n",
    "for color in rainbow:\n",
    "    print(color)"
   ]
  },
  {
   "cell_type": "markdown",
   "metadata": {
    "id": "RX6n0Z0AgM_W"
   },
   "source": [
    "We can see that the indented part of the `for` loop, known as the body, is executed once for each item in `rainbow`. The name `color` is assigned to the next value in `rainbow` at the start of each iteration. Note that the name `color` is arbitrary; we could easily have named it something else. The important thing is we stay consistent throughout the `for` loop. "
   ]
  },
  {
   "cell_type": "code",
   "execution_count": null,
   "metadata": {
    "id": "9TnlrTpqgM_X"
   },
   "outputs": [],
   "source": [
    "for another_name in rainbow:\n",
    "    print(another_name)"
   ]
  },
  {
   "cell_type": "markdown",
   "metadata": {
    "id": "4dliv4f6gM_Y"
   },
   "source": [
    "In general, however, we would like the variable name to be somewhat informative. "
   ]
  },
  {
   "cell_type": "markdown",
   "metadata": {
    "deletable": false,
    "editable": false,
    "id": "2g6xPr7HgM_Z"
   },
   "source": [
    "**Question 2.1.** In the following cell, we've loaded the text of _Pride and Prejudice_ by Jane Austen, split it into individual words, and stored these words in an array `p_and_p_words`. Using a `for` loop, assign `longer_than_five_count` to the number of words in the novel that are more than 5 letters long.\n",
    "\n",
    "*Hint*: You can find the number of letters in a word with the `len` function."
   ]
  },
  {
   "cell_type": "code",
   "execution_count": null,
   "metadata": {
    "for_assignment_type": "student",
    "id": "D0i5kibcgM_a"
   },
   "outputs": [],
   "source": [
    "austen_string = open('Austen_PrideAndPrejudice.txt', encoding='utf-8').read()\n",
    "p_and_p_words = np.array(austen_string.split())\n",
    "\n",
    "longer_than_five_count = 0\n",
    "\n",
    "for word in p_and_p_words:\n",
    "    ...\n",
    "\n",
    "\n",
    "longer_than_five_count        "
   ]
  },
  {
   "cell_type": "code",
   "execution_count": null,
   "metadata": {
    "deletable": false,
    "editable": false,
    "id": "iqZAweRkgM_b"
   },
   "outputs": [],
   "source": [
    "grader.check(\"q21\") "
   ]
  },
  {
   "cell_type": "markdown",
   "metadata": {
    "deletable": false,
    "editable": false
   },
   "source": [
    "**Question 2.2.**  Using a `for` loop, modify your solution for Qestion 2.1 so that your code counts:\n",
    "\n",
    "* `shorter_than_five` -- the number of words in the novel that are less than 5 letters long\n",
    "\n",
    "* `between_five_and_nine`-- the number of words in the novel that are between 5 (inclusive) and 9 (inclusive) letters long\n",
    "\n",
    "* `between_ten_and_fourteen`-- the number of words in the novel that are between 10 (inclusive) and 14 (inclusive) letters long\n",
    "\n",
    "* `longer_than_fourteen` -- the number of words in the novel that are more than 14 letters long"
   ]
  },
  {
   "cell_type": "code",
   "execution_count": null,
   "metadata": {},
   "outputs": [],
   "source": [
    "shorter_than_five = 0\n",
    "between_five_and_nine = 0\n",
    "between_ten_and_fourteen = 0\n",
    "longer_than_fourteen = 0\n",
    "\n",
    "for word in p_and_p_words:\n",
    "    ...\n",
    "    \n",
    "    \n",
    "    \n",
    "        \n",
    "print('Shorter than 5 count is', shorter_than_five)\n",
    "print('Between 5 and 9 count is', between_five_and_nine)\n",
    "print('Between 10 and 14 count is', between_ten_and_fourteen)\n",
    "print('Longer than 14 count is', longer_than_fourteen)"
   ]
  },
  {
   "cell_type": "code",
   "execution_count": null,
   "metadata": {
    "deletable": false,
    "editable": false
   },
   "outputs": [],
   "source": [
    "grader.check(\"q22\")"
   ]
  },
  {
   "cell_type": "markdown",
   "metadata": {},
   "source": [
    "Another use of iteration is to loop through some code a fixed number of times.  For example, if we want to loop through some code `6` times, we write \n",
    "\n",
    "    for i in np.arange(6):\n",
    "        # body of loop\n",
    "    \n",
    "where `i` acts as a counter, starting at `0` in the first iteration of the loop, then `i` becomes `1` in the second iteration of the loop, and so on until `i` ends at `5` in the sixth iteration of the loop."
   ]
  },
  {
   "cell_type": "markdown",
   "metadata": {
    "deletable": false,
    "editable": false,
    "id": "DRkn_2oZgM_c"
   },
   "source": [
    "**Question 2.3.** Using a simulation with 10,000 trials, assign `num_different` to the number of times, in 10,000 trials, that two words picked uniformly at random (with replacement) from Pride and Prejudice have different lengths. \n",
    "\n",
    "*Hint 1*: What function did we use in Section 1 to sample at random with replacement from an array? \n",
    "\n",
    "*Hint 2*: Remember that `!=` checks for non-equality between two items."
   ]
  },
  {
   "cell_type": "code",
   "execution_count": null,
   "metadata": {
    "for_assignment_type": "student",
    "id": "BF4wGkfEgM_e"
   },
   "outputs": [],
   "source": [
    "trials = 10000\n",
    "num_different = 0\n",
    "\n",
    "for i in np.arange(trials):\n",
    "    # first: pick two words at random p_and_p_words\n",
    "    ...\n",
    "    \n",
    "    # second: if the length of these two words are different, then increase num_different by 1\n",
    "    ...\n",
    "\n",
    "    \n",
    "        \n",
    "num_different"
   ]
  },
  {
   "cell_type": "code",
   "execution_count": null,
   "metadata": {
    "deletable": false,
    "editable": false,
    "id": "mNql8gCLgM_f"
   },
   "outputs": [],
   "source": [
    "grader.check(\"q23\")"
   ]
  },
  {
   "cell_type": "markdown",
   "metadata": {
    "deletable": false,
    "editable": false,
    "id": "ONIoUF5UgM_g"
   },
   "source": [
    "We can also use `np.random.choice` to simulate multiple trials.\n",
    "\n",
    "**Question 2.4.** Allie is playing darts. Her dartboard contains ten equal-sized zones with point values from 1 to 10. Write code that simulates her total score after 1000 dart tosses.\n",
    "\n",
    "*Hint:* First decide the possible values you can take in the experiment (point values in this case). Then use `np.random.choice` to simulate Allie's tosses. Finally, sum up the scores to get Allie's total score."
   ]
  },
  {
   "cell_type": "code",
   "execution_count": null,
   "metadata": {
    "for_assignment_type": "student",
    "id": "6jl15JqugM_h"
   },
   "outputs": [],
   "source": [
    "possible_point_values = ...  # create an array containing values from 1 to 10 \n",
    "num_tosses = 1000\n",
    "simulated_tosses = ...\n",
    "total_score = sum(...)\n",
    "\n",
    "total_score"
   ]
  },
  {
   "cell_type": "code",
   "execution_count": null,
   "metadata": {
    "deletable": false,
    "editable": false,
    "id": "FXNAGpgYgM_i"
   },
   "outputs": [],
   "source": [
    "grader.check(\"q24\")"
   ]
  },
  {
   "cell_type": "markdown",
   "metadata": {
    "id": "8maQc7LLgM_T"
   },
   "source": [
    "## 3. Probability\n"
   ]
  },
  {
   "cell_type": "markdown",
   "metadata": {},
   "source": [
    "Now we turn our attention to probability.  For a refresher, read section [9.5 Probability](https://inferentialthinking.com/chapters/09/5/Finding_Probabilities.html)"
   ]
  },
  {
   "cell_type": "markdown",
   "metadata": {
    "deletable": false,
    "editable": false
   },
   "source": [
    "**Question 3.1.**  Our DATA 80A/180A class has launched a TikTok account.  Four members of the class — Almudena, Ben, Natasha, and Santiago — have auditioned to perform an activity in a promotional TikTok video for DATA 80A/180A. Prof. Wang will select exactly one of the four auditioners at random (with equal probability). The selected auditioner then selects exactly one\n",
    "activity at random (with equal probability) — from among *acting, dancing,* and *singing* — to perform in the video.\n",
    "Determine the probability that Ben is selected to perform and they choose to dance in the video.\n",
    "Express your answer as a Python expression (e.g., 1/8 + 1/9)."
   ]
  },
  {
   "cell_type": "code",
   "execution_count": null,
   "metadata": {},
   "outputs": [],
   "source": [
    "Ben_dance = ...\n",
    "Ben_dance"
   ]
  },
  {
   "cell_type": "code",
   "execution_count": null,
   "metadata": {
    "deletable": false,
    "editable": false
   },
   "outputs": [],
   "source": [
    "grader.check(\"q31\")"
   ]
  },
  {
   "cell_type": "markdown",
   "metadata": {
    "deletable": false,
    "editable": false
   },
   "source": [
    "**Questions 3.2.** Determine the probability that Ben is selected to perform but they choose **not** to dance\n",
    "in the video."
   ]
  },
  {
   "cell_type": "code",
   "execution_count": null,
   "metadata": {},
   "outputs": [],
   "source": [
    "Ben_not_dance = ...\n",
    "Ben_not_dance"
   ]
  },
  {
   "cell_type": "code",
   "execution_count": null,
   "metadata": {
    "deletable": false,
    "editable": false
   },
   "outputs": [],
   "source": [
    "grader.check(\"q32\")"
   ]
  },
  {
   "cell_type": "markdown",
   "metadata": {
    "deletable": false,
    "editable": false
   },
   "source": [
    "**Questions 3.3.** Prof. Wang did not select Almudena to perform in the video. Determine the probability\n",
    "that Ben was selected."
   ]
  },
  {
   "cell_type": "code",
   "execution_count": null,
   "metadata": {},
   "outputs": [],
   "source": [
    "Ben_selected = ...\n",
    "Ben_selected"
   ]
  },
  {
   "cell_type": "code",
   "execution_count": null,
   "metadata": {
    "deletable": false,
    "editable": false
   },
   "outputs": [],
   "source": [
    "grader.check(\"q33\")"
   ]
  },
  {
   "cell_type": "markdown",
   "metadata": {
    "deletable": false,
    "editable": false
   },
   "source": [
    "**Questions 3.4.** The course members decide to release a TikTok video at the beginning of every week of the semester, for a\n",
    "total of fourteen (14) weeks. Each video has an 15% chance of going viral in each of the first 24 hours\n",
    "after its release. Thereafter, it has no chance of going viral.  Determine the probability that none of the fourteen videos goes viral within 24 hours of release."
   ]
  },
  {
   "cell_type": "code",
   "execution_count": null,
   "metadata": {},
   "outputs": [],
   "source": [
    "no_viral_videos = ...\n",
    "no_viral_videos"
   ]
  },
  {
   "cell_type": "code",
   "execution_count": null,
   "metadata": {
    "deletable": false,
    "editable": false
   },
   "outputs": [],
   "source": [
    "grader.check(\"q34\")"
   ]
  },
  {
   "cell_type": "markdown",
   "metadata": {
    "deletable": false,
    "editable": false
   },
   "source": [
    "**Question 3.5.** After seeing the DATA 80A/180A class transition to a position of social-media influence, the CS 63\n",
    "class turns jealous and decides to pirate DATA 80A/180A TikTok videos.\n",
    "There is a 9% chance that the CS 63 class members copy three (3) or more DATA 80A/180A TikTok videos, a 21%\n",
    "chance that they copy exactly two (2) DATA 80A/180A TikTok videos, and a 62% chance that they do not\n",
    "pirate (copy) any TikTok video from DATA 80A/180A.\n",
    "Determine the probability that the CS63 class members copy exactly one DATA 80A/180A TikTok video. Express your\n",
    "answer as a percent."
   ]
  },
  {
   "cell_type": "code",
   "execution_count": null,
   "metadata": {},
   "outputs": [],
   "source": [
    "exactly_one = ...\n",
    "exactly_one"
   ]
  },
  {
   "cell_type": "code",
   "execution_count": null,
   "metadata": {
    "deletable": false,
    "editable": false
   },
   "outputs": [],
   "source": [
    "grader.check(\"q35\")"
   ]
  },
  {
   "cell_type": "markdown",
   "metadata": {
    "id": "HkQUuUWMgNAO"
   },
   "source": [
    "Congratulations, you're done with Lab 7! \n",
    "\n",
    "Be sure to:\n",
    "\n",
    "   * run all the tests,\n",
    "   * save your notebook and download a pdf version of it,\n",
    "   * submit your work to Canvas,\n",
    "   * and ask a lab instructors to check you off."
   ]
  }
 ],
 "metadata": {
  "anaconda-cloud": {},
  "colab": {
   "name": "lab05.ipynb",
   "provenance": []
  },
  "kernelspec": {
   "display_name": "Python 3 (ipykernel)",
   "language": "python",
   "name": "python3"
  },
  "language_info": {
   "codemirror_mode": {
    "name": "ipython",
    "version": 3
   },
   "file_extension": ".py",
   "mimetype": "text/x-python",
   "name": "python",
   "nbconvert_exporter": "python",
   "pygments_lexer": "ipython3",
   "version": "3.7.8"
  }
 },
 "nbformat": 4,
 "nbformat_minor": 1
}

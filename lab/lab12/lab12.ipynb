{
 "cells": [
  {
   "cell_type": "markdown",
   "id": "549a6b4a",
   "metadata": {},
   "source": [
    "# Data 80A/180A Data Science for Everyone"
   ]
  },
  {
   "cell_type": "markdown",
   "id": "7c5e8d7c",
   "metadata": {},
   "source": [
    "# Lab 12: Regression\n",
    "\n",
    "Welcome to Lab 12!\n",
    "\n",
    "In today's lab, we will get some hands-on practice with linear regression. \n",
    "\n",
    "Reading:\n",
    "\n",
    "* [Chap 15.2 The Regression Line](https://www.inferentialthinking.com/chapters/15/2/Regression_Line.html#the-regression-line).\n",
    "\n",
    "First, set up the notebook by running the cell below."
   ]
  },
  {
   "cell_type": "code",
   "execution_count": null,
   "id": "ff881fb7",
   "metadata": {
    "execution": {
     "iopub.execute_input": "2021-11-08T17:37:52.947734Z",
     "iopub.status.busy": "2021-11-08T17:37:52.947091Z",
     "iopub.status.idle": "2021-11-08T17:37:56.048148Z",
     "shell.execute_reply": "2021-11-08T17:37:56.047571Z"
    }
   },
   "outputs": [],
   "source": [
    "# Run this cell, but please don't change it.\n",
    "\n",
    "# These lines import the Numpy and Datascience modules.\n",
    "import numpy as np\n",
    "from datascience import *\n",
    "\n",
    "# These lines do some fancy plotting magic.\n",
    "import matplotlib\n",
    "%matplotlib inline\n",
    "import matplotlib.pyplot as plots\n",
    "plots.style.use('fivethirtyeight')\n",
    "import warnings\n",
    "warnings.simplefilter('ignore', FutureWarning)\n",
    "\n",
    "import otter\n",
    "grader = otter.Notebook()"
   ]
  },
  {
   "cell_type": "markdown",
   "id": "4d7cd090",
   "metadata": {},
   "source": [
    "# 1. How Faithful is Old Faithful? \n",
    "\n",
    "Old Faithful is a geyser in Yellowstone National Park that is famous for eruption on a fairly regular schedule. Run the cell below to see Old Faithful in action!"
   ]
  },
  {
   "cell_type": "code",
   "execution_count": null,
   "id": "f7ef2bc5",
   "metadata": {
    "execution": {
     "iopub.execute_input": "2021-11-08T17:37:56.062712Z",
     "iopub.status.busy": "2021-11-08T17:37:56.062121Z",
     "iopub.status.idle": "2021-11-08T17:37:56.126394Z",
     "shell.execute_reply": "2021-11-08T17:37:56.125817Z"
    }
   },
   "outputs": [],
   "source": [
    "# For the curious: this is how to display a YouTube video in a\n",
    "# Jupyter notebook.  The argument to YouTubeVideo is the part\n",
    "# of the URL (called a \"query parameter\") that identifies the\n",
    "# video.  For example, the full URL for this video is:\n",
    "#   https://www.youtube.com/watch?v=wE8NDuzt8eg\n",
    "from IPython.display import YouTubeVideo\n",
    "YouTubeVideo(\"wE8NDuzt8eg\")"
   ]
  },
  {
   "cell_type": "markdown",
   "id": "4cee5515",
   "metadata": {},
   "source": [
    "Some of Old Faithful's eruptions last longer than others.  Whenever there is a long eruption, it is usually followed by an even longer wait before the next eruption. If you visit Yellowstone, you might want to predict when the next eruption will happen, so that you can see the rest of the park instead of waiting by the geyser.\n",
    " \n",
    "Today, we will use a dataset on eruption durations and waiting times to see if we can make such predictions accurately with linear regression.\n",
    "\n",
    "The dataset has one row for each observed eruption.  It includes the following columns:\n",
    "- `duration`: Eruption duration, in minutes\n",
    "- `wait`: Time between this eruption and the next, also in minutes\n",
    "\n",
    "Run the next cell to load the dataset."
   ]
  },
  {
   "cell_type": "code",
   "execution_count": null,
   "id": "50b8af7d",
   "metadata": {
    "execution": {
     "iopub.execute_input": "2021-11-08T17:37:56.131009Z",
     "iopub.status.busy": "2021-11-08T17:37:56.130449Z",
     "iopub.status.idle": "2021-11-08T17:37:56.140613Z",
     "shell.execute_reply": "2021-11-08T17:37:56.140028Z"
    }
   },
   "outputs": [],
   "source": [
    "faithful = Table.read_table(\"faithful.csv\")\n",
    "faithful"
   ]
  },
  {
   "cell_type": "markdown",
   "id": "9f501289",
   "metadata": {
    "deletable": false,
    "editable": false
   },
   "source": [
    "**Question 1.1.** The following statements are the unordered steps of linear regression.\n",
    "\n",
    "1. Compute the parameters of the regression line: the slope and the intercept.\n",
    "2. Evaluate the regression line by computing the line’s RMSE and analyzing the residuals plot.\n",
    "3. Use the regression line to generate predictions for each x value.\n",
    "4. Determine if linear regression is a reasonable method by visualizing your data and computing the correlation coefficient.\n",
    "\n",
    "Make an array called least_squares_order that contains the correct order of a linear regression analysis, where the first item of the array is the first step of an linear regression analysis and the last item of the array is the last step of an linear regression analysis."
   ]
  },
  {
   "cell_type": "code",
   "execution_count": null,
   "id": "466182d3",
   "metadata": {
    "execution": {
     "iopub.execute_input": "2021-11-08T17:37:56.144940Z",
     "iopub.status.busy": "2021-11-08T17:37:56.144383Z",
     "iopub.status.idle": "2021-11-08T17:37:56.146989Z",
     "shell.execute_reply": "2021-11-08T17:37:56.146546Z"
    }
   },
   "outputs": [],
   "source": [
    "least_squares_order = ..."
   ]
  },
  {
   "cell_type": "code",
   "execution_count": null,
   "id": "30fda958",
   "metadata": {
    "deletable": false,
    "editable": false
   },
   "outputs": [],
   "source": [
    "grader.check(\"q1_1\")"
   ]
  },
  {
   "cell_type": "markdown",
   "id": "f1365e86",
   "metadata": {},
   "source": [
    "We would like to use linear regression to make predictions, but that won't work well if the data aren't roughly linearly related.  To check that, we should look at the data."
   ]
  },
  {
   "cell_type": "markdown",
   "id": "009eaa12",
   "metadata": {
    "deletable": false,
    "editable": false
   },
   "source": [
    "**Question 1.2.** Make a scatter plot of the data.  It's conventional to put the column we want to **predict** on the **vertical axis** and the other column on the horizontal axis.\n"
   ]
  },
  {
   "cell_type": "code",
   "execution_count": null,
   "id": "6d7d814a",
   "metadata": {
    "execution": {
     "iopub.execute_input": "2021-11-08T17:37:56.254323Z",
     "iopub.status.busy": "2021-11-08T17:37:56.229346Z",
     "iopub.status.idle": "2021-11-08T17:37:56.661938Z",
     "shell.execute_reply": "2021-11-08T17:37:56.661477Z"
    }
   },
   "outputs": [],
   "source": [
    "..."
   ]
  },
  {
   "cell_type": "markdown",
   "id": "7a1d9a50",
   "metadata": {
    "deletable": false,
    "editable": false
   },
   "source": [
    "**Question 1.3.** Are eruption duration and waiting time roughly linearly related based on the scatter plot above? Is this relationship positive?"
   ]
  },
  {
   "cell_type": "markdown",
   "id": "cf7a4168",
   "metadata": {},
   "source": [
    "_Type your answer here, replacing this text._"
   ]
  },
  {
   "cell_type": "markdown",
   "id": "96dfefc6",
   "metadata": {},
   "source": [
    "We're going to continue with the assumption that they are linearly related, so it's reasonable to use linear regression to analyze this data.\n",
    "\n",
    "We'd next like to plot the data in standard units. If you don't remember the definition of standard units, textbook section [14.2](https://www.inferentialthinking.com/chapters/14/2/Variability.html#standard-units) might help!"
   ]
  },
  {
   "cell_type": "markdown",
   "id": "2fe47d85",
   "metadata": {
    "deletable": false,
    "editable": false
   },
   "source": [
    "**Question 1.4.** Compute the mean and standard deviation of the eruption durations and waiting times.  **Then** create a table called `faithful_standard` containing the eruption durations and waiting times in standard units.  The columns should be named `duration (standard units)` and `wait (standard units)`."
   ]
  },
  {
   "cell_type": "code",
   "execution_count": null,
   "id": "444b5d11",
   "metadata": {
    "execution": {
     "iopub.execute_input": "2021-11-08T17:37:56.722736Z",
     "iopub.status.busy": "2021-11-08T17:37:56.721653Z",
     "iopub.status.idle": "2021-11-08T17:37:56.725668Z",
     "shell.execute_reply": "2021-11-08T17:37:56.725207Z"
    },
    "for_assignment_type": "solution"
   },
   "outputs": [],
   "source": [
    "duration_mean = ...\n",
    "duration_std = ...\n",
    "wait_mean = ...\n",
    "wait_std = ...\n",
    "\n",
    "faithful_standard = Table().with_columns(\n",
    "    \"duration (standard units)\", ...,\n",
    "    \"wait (standard units)\", ...)\n",
    "faithful_standard"
   ]
  },
  {
   "cell_type": "code",
   "execution_count": null,
   "id": "6a1c2634",
   "metadata": {
    "deletable": false,
    "editable": false
   },
   "outputs": [],
   "source": [
    "grader.check(\"q1_4\")"
   ]
  },
  {
   "cell_type": "markdown",
   "id": "8d011aa8",
   "metadata": {
    "deletable": false,
    "editable": false
   },
   "source": [
    "**Question 1.5.** Plot the data again, but this time in standard units."
   ]
  },
  {
   "cell_type": "code",
   "execution_count": null,
   "id": "319dc46d",
   "metadata": {
    "execution": {
     "iopub.execute_input": "2021-11-08T17:37:56.954670Z",
     "iopub.status.busy": "2021-11-08T17:37:56.941867Z",
     "iopub.status.idle": "2021-11-08T17:37:57.443830Z",
     "shell.execute_reply": "2021-11-08T17:37:57.444256Z"
    }
   },
   "outputs": [],
   "source": [
    "..."
   ]
  },
  {
   "cell_type": "markdown",
   "id": "25ba24fd",
   "metadata": {},
   "source": [
    "You'll notice that this plot looks the same as the last one!  However, the data and axes are scaled differently.  So it's important to read the ticks on the axes."
   ]
  },
  {
   "cell_type": "markdown",
   "id": "9c3cfc8d",
   "metadata": {
    "deletable": false,
    "editable": false
   },
   "source": [
    "**Question 1.6.** Among the following numbers, which would you guess is closest to the correlation between eruption duration and waiting time in this dataset?\n",
    "\n",
    "1. -1\n",
    "2. 0\n",
    "3. 1\n",
    "\n",
    "Assign `correlation` to the number corresponding to your guess (either 1, 2 or 3)."
   ]
  },
  {
   "cell_type": "code",
   "execution_count": null,
   "id": "8160c891",
   "metadata": {
    "execution": {
     "iopub.execute_input": "2021-11-08T17:37:57.448680Z",
     "iopub.status.busy": "2021-11-08T17:37:57.448105Z",
     "iopub.status.idle": "2021-11-08T17:37:57.450182Z",
     "shell.execute_reply": "2021-11-08T17:37:57.450647Z"
    }
   },
   "outputs": [],
   "source": [
    "correlation = ..."
   ]
  },
  {
   "cell_type": "code",
   "execution_count": null,
   "id": "597bd9ef",
   "metadata": {
    "deletable": false,
    "editable": false
   },
   "outputs": [],
   "source": [
    "grader.check(\"q1_6\")"
   ]
  },
  {
   "cell_type": "markdown",
   "id": "683b5d0e",
   "metadata": {
    "deletable": false,
    "editable": false
   },
   "source": [
    "**Question 1.7.** Compute the correlation coefficient `r`.  \n",
    "\n",
    "*Hint:* Use `faithful_standard`.  Section [15.1](https://www.inferentialthinking.com/chapters/15/1/Correlation.html#calculating-r) explains how to do this."
   ]
  },
  {
   "cell_type": "code",
   "execution_count": null,
   "id": "7bc69691",
   "metadata": {
    "execution": {
     "iopub.execute_input": "2021-11-08T17:37:57.524708Z",
     "iopub.status.busy": "2021-11-08T17:37:57.524064Z",
     "iopub.status.idle": "2021-11-08T17:37:57.527998Z",
     "shell.execute_reply": "2021-11-08T17:37:57.527533Z"
    }
   },
   "outputs": [],
   "source": [
    "r = ...\n",
    "r"
   ]
  },
  {
   "cell_type": "code",
   "execution_count": null,
   "id": "dbf1084d",
   "metadata": {
    "deletable": false,
    "editable": false
   },
   "outputs": [],
   "source": [
    "grader.check(\"q1_7\")"
   ]
  },
  {
   "cell_type": "markdown",
   "id": "9bafc428",
   "metadata": {},
   "source": [
    "## 2. The regression line\n",
    "Recall that the **correlation** is the **slope of the regression line when the data are put in standard units**.\n",
    "\n",
    "The next cell plots the regression line in standard units:\n",
    "\n",
    "$$\\text{waiting time in standard units} = r \\times \\text{eruption duration in standard units}$$\n",
    "\n",
    "Then, it plots the data in standard units again, for comparison."
   ]
  },
  {
   "cell_type": "code",
   "execution_count": null,
   "id": "bf07b806",
   "metadata": {
    "execution": {
     "iopub.execute_input": "2021-11-08T17:37:57.632898Z",
     "iopub.status.busy": "2021-11-08T17:37:57.555543Z",
     "iopub.status.idle": "2021-11-08T17:37:58.225835Z",
     "shell.execute_reply": "2021-11-08T17:37:58.225262Z"
    }
   },
   "outputs": [],
   "source": [
    "def plot_data_and_line(dataset, x, y, point_0, point_1):\n",
    "    \"\"\"Makes a scatter plot of the dataset, along with a line passing through two points.\"\"\"\n",
    "    dataset.scatter(x, y, label=\"data\")\n",
    "    xs, ys = zip(point_0, point_1)\n",
    "    plots.plot(xs, ys, label=\"regression line\")\n",
    "    plots.legend(bbox_to_anchor=(1.5,.8))\n",
    "\n",
    "plot_data_and_line(faithful_standard, \n",
    "                   \"duration (standard units)\", \n",
    "                   \"wait (standard units)\", \n",
    "                   [-2, -2*r], \n",
    "                   [2, 2*r])"
   ]
  },
  {
   "cell_type": "markdown",
   "id": "69e4367a",
   "metadata": {
    "deletable": false,
    "editable": false
   },
   "source": [
    "How would you take a point in standard units and convert it back to original units?  We'd have to \"stretch\" its horizontal position by `duration_std` and its vertical position by `wait_std`. That means the same thing would happen to the slope of the line.\n",
    "\n",
    "Stretching a line horizontally makes it less steep, so we **divide** the slope by the stretching factor.  Stretching a line vertically makes it more steep, so we **multiply** the slope by the stretching factor.\n",
    "\n",
    "**Question 2.1.** Calculate the slope of the regression line in original units, and assign it to `slope`.\n",
    "\n",
    "(If the \"stretching\" explanation is unintuitive, consult section [15.2](https://www.inferentialthinking.com/chapters/15/2/Regression_Line.html#the-equation-of-the-regression-line) in the textbook.)\n"
   ]
  },
  {
   "cell_type": "code",
   "execution_count": null,
   "id": "a122851f",
   "metadata": {
    "execution": {
     "iopub.execute_input": "2021-11-08T17:37:58.231091Z",
     "iopub.status.busy": "2021-11-08T17:37:58.230502Z",
     "iopub.status.idle": "2021-11-08T17:37:58.233513Z",
     "shell.execute_reply": "2021-11-08T17:37:58.233920Z"
    }
   },
   "outputs": [],
   "source": [
    "slope = ...\n",
    "slope"
   ]
  },
  {
   "cell_type": "code",
   "execution_count": null,
   "id": "51b49688",
   "metadata": {
    "deletable": false,
    "editable": false
   },
   "outputs": [],
   "source": [
    "grader.check(\"q2_1\")"
   ]
  },
  {
   "cell_type": "markdown",
   "id": "17320a73",
   "metadata": {
    "deletable": false,
    "editable": false
   },
   "source": [
    "We know that the regression line passes through the point `(duration_mean, wait_mean)`. Recall that the equation of the regression line in the original units is:\n",
    "\n",
    "$$\\text{waiting time} = \\text{slope} \\times \\text{eruption duration} + (- \\text{slope} \\times \\text{duration_mean + wait_mean})$$\n",
    "\n",
    "\n",
    "**Question 2.2.** Calculate the intercept in original units and assign it to `intercept`. [Section 15.2.5](https://inferentialthinking.com/chapters/15/2/Regression_Line.html#the-regression-line-in-standard-units) may be helpful."
   ]
  },
  {
   "cell_type": "code",
   "execution_count": null,
   "id": "4266bb52",
   "metadata": {
    "execution": {
     "iopub.execute_input": "2021-11-08T17:37:58.253656Z",
     "iopub.status.busy": "2021-11-08T17:37:58.253078Z",
     "iopub.status.idle": "2021-11-08T17:37:58.322732Z",
     "shell.execute_reply": "2021-11-08T17:37:58.322222Z"
    }
   },
   "outputs": [],
   "source": [
    "intercept = ...\n",
    "intercept"
   ]
  },
  {
   "cell_type": "code",
   "execution_count": null,
   "id": "4729f958",
   "metadata": {
    "deletable": false,
    "editable": false
   },
   "outputs": [],
   "source": [
    "grader.check(\"q2_2\")"
   ]
  },
  {
   "cell_type": "markdown",
   "id": "8d0e1443",
   "metadata": {
    "deletable": false,
    "editable": false
   },
   "source": [
    "## 3. Investigating the regression line\n",
    "The slope and intercept tell you exactly what the regression line looks like.  To predict the waiting time for an eruption, multiply the eruption's duration by `slope` and then add `intercept`.\n",
    "\n",
    "**Question 3.1.** Compute the predicted waiting time for an eruption that lasts 2 minutes, and for an eruption that lasts 5 minutes.\n"
   ]
  },
  {
   "cell_type": "code",
   "execution_count": null,
   "id": "c29373ea",
   "metadata": {
    "execution": {
     "iopub.execute_input": "2021-11-08T17:37:58.345123Z",
     "iopub.status.busy": "2021-11-08T17:37:58.344290Z",
     "iopub.status.idle": "2021-11-08T17:37:58.349214Z",
     "shell.execute_reply": "2021-11-08T17:37:58.349657Z"
    }
   },
   "outputs": [],
   "source": [
    "two_minute_predicted_waiting_time = ...\n",
    "five_minute_predicted_waiting_time = ...\n",
    "\n",
    "# Here is a helper function to print out your predictions.\n",
    "# Don't modify the code below.\n",
    "def print_prediction(duration, predicted_waiting_time):\n",
    "    print(\"After an eruption lasting\", duration,\n",
    "          \"minutes, we predict you'll wait\", predicted_waiting_time,\n",
    "          \"minutes until the next eruption.\")\n",
    "\n",
    "print_prediction(2, two_minute_predicted_waiting_time)\n",
    "print_prediction(5, five_minute_predicted_waiting_time)"
   ]
  },
  {
   "cell_type": "code",
   "execution_count": null,
   "id": "774e4b3d",
   "metadata": {
    "deletable": false,
    "editable": false
   },
   "outputs": [],
   "source": [
    "grader.check(\"q3_1\")"
   ]
  },
  {
   "cell_type": "markdown",
   "id": "fef17199",
   "metadata": {},
   "source": [
    "The next cell plots the line that goes between those two points, which is (a segment of) the regression line."
   ]
  },
  {
   "cell_type": "code",
   "execution_count": null,
   "id": "94eb9725",
   "metadata": {
    "execution": {
     "iopub.execute_input": "2021-11-08T17:37:58.523520Z",
     "iopub.status.busy": "2021-11-08T17:37:58.521082Z",
     "iopub.status.idle": "2021-11-08T17:37:59.031215Z",
     "shell.execute_reply": "2021-11-08T17:37:59.031633Z"
    },
    "scrolled": true
   },
   "outputs": [],
   "source": [
    "plot_data_and_line(faithful, \"duration\", \"wait\", \n",
    "                   [2, two_minute_predicted_waiting_time], \n",
    "                   [5, five_minute_predicted_waiting_time])"
   ]
  },
  {
   "cell_type": "markdown",
   "id": "531eba63",
   "metadata": {},
   "source": [
    "**Question 3.2.** Make predictions for the waiting time after each eruption in the `faithful` table.  (Of course, we know exactly what the waiting times were!  We are doing this so we can see how accurate our predictions are.)  Put these numbers into a column in a new table called `faithful_predictions`.  Its first row should look like this:\n",
    "\n",
    "|duration|wait|predicted wait|\n",
    "|-|-|-|\n",
    "|3.6|79|72.1011|\n",
    "\n",
    "*Hint:* Your answer can be just one line, though you are not limited to one line.  There is no need for a `for` loop; use array arithmetic instead.\n",
    "\\"
   ]
  },
  {
   "cell_type": "code",
   "execution_count": null,
   "id": "d1da52ba",
   "metadata": {
    "execution": {
     "iopub.execute_input": "2021-11-08T17:37:59.037603Z",
     "iopub.status.busy": "2021-11-08T17:37:59.037073Z",
     "iopub.status.idle": "2021-11-08T17:37:59.040540Z",
     "shell.execute_reply": "2021-11-08T17:37:59.039981Z"
    }
   },
   "outputs": [],
   "source": [
    "faithful_predictions = ...\n",
    "faithful_predictions"
   ]
  },
  {
   "cell_type": "code",
   "execution_count": null,
   "id": "31bc6782",
   "metadata": {
    "deletable": false,
    "editable": false
   },
   "outputs": [],
   "source": [
    "grader.check(\"q3_2\")"
   ]
  },
  {
   "cell_type": "markdown",
   "id": "37520a71",
   "metadata": {
    "deletable": false,
    "editable": false
   },
   "source": [
    "**Question 3.3.** How close were we?  Compute the *residual* for each eruption in the dataset.  The residual is the actual waiting time minus the predicted waiting time.  Add the residuals to `faithful_predictions` as a new column called `residual` and name the resulting table `faithful_residuals`.\n",
    "\n",
    "*Hint:* Again, your code will be much simpler if you don't use a `for` loop."
   ]
  },
  {
   "cell_type": "code",
   "execution_count": null,
   "id": "7d83b610",
   "metadata": {
    "execution": {
     "iopub.execute_input": "2021-11-08T17:37:59.127914Z",
     "iopub.status.busy": "2021-11-08T17:37:59.127357Z",
     "iopub.status.idle": "2021-11-08T17:37:59.130856Z",
     "shell.execute_reply": "2021-11-08T17:37:59.131249Z"
    }
   },
   "outputs": [],
   "source": [
    "faithful_residuals = ...\n",
    "faithful_residuals"
   ]
  },
  {
   "cell_type": "code",
   "execution_count": null,
   "id": "c6398f76",
   "metadata": {
    "deletable": false,
    "editable": false
   },
   "outputs": [],
   "source": [
    "grader.check(\"q3_3\")"
   ]
  },
  {
   "cell_type": "markdown",
   "id": "31579fcd",
   "metadata": {},
   "source": [
    "Here is a plot of the residuals you computed.  Each point corresponds to one eruption.  It shows how much our prediction over- or under-estimated the waiting time."
   ]
  },
  {
   "cell_type": "code",
   "execution_count": null,
   "id": "f0d418c2",
   "metadata": {
    "execution": {
     "iopub.execute_input": "2021-11-08T17:37:59.321919Z",
     "iopub.status.busy": "2021-11-08T17:37:59.238463Z",
     "iopub.status.idle": "2021-11-08T17:37:59.640180Z",
     "shell.execute_reply": "2021-11-08T17:37:59.639714Z"
    }
   },
   "outputs": [],
   "source": [
    "faithful_residuals.scatter(\"duration\", \"residual\", color=\"r\")"
   ]
  },
  {
   "cell_type": "markdown",
   "id": "a94b0c4c",
   "metadata": {},
   "source": [
    "There isn't really a pattern in the residuals, which confirms that it was reasonable to try linear regression.  It's true that there are two separate clouds; the eruption durations seemed to fall into two distinct clusters.  But that's just a pattern in the eruption durations, not a pattern in the relationship between eruption durations and waiting times."
   ]
  },
  {
   "cell_type": "markdown",
   "id": "05316458",
   "metadata": {},
   "source": [
    "Congratulations, you're done with Lab 12! \n",
    "\n",
    "Be sure to:\n",
    "\n",
    "   * run all the tests,\n",
    "   * save your notebook and download a pdf version of it,\n",
    "   * submit your work to Canvas,\n",
    "   * and ask a lab instructors to check you off."
   ]
  }
 ],
 "metadata": {
  "kernelspec": {
   "display_name": "Python 3 (ipykernel)",
   "language": "python",
   "name": "python3"
  },
  "language_info": {
   "codemirror_mode": {
    "name": "ipython",
    "version": 3
   },
   "file_extension": ".py",
   "mimetype": "text/x-python",
   "name": "python",
   "nbconvert_exporter": "python",
   "pygments_lexer": "ipython3",
   "version": "3.7.8"
  }
 },
 "nbformat": 4,
 "nbformat_minor": 5
}

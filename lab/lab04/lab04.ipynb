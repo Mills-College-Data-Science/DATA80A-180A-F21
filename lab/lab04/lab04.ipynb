{
 "cells": [
  {
   "cell_type": "markdown",
   "metadata": {},
   "source": [
    "# Data 80A/180A Data Science for Everyone"
   ]
  },
  {
   "cell_type": "markdown",
   "metadata": {},
   "source": [
    "# Lab 4:  More Tables and  Visualization\n",
    "#### Today's lab\n",
    "\n",
    "Welcome to Lab 4!  \n",
    "\n",
    "In today's lab, you'll see more examples of\n",
    "tables and visualization by exploring social media data, in particular, data related to Facebook.\n",
    "\n",
    "Reading:\n",
    " * [Chapter 6: Tables](https://www.inferentialthinking.com/chapters/06/Tables.html)\n",
    " * [Chapter 7: Visualization](https://www.inferentialthinking.com/chapters/07/Visualization.html)\n",
    "\n",
    "First, set up the tests and imports by running the cell below."
   ]
  },
  {
   "cell_type": "code",
   "execution_count": null,
   "metadata": {
    "deletable": false,
    "editable": false
   },
   "outputs": [],
   "source": [
    "from datascience import *\n",
    "import numpy as np\n",
    "import matplotlib.pyplot as plt\n",
    "%matplotlib inline\n",
    "import otter\n",
    "grader = otter.Notebook()"
   ]
  },
  {
   "cell_type": "markdown",
   "metadata": {
    "deletable": false,
    "editable": false
   },
   "source": [
    "# 1. Social Media Platform Users"
   ]
  },
  {
   "cell_type": "markdown",
   "metadata": {},
   "source": [
    "Facebook, as one of the most popular (if not *the* most popular) social media platforms, has a wide users' base across the world. Let's take a look at the number of users Facebook has."
   ]
  },
  {
   "cell_type": "markdown",
   "metadata": {
    "deletable": false,
    "editable": false
   },
   "source": [
    "**Question 1.1.**  Read in the file `FacebookUsersByCountry2020.csv`."
   ]
  },
  {
   "cell_type": "code",
   "execution_count": null,
   "metadata": {},
   "outputs": [],
   "source": [
    "fb_users = ...\n",
    "fb_users"
   ]
  },
  {
   "cell_type": "code",
   "execution_count": null,
   "metadata": {
    "deletable": false,
    "editable": false
   },
   "outputs": [],
   "source": [
    "grader.check(\"q11\")"
   ]
  },
  {
   "cell_type": "markdown",
   "metadata": {},
   "source": [
    "As you can see, the table is already sorted in the number of facebook users in descending order.  Now we are interested in the 10 countries with the least number of facebook users."
   ]
  },
  {
   "cell_type": "markdown",
   "metadata": {
    "deletable": false,
    "editable": false
   },
   "source": [
    "**Question 1.2.**  Assign `last_ten` to be the last ten rows of the fb_users table.\n",
    "\n",
    "*Hint:* Table 1 displays the expected output."
   ]
  },
  {
   "cell_type": "code",
   "execution_count": null,
   "metadata": {},
   "outputs": [],
   "source": [
    "last_ten = ...\n",
    "last_ten"
   ]
  },
  {
   "cell_type": "markdown",
   "metadata": {},
   "source": [
    "Table 1\n",
    "\n",
    "<img src=\"Q1.2_table.PNG\"/>"
   ]
  },
  {
   "cell_type": "markdown",
   "metadata": {},
   "source": [
    "The numbers for the columns `facebookUsers` and `pop2020` are too large, so they are displayed in the scientific notation. The original dataset also has `pop2020` expressed in thousands (for example, US population is around 330 million or 330,000 thousands).  Let's make all units in millions for both users and population columns by creating a new table `fb_users-cleaned`. "
   ]
  },
  {
   "cell_type": "markdown",
   "metadata": {
    "deletable": false,
    "editable": false
   },
   "source": [
    "**Question 1.3.**  Create a new table `fb_users-cleaned`. Make all units in millions for both users and population columns. \n",
    "\n",
    "*Hint:* Table 2 below displays the expected output."
   ]
  },
  {
   "cell_type": "code",
   "execution_count": null,
   "metadata": {},
   "outputs": [],
   "source": [
    "# create another set of arrays to display the numbers in millions \n",
    "user_array =  ...\n",
    "pop_array = ...\n",
    "\n",
    "# create a new table\n",
    "fb_users_cleaned =  ...\n",
    "fb_users_cleaned"
   ]
  },
  {
   "cell_type": "markdown",
   "metadata": {},
   "source": [
    "Table 2\n",
    "\n",
    "<img src=\"Q1.3_table.png\"/>"
   ]
  },
  {
   "cell_type": "markdown",
   "metadata": {
    "deletable": false,
    "editable": false
   },
   "source": [
    "**Question 1.4.**  Compute the total number of Facebook users, in millions, and set it to `total_fbUsers`."
   ]
  },
  {
   "cell_type": "code",
   "execution_count": null,
   "metadata": {},
   "outputs": [],
   "source": [
    "total_fbUsers =  ...\n",
    "total_fbUsers"
   ]
  },
  {
   "cell_type": "code",
   "execution_count": null,
   "metadata": {
    "deletable": false,
    "editable": false
   },
   "outputs": [],
   "source": [
    "grader.check(\"q14\")"
   ]
  },
  {
   "cell_type": "markdown",
   "metadata": {
    "deletable": false,
    "editable": false
   },
   "source": [
    "**Question 1.5.**  Display a bar graph that shows the top 15 most populus countries.\n",
    "\n",
    "*Hint:* Graph 1 displays the expected output."
   ]
  },
  {
   "cell_type": "code",
   "execution_count": null,
   "metadata": {},
   "outputs": [],
   "source": [
    "\n",
    "..."
   ]
  },
  {
   "cell_type": "markdown",
   "metadata": {
    "deletable": false,
    "editable": false
   },
   "source": [
    "Graph 1\n",
    "\n",
    "<img src=\"Q1.5_graph.png\"/>"
   ]
  },
  {
   "cell_type": "markdown",
   "metadata": {
    "deletable": false,
    "editable": false
   },
   "source": [
    "**Question 1.6.**  Next, generate a bar graph that shows the top 15 countries with the most facebook users (without showing the country's population).\n",
    "\n",
    "*Hint:* Graph 2 displays the expected output."
   ]
  },
  {
   "cell_type": "code",
   "execution_count": null,
   "metadata": {},
   "outputs": [],
   "source": [
    "..."
   ]
  },
  {
   "cell_type": "markdown",
   "metadata": {
    "deletable": false
   },
   "source": [
    "Graph 2\n",
    "\n",
    "<img src=\"Q1.6_graph.png\"/>"
   ]
  },
  {
   "cell_type": "markdown",
   "metadata": {
    "deletable": false,
    "editable": false
   },
   "source": [
    "**Question 1.7.** Next add a column to the `fb_users_cleaned` table showing the percentage of facebookUsers in each country based on their respective population.  Then sort the table by the percentage in descending order.\n",
    "\n",
    "*Hint:* Table 3 below displays the expected output. (You may want to take multiple steps to build the table.)"
   ]
  },
  {
   "cell_type": "code",
   "execution_count": null,
   "metadata": {},
   "outputs": [],
   "source": [
    "\n",
    "\n",
    "sorted_by_percentage = ...\n",
    "sorted_by_percentage   "
   ]
  },
  {
   "cell_type": "markdown",
   "metadata": {
    "deletable": false,
    "editable": false
   },
   "source": [
    "Table 3\n",
    "\n",
    "<img src=\"Q1.7_table.png\"/>"
   ]
  },
  {
   "cell_type": "markdown",
   "metadata": {
    "deletable": false,
    "editable": false
   },
   "source": [
    "**Question 1.8.**  Generate a bar graph of top ten countries in sorted table `sorted_by_percentage`.\n",
    "\n",
    "*Hint:* Graph 3 displays the expected output."
   ]
  },
  {
   "cell_type": "code",
   "execution_count": null,
   "metadata": {},
   "outputs": [],
   "source": [
    " ..."
   ]
  },
  {
   "cell_type": "markdown",
   "metadata": {
    "deletable": false,
    "editable": false
   },
   "source": [
    "Graph 3\n",
    "\n",
    "<img src=\"Q1.8_graph.png\"/>"
   ]
  },
  {
   "cell_type": "markdown",
   "metadata": {
    "deletable": false,
    "editable": false
   },
   "source": [
    "Did you know that Facebook also owns **WhatsApp** and **Instagram**, besides Facebook's **Messenger**? These four apps -- Facebook, Messenger, WhatsApp, and Instagram -- were the top four most downloaded app between 2010 and 2019. \n",
    "\n",
    "In the opinion of Taha Yasseri, a computer science fellow at Oxford Internet Institute, this is not ok. \"One company owning four of the most popular social networking and communication apps, at best, can be described as a data monopoly.\" [BBC news](https://www.bbc.com/news/technology-50838013#:~:text=Facebook%20bought%20Instagram%20in%202012,Facebook%20CEO%20Mark%20Zuckerberg%20has.)\n",
    "\n",
    "Let's take a look at the combined number of users of these four social media platforms -- Facebook, Messenger, WhatsApp, and Instagram -- in billions."
   ]
  },
  {
   "cell_type": "code",
   "execution_count": null,
   "metadata": {
    "deletable": false,
    "editable": false
   },
   "outputs": [],
   "source": [
    "# Just run this cell\n",
    "combined_users = Table.read_table('cum_facebook_users.csv')\n",
    "combined_users"
   ]
  },
  {
   "cell_type": "markdown",
   "metadata": {
    "deletable": false,
    "editable": false
   },
   "source": [
    "**Question 1.9**  Earlier in Question 1.4 we found the maximum number of Facebook users. Find the maximum number of users in the combined group, in billions. "
   ]
  },
  {
   "cell_type": "code",
   "execution_count": null,
   "metadata": {},
   "outputs": [],
   "source": [
    "max_users = ...\n",
    "max_users"
   ]
  },
  {
   "cell_type": "code",
   "execution_count": null,
   "metadata": {
    "deletable": false,
    "editable": false
   },
   "outputs": [],
   "source": [
    "grader.check(\"q19\")"
   ]
  },
  {
   "cell_type": "markdown",
   "metadata": {
    "deletable": false,
    "editable": false
   },
   "source": [
    "**Question 1.10**  The data shows a steady increase in users over time. Create a scatter plot of the combined_users table to depict the increment. Have the quarter_year column in the x-axis.\n",
    "\n",
    "*Hint:* Graph 4 displays the expected output."
   ]
  },
  {
   "cell_type": "code",
   "execution_count": null,
   "metadata": {},
   "outputs": [],
   "source": [
    "\n",
    " ...\n"
   ]
  },
  {
   "cell_type": "markdown",
   "metadata": {
    "deletable": false,
    "editable": false
   },
   "source": [
    "Graph 4\n",
    "\n",
    "<img src=\"Q1.10_graph.png\"/>"
   ]
  },
  {
   "cell_type": "markdown",
   "metadata": {
    "deletable": false,
    "editable": false
   },
   "source": [
    "**Question 1.11**  What is percentage increase in the number of users between the second quarter of 2018 and the fourth quarter of 2020?  \n",
    "\n",
    "*Hint:* The percent increase is equal to difference in the number of users divided by the original number of users (second quarter of 2018)."
   ]
  },
  {
   "cell_type": "code",
   "execution_count": null,
   "metadata": {},
   "outputs": [],
   "source": [
    "\n",
    "\n",
    "percentage_increase = ...\n",
    "percentage_increase"
   ]
  },
  {
   "cell_type": "code",
   "execution_count": null,
   "metadata": {
    "deletable": false,
    "editable": false
   },
   "outputs": [],
   "source": [
    "grader.check(\"q111\")"
   ]
  },
  {
   "cell_type": "markdown",
   "metadata": {},
   "source": [
    "It is an impressive that the total number of users increased  ~0.8 billion since 2018. Which social media platform that Facebook owns contributed most to the increase in the number of users? Let's look at the following graph which shows the most popular apps downloaded prior to February 20, 2020."
   ]
  },
  {
   "cell_type": "markdown",
   "metadata": {
    "deletable": false,
    "editable": false
   },
   "source": [
    "![Whatsapp-Download](Whatsapp-Downloads.png)\n",
    "[Whatsapp Statistics & Facts (2021)](https://seawallalife.com/whatsapp-statistics/#:~:text=There%20were%201%20billion%20WhatsApp,MAU\\)%20compared%20to%20Feb%202016.)"
   ]
  },
  {
   "cell_type": "markdown",
   "metadata": {},
   "source": [
    "We see that WhatsApp (owned by Facebook) was the most popular downloaded app.  Let's look at the number of users on [WhatsApp](https://www.statista.com/statistics/260819/number-of-monthly-active-whatsapp-users/)."
   ]
  },
  {
   "cell_type": "code",
   "execution_count": null,
   "metadata": {
    "deletable": false,
    "editable": false
   },
   "outputs": [],
   "source": [
    "whats_app_user= Table.read_table('month_users_WhatsApp.csv')\n",
    "whats_app_user.show(17)"
   ]
  },
  {
   "cell_type": "markdown",
   "metadata": {
    "deletable": false,
    "editable": false
   },
   "source": [
    "**Question 1.12**  The table above shows a large increase in the number of users in WhatsApp, which contributes to the increase of number of users in the combined total.  Generate a bar graph of the number of users of WhatsApp.\n",
    "\n",
    "\n",
    "*Hint:* Graph 5 displays the expected output."
   ]
  },
  {
   "cell_type": "code",
   "execution_count": null,
   "metadata": {},
   "outputs": [],
   "source": [
    " ..."
   ]
  },
  {
   "cell_type": "markdown",
   "metadata": {
    "deletable": false,
    "editable": false
   },
   "source": [
    "Graph 5\n",
    "\n",
    "<img src=\"Q1.12_graph.png\"/>"
   ]
  },
  {
   "cell_type": "markdown",
   "metadata": {
    "deletable": false
   },
   "source": [
    "# 2. Social Media Platform Revenue\n",
    "\n",
    "Let's take a look at Facebook's revenue (millions) and user numbers (millions) from 2009 to 2020. First create a table by reading in the `facebookRevenueUser.csv` file."
   ]
  },
  {
   "cell_type": "code",
   "execution_count": null,
   "metadata": {
    "deletable": false,
    "editable": false
   },
   "outputs": [],
   "source": [
    "revenues = Table.read_table('facebookRevenueUser.csv')\n",
    "revenues.show(12)"
   ]
  },
  {
   "cell_type": "markdown",
   "metadata": {
    "deletable": false,
    "editable": false
   },
   "source": [
    "**Question 2.1.** Generate a line graph of `monthlyUser`."
   ]
  },
  {
   "cell_type": "code",
   "execution_count": null,
   "metadata": {},
   "outputs": [],
   "source": [
    "..."
   ]
  },
  {
   "cell_type": "markdown",
   "metadata": {
    "deletable": false,
    "editable": false
   },
   "source": [
    "**Question 2.2.** Generate a line graph of `revenue`."
   ]
  },
  {
   "cell_type": "code",
   "execution_count": null,
   "metadata": {},
   "outputs": [],
   "source": [
    "... "
   ]
  },
  {
   "cell_type": "markdown",
   "metadata": {},
   "source": [
    "Notice the revenue line graph is increasing at the higher rate (sharper slope) than the user line graph.  Let's compute the approximate revenue per each user Facebook is generating each year."
   ]
  },
  {
   "cell_type": "markdown",
   "metadata": {
    "deletable": false,
    "editable": false
   },
   "source": [
    "**Question 2.3.** Add column `rev_per_user`to the `revenues` table.\n",
    "\n",
    "*Hint:*  Table 4 displays the expected output."
   ]
  },
  {
   "cell_type": "code",
   "execution_count": null,
   "metadata": {},
   "outputs": [],
   "source": [
    "revenues =  ...\n",
    "revenues.show(12)"
   ]
  },
  {
   "cell_type": "markdown",
   "metadata": {
    "deletable": false,
    "editable": false
   },
   "source": [
    "Table 4\n",
    "\n",
    "<img src=\"Q2.3_table.png\"/>"
   ]
  },
  {
   "cell_type": "markdown",
   "metadata": {},
   "source": [
    "Note the sharp increase of revenue per user for Facebook over time to about $30 per user in 2020."
   ]
  },
  {
   "cell_type": "markdown",
   "metadata": {
    "deletable": false,
    "editable": false
   },
   "source": [
    "**Question 2.4.** Generate a line graph of `rev_per_user`.\n",
    "\n",
    "*Hint:* Graph 6 displays the expected output."
   ]
  },
  {
   "cell_type": "code",
   "execution_count": null,
   "metadata": {},
   "outputs": [],
   "source": [
    " ..."
   ]
  },
  {
   "cell_type": "markdown",
   "metadata": {
    "deletable": false,
    "editable": false
   },
   "source": [
    "Graph 6\n",
    "\n",
    "<img src=\"Q2.4_graph.png\"/>"
   ]
  },
  {
   "cell_type": "markdown",
   "metadata": {
    "deletable": false,
    "editable": false
   },
   "source": [
    "\n",
    "_________________________________\n",
    "\n",
    "\n",
    "Resource used in this lab:\n",
    "\n",
    " * [Facebook Users by Country](https://worldpopulationreview.com/country-rankings/facebook-users-by-country)\n",
    "\n",
    " * [Facebook -- Statistics and Fact](https://www.statista.com/topics/751/facebook/) \n",
    "\n",
    " * [Facebook owns the four most downloaded apps of the decade](https://www.bbc.com/news/technology-50838013#:~:text=Facebook%20bought%20Instagram%20in%202012,Facebook%20CEO%20Mark%20Zuckerberg%20has)\n",
    " \n",
    " * [Cumulative number of monthly Facebook product users as of 4th quarter 2020 (in billions)](https://www.statista.com/statistics/947869/facebook-product-mau/)\n",
    "\n",
    " * [Monthly active WhatsApp users worldwide](https://www.statista.com/statistics/260819/number-of-monthly-active-whatsapp-users/)\n",
    "    \n",
    " * [Facebook Revenue and Usage Statistics](https://www.businessofapps.com/data/facebook-statistics/)"
   ]
  },
  {
   "cell_type": "markdown",
   "metadata": {
    "deletable": false,
    "editable": false
   },
   "source": [
    "Congratulations, you're done with Lab 4!  \n",
    "\n",
    "Be sure to:\n",
    "- **run** all the tests \n",
    "- **save** your notebook and **download** a pdf version of it,\n",
    "- **submit** your work to Canvas, \n",
    "- and ask one of the lab instructors to **check you off**."
   ]
  }
 ],
 "metadata": {
  "kernelspec": {
   "display_name": "Python 3",
   "language": "python",
   "name": "python3"
  },
  "language_info": {
   "codemirror_mode": {
    "name": "ipython",
    "version": 3
   },
   "file_extension": ".py",
   "mimetype": "text/x-python",
   "name": "python",
   "nbconvert_exporter": "python",
   "pygments_lexer": "ipython3",
   "version": "3.8.5"
  }
 },
 "nbformat": 4,
 "nbformat_minor": 4
}

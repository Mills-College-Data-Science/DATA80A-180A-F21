{
 "cells": [
  {
   "cell_type": "markdown",
   "id": "65a9206a",
   "metadata": {},
   "source": [
    "# Data 180A Data Science for Everyone\n",
    "\n",
    "\n",
    "# Project 2: Cardiovascular Disease: Causes, Treatment, and Prevention\n",
    "\n",
    "\n",
    "## Parts 1 and 2: Due Friday, November 5 by 11:59PM\n",
    "\n",
    "### 44 Points\n"
   ]
  },
  {
   "cell_type": "markdown",
   "id": "faebb05b",
   "metadata": {},
   "source": [
    "In this project, you will investigate one of the leading causes of death in the world: Cardiovascular Disease. Your investigation will take you across decades of medical research, and you'll look at multiple causes and effects across four different studies."
   ]
  },
  {
   "cell_type": "markdown",
   "id": "c5bc252f",
   "metadata": {},
   "source": [
    "Here is a roadmap for this project:\n",
    "\n",
    "* In Part 1, we'll investigate the major causes of death in the world during the past century (from 1900 to 2015).\n",
    "* In Part 2, we'll look at data from the Framingham Heart Study, an observational study into cardiovascular health.\n",
    "* In Part 3, we'll examine the effect that hormone replacement therapy has on the risk of coronary heart disease for post-menopausal women using data from the Nurses' Heart Study.\n",
    "* In Part 4, we'll explore the effect that the consumption of saturated fats has on cardiovascular death rates using data from the National Heart-Diet Study."
   ]
  },
  {
   "cell_type": "markdown",
   "id": "260b84fb",
   "metadata": {},
   "source": [
    "### Logistics\n",
    "\n",
    "**Deadline.** **Parts 1 and 2** of this project are **due at 11:59pm on Friday 11/5.  Parts 3 and 4** of this project (to be released later) are **due at 11:59pm on Friday 11/19**.  Projects will be accepted up to 7 days late for 75% credit; after one week, the project will not be accepted for credit. It's **much** better to be early than late, so start working now. \n",
    "\n",
    "**Rules.** You are welcome to discuss questions with other students, but don't share the answers. The experience of solving the problems in this project will prepare you for exams (and life). If someone asks you for the answer, resist! Instead, you can demonstrate how you would solve a similar problem.\n",
    "\n",
    "**Support.** You are not alone! Come to office hours and talk to your classmates.  If you're ever feeling overwhelmed or don't know how to make progress, email your TA or sign up for a peer tutoring session for help. Our TA Ben Hamrick will be holding special office hours related to this project (check Canvas for hours).\n",
    "\n",
    "**Tests.** The tests that are given are **not comprehensive** and passing the tests for a question **does not** mean that you answered the question correctly. Tests usually only check that your table has the correct column labels. However, more tests will be applied to verify the correctness of your submission in order to assign your final score, so be careful and check your work! You might want to create your own checks along the way to see if your answers make sense. Additionally, before you submit, make sure that none of your cells take a very long time to run (several minutes).\n",
    "\n",
    "**Free Response Questions.** Make sure that you put the answers to the written questions in the indicated cell we provide. \n",
    "\n",
    "**Advice.** Develop your answers incrementally. To perform a complicated table manipulation, break it up into steps, perform each step on a different line, give a new name to each result, and check that each intermediate result is what you expect. You can add any additional names or functions you want to the provided cells. Make sure that you are using distinct and meaningful variable names throughout the notebook. Along that line, **DO NOT** reuse the variable names that we use when we grade your answers. For example, in Question 1 of the Global Poverty section, we ask you to assign an answer to `latest`. Do not reassign the variable name `latest` to anything else in your notebook, otherwise there is the chance that our tests grade against what `latest` was reassigned to.\n",
    "\n",
    "You **never** have to use just one line in this project or any others. Use intermediate variables and multiple lines as much as you would like!  \n",
    "\n",
    "To get started, load `datascience`, `numpy`, `plots`, and `otter`."
   ]
  },
  {
   "cell_type": "code",
   "execution_count": null,
   "id": "043c8c67",
   "metadata": {
    "deletable": false,
    "editable": false
   },
   "outputs": [],
   "source": [
    "from datascience import *\n",
    "import numpy as np\n",
    "\n",
    "%matplotlib inline\n",
    "import matplotlib.pyplot as plots\n",
    "plots.style.use('fivethirtyeight')\n",
    "\n",
    "import otter\n",
    "grader = otter.Notebook()"
   ]
  },
  {
   "cell_type": "markdown",
   "id": "59e08544",
   "metadata": {},
   "source": [
    "## Part 1: Causes of Death "
   ]
  },
  {
   "cell_type": "markdown",
   "id": "251bef1f",
   "metadata": {},
   "source": [
    "In order to get a better idea of how we can most effectively prevent deaths, we need to first figure out what the major causes of death are. Run the following cell to read in and view the `causes_of_death` table, which documents the death rate for major causes of deaths over the last century (1900 until 2015).\n",
    "\n",
    "If you're interested, here is the [original dataset](https://www.cdc.gov/nchs/products/databriefs/db355.htm)! The age adjusted rate is the number of deaths per 100,000 population. "
   ]
  },
  {
   "cell_type": "code",
   "execution_count": null,
   "id": "91e2b31f",
   "metadata": {
    "execution": {
     "iopub.execute_input": "2021-10-22T23:57:30.032831Z",
     "iopub.status.busy": "2021-10-22T23:57:30.032184Z",
     "iopub.status.idle": "2021-10-22T23:57:30.043745Z",
     "shell.execute_reply": "2021-10-22T23:57:30.044223Z"
    },
    "scrolled": true
   },
   "outputs": [],
   "source": [
    "causes_of_death = Table.read_table('causes_of_death.csv')\n",
    "causes_of_death.show(5)"
   ]
  },
  {
   "cell_type": "markdown",
   "id": "e541c76e",
   "metadata": {},
   "source": [
    "Each entry in the column **Age Adjusted Death Rate** is a death rate for a specific **Year** and **Cause** of death. \n",
    "\n",
    "If we look at unadjusted data, the age distributions of each sample will influence death rates. In an older population, we would expect death rates to be higher for all causes since old age is associated with higher risk of death. To compare death rates without worrying about differences in the demographics of our populations, we adjust the data for age.\n",
    "\n",
    "The **Age Adjusted** specification in the death rate column tells us that the values shown are the death rates that would have existed if the population under study in a specific year had the same age distribution as the \"standard\" population, a baseline. \n",
    "\n",
    "You aren't responsible for knowing how to do this adjustment, but should understand why we adjust for age and what the consequences of working with unadjusted data would be. "
   ]
  },
  {
   "cell_type": "markdown",
   "id": "dddcf139",
   "metadata": {
    "deletable": false,
    "editable": false
   },
   "source": [
    "**Question 1.1: (2 pts)** What are all the different causes of death in this dataset? Assign `unique_causes` to an array of all the unique causes of death. \n",
    "\n",
    "*Hint:* You should use table methods to determine your solution. Do not hard-code your solution."
   ]
  },
  {
   "cell_type": "code",
   "execution_count": null,
   "id": "efb2293b",
   "metadata": {
    "deletable": false,
    "execution": {
     "iopub.execute_input": "2021-10-22T23:57:30.076903Z",
     "iopub.status.busy": "2021-10-22T23:57:30.075993Z",
     "iopub.status.idle": "2021-10-22T23:57:30.081748Z",
     "shell.execute_reply": "2021-10-22T23:57:30.080697Z"
    },
    "manual_problem_id": "part_1_unique_causes"
   },
   "outputs": [],
   "source": [
    "unique_causes = ...\n",
    "sorted(unique_causes)"
   ]
  },
  {
   "cell_type": "code",
   "execution_count": null,
   "id": "edc3451c",
   "metadata": {
    "deletable": false,
    "editable": false
   },
   "outputs": [],
   "source": [
    "grader.check(\"q1_1\")"
   ]
  },
  {
   "cell_type": "markdown",
   "id": "0d10e4d3",
   "metadata": {
    "deletable": false,
    "editable": false
   },
   "source": [
    "**Question 1.2: (3 pts)** We would like to plot the death rate for each disease over time. To do so, we must create a table with one column for each cause and one row for each year.\n",
    "\n",
    "Create a table called `causes_for_plotting`. It should have one column called `Year`, and then a column with age-adjusted death rates for each of the causes you found in Question 1. There should be as many of these columns in `causes_for_plotting` as there are causes in Question 1.\n",
    "\n",
    "*Hint*: Use `pivot`, and think about how the `first` function might be useful in getting the **Age Adjusted Death Rate** for each cause and year combination.  Your plot should look like:\n",
    "\n",
    "<img src =\"Q1.2_table.PNG\">"
   ]
  },
  {
   "cell_type": "code",
   "execution_count": null,
   "id": "ffb1e6aa",
   "metadata": {
    "deletable": false,
    "execution": {
     "iopub.execute_input": "2021-10-22T23:57:30.109749Z",
     "iopub.status.busy": "2021-10-22T23:57:30.108753Z",
     "iopub.status.idle": "2021-10-22T23:57:30.162624Z",
     "shell.execute_reply": "2021-10-22T23:57:30.163053Z"
    }
   },
   "outputs": [],
   "source": [
    "# This function may be useful.\n",
    "def first(x):\n",
    "    return x.item(0)\n",
    "\n",
    "causes_for_plotting = ...\n",
    "causes_for_plotting.show(5)"
   ]
  },
  {
   "cell_type": "code",
   "execution_count": null,
   "id": "6376a0d3",
   "metadata": {
    "deletable": false,
    "editable": false
   },
   "outputs": [],
   "source": [
    "grader.check(\"q1_2\")"
   ]
  },
  {
   "cell_type": "markdown",
   "id": "123a4ea0",
   "metadata": {},
   "source": [
    "Let's take a look at how age-adjusted death rates have changed across different causes over time. Run the cell below to compare Heart Disease (a chronic disease) and Influenza and Pneumonia (infectious diseases)."
   ]
  },
  {
   "cell_type": "code",
   "execution_count": null,
   "id": "474f70bf",
   "metadata": {
    "execution": {
     "iopub.execute_input": "2021-10-22T23:57:30.246892Z",
     "iopub.status.busy": "2021-10-22T23:57:30.221678Z",
     "iopub.status.idle": "2021-10-22T23:57:30.482881Z",
     "shell.execute_reply": "2021-10-22T23:57:30.482305Z"
    }
   },
   "outputs": [],
   "source": [
    "causes_for_plotting.select('Year', \"Heart Disease\", \"Influenza and Pneumonia\").plot('Year')"
   ]
  },
  {
   "cell_type": "markdown",
   "id": "a3e61875",
   "metadata": {},
   "source": [
    "Beginning in 1900 and continuing until 1950, we observe that death rates for Influenza and Pneumonia decrease while death rates for Heart Disease increase. This phenomenon is known as the epidemiological transition: in developed countries, the severity of infectious disease has decreased, but chronic disease has become more widespread. Coronary heart disease (CHD) is one of the most deadly chronic diseases that has emerged in the past century, and more healthcare resources have been invested to studying it.\n",
    "\n",
    "Run the cell below to see what a plot of the data would have looked like had you been living in 1950. CHD was the leading cause of death and had killed millions of people without warning. It had become twice as lethal in just a few decades and people didn't understand why this was happening."
   ]
  },
  {
   "cell_type": "code",
   "execution_count": null,
   "id": "b6a3ed4b",
   "metadata": {
    "execution": {
     "iopub.execute_input": "2021-10-22T23:57:30.577568Z",
     "iopub.status.busy": "2021-10-22T23:57:30.488055Z",
     "iopub.status.idle": "2021-10-22T23:57:30.848244Z",
     "shell.execute_reply": "2021-10-22T23:57:30.849071Z"
    }
   },
   "outputs": [],
   "source": [
    "# Do not change this line\n",
    "causes_for_plotting.where('Year', are.below_or_equal_to(1950)).plot('Year')"
   ]
  },
  {
   "cell_type": "markdown",
   "id": "a9693b41",
   "metadata": {},
   "source": [
    "The view from 2016 looks a lot less scary, however, since we know it eventually went down. The decline in CHD deaths is one of the greatest public health triumphs of the last half century. That decline represents many millions of saved lives, and it was not inevitable. The Framingham Heart Study, in particular, was the first to discover the associations between heart disease and risk factors like smoking, high cholesterol, high blood pressure, obesity, and lack of exercise."
   ]
  },
  {
   "cell_type": "code",
   "execution_count": null,
   "id": "1b8f3b0f",
   "metadata": {
    "execution": {
     "iopub.execute_input": "2021-10-22T23:57:30.883660Z",
     "iopub.status.busy": "2021-10-22T23:57:30.882961Z",
     "iopub.status.idle": "2021-10-22T23:57:31.138790Z",
     "shell.execute_reply": "2021-10-22T23:57:31.138229Z"
    },
    "for_assignment_type": "solution",
    "scrolled": true
   },
   "outputs": [],
   "source": [
    "# Do not change this line\n",
    "causes_for_plotting.plot('Year')"
   ]
  },
  {
   "cell_type": "markdown",
   "id": "0c9e883c",
   "metadata": {},
   "source": [
    "Let's examine the graph above. You'll see that in the 1960s, the death rate due to heart disease steadily declines. Up until then, the effects of smoking, blood pressure, and diet on the cardiovascular system were unknown to researchers. Once these factors started to be noticed, doctors were able recommend a lifestyle change for at-risk patients to prevent heart attacks and heart problems.\n",
    "\n",
    "Note, however, that the death rate for heart disease is still higher than the death rates of most other causes. Even though the death rate is starkly decreasing, there's still a lot we don't understand about the causes (both direct and indirect) of heart disease."
   ]
  },
  {
   "cell_type": "markdown",
   "id": "ec77347e",
   "metadata": {},
   "source": [
    "## Part 2: The Framingham Heart Study"
   ]
  },
  {
   "cell_type": "markdown",
   "id": "9b82a013",
   "metadata": {},
   "source": [
    "The [Framingham Heart Study](https://en.wikipedia.org/wiki/Framingham_Heart_Study) is an observational study of cardiovascular health. The initial study followed over 5,000 volunteers from  Framingham, Massachusetts for several decades, and followup studies even looked at their descendants. In this part of the project, we'll investigate some of the study's key findings about cholesterol and heart disease.\n",
    "\n",
    "Run the cell below to examine data for 3,842 subjects from the first wave of the study, collected in 1956."
   ]
  },
  {
   "cell_type": "code",
   "execution_count": null,
   "id": "dcd03174",
   "metadata": {
    "execution": {
     "iopub.execute_input": "2021-10-22T23:57:31.144757Z",
     "iopub.status.busy": "2021-10-22T23:57:31.144119Z",
     "iopub.status.idle": "2021-10-22T23:57:31.172870Z",
     "shell.execute_reply": "2021-10-22T23:57:31.172252Z"
    }
   },
   "outputs": [],
   "source": [
    "framingham = Table.read_table('framingham.csv')\n",
    "framingham"
   ]
  },
  {
   "cell_type": "markdown",
   "id": "52210c46",
   "metadata": {},
   "source": [
    "Each row contains data from one subject. The first seven columns describe the subject at the time of their initial medical exam at the start of the study. The last column, `ANYCHD`, tells us whether the subject developed some form of heart disease at any point after the start of the study; a value of 1 indicates that they **did** develop heart disease and a value of 0 indicates that they **did not** develop heart disease.\n",
    "\n",
    "You may have noticed that the table contains fewer rows than subjects in the original study -- we are excluding subjects who already had heart disease or had missing data."
   ]
  },
  {
   "cell_type": "markdown",
   "id": "69f559b0",
   "metadata": {},
   "source": [
    "### Part 2, Section 1: Diabetes and the Population"
   ]
  },
  {
   "cell_type": "markdown",
   "id": "efedf396",
   "metadata": {},
   "source": [
    "Before we begin our investigation of cholesterol, we'll first look at some limitations of this dataset. In particular, we will investigate ways in which this is or isn't a representative sample of the population by examining the number of subjects with diabetes.\n",
    "\n",
    "[According to the CDC](https://www.cdc.gov/diabetes/statistics/slides/long_term_trends.pdf), the **prevalence of diagnosed diabetes (i.e., the proportion of the population who have it) in the U.S. around this time was 0.0093.** We are going to conduct a hypothesis test with the following null and alternative hypotheses:\n",
    "\n",
    "**Null Hypothesis**: The probability that a participant within the Framingham Study has diabetes is *equivalent* to the prevalence of diagnosed diabetes within the population. (i.e., any difference is due to chance).\n",
    "\n",
    "**Alternative Hypothesis**: The probability that a participant within the Framingham Study has diabetes is *different* from the prevalence of diagnosed diabetes within the population."
   ]
  },
  {
   "cell_type": "markdown",
   "id": "6332f0c1",
   "metadata": {},
   "source": [
    "**Sanity Check!** What type of test are we running? Confirm your understanding with a peer!"
   ]
  },
  {
   "cell_type": "markdown",
   "id": "6b5ae3a6",
   "metadata": {
    "deletable": false,
    "editable": false
   },
   "source": [
    "We are going to use the absolute distance between the **observed prevalence** in the study and the **true population prevalence** as our test statistic. The column `DIABETES` in the `framingham` table contains a 1 for subjects with diabetes and a `0` for those without.\n",
    "\n",
    "**Question 2.1.1: (3 pts)** What is the observed value of the test statistic in the data from the Framingham Study? Assign `observed_diabetes_distance` to this value. \n",
    "\n",
    "*Hint 1*: You should perform your calculations based on the 3,842 subjects in the `framingham` table, not the 5,000 original study participants.\n",
    "\n",
    "*Hint 2:* Recall that prevalence is defined as the proportion of the population who have a disease."
   ]
  },
  {
   "cell_type": "code",
   "execution_count": null,
   "id": "71bc346b",
   "metadata": {
    "execution": {
     "iopub.execute_input": "2021-10-22T23:57:31.180210Z",
     "iopub.status.busy": "2021-10-22T23:57:31.179601Z",
     "iopub.status.idle": "2021-10-22T23:57:31.183974Z",
     "shell.execute_reply": "2021-10-22T23:57:31.183514Z"
    },
    "for_assignment_type": "solution"
   },
   "outputs": [],
   "source": [
    "true_population_prevalence = ...\n",
    "observed_diabetes_distance = ...\n",
    "observed_diabetes_distance "
   ]
  },
  {
   "cell_type": "code",
   "execution_count": null,
   "id": "c3c21273",
   "metadata": {
    "deletable": false,
    "editable": false
   },
   "outputs": [],
   "source": [
    "grader.check(\"q2_1_1\")"
   ]
  },
  {
   "cell_type": "markdown",
   "id": "6567e117",
   "metadata": {
    "deletable": false,
    "editable": false
   },
   "source": [
    "**Question 2.1.2: (3 pts)** Define the function `diabetes_test_statistic` which should return exactly one simulated statistic of the absolute distance between the observed prevalence and the true population prevalence under the null hypothesis. Make sure that your simulated sample is the same size as your original sample.\n",
    "\n",
    "*Hint 1:* The array `diabetes_proportions` contains the proportions of the population without and with diabetes, respectively.\n",
    "\n",
    "*Hint 2*: Recall that prevalence is defined as the proportion of the population who have a disease."
   ]
  },
  {
   "cell_type": "code",
   "execution_count": null,
   "id": "c647309e",
   "metadata": {
    "execution": {
     "iopub.execute_input": "2021-10-22T23:57:31.208798Z",
     "iopub.status.busy": "2021-10-22T23:57:31.207831Z",
     "iopub.status.idle": "2021-10-22T23:57:31.211529Z",
     "shell.execute_reply": "2021-10-22T23:57:31.210574Z"
    }
   },
   "outputs": [],
   "source": [
    "diabetes_proportions = make_array(.9907, .0093)\n",
    "\n",
    "def diabetes_test_statistic():\n",
    "    ...\n"
   ]
  },
  {
   "cell_type": "code",
   "execution_count": null,
   "id": "55cbb092",
   "metadata": {
    "deletable": false,
    "editable": false
   },
   "outputs": [],
   "source": [
    "grader.check(\"q2_1_2\")"
   ]
  },
  {
   "cell_type": "markdown",
   "id": "26cfe841",
   "metadata": {
    "deletable": false,
    "editable": false
   },
   "source": [
    "**Question 2.1.3: (3 pts)**  Complete the following code to simulate 5,000 values of the statistic under the null hypothesis."
   ]
  },
  {
   "cell_type": "code",
   "execution_count": null,
   "id": "34612db2",
   "metadata": {
    "execution": {
     "iopub.execute_input": "2021-10-22T23:57:31.241961Z",
     "iopub.status.busy": "2021-10-22T23:57:31.236831Z",
     "iopub.status.idle": "2021-10-22T23:57:31.410229Z",
     "shell.execute_reply": "2021-10-22T23:57:31.409225Z"
    },
    "for_assignment_type": "solution"
   },
   "outputs": [],
   "source": [
    "diabetes_simulated_stats = make_array()\n",
    "\n",
    "for i in np.arange(5000): \n",
    "    ...\n",
    "    \n",
    "    \n",
    "diabetes_simulated_stats"
   ]
  },
  {
   "cell_type": "code",
   "execution_count": null,
   "id": "cdbe69f5",
   "metadata": {
    "deletable": false,
    "editable": false
   },
   "outputs": [],
   "source": [
    "grader.check(\"q2_1_3\")"
   ]
  },
  {
   "cell_type": "markdown",
   "id": "e6302ddb",
   "metadata": {
    "deletable": false,
    "editable": false
   },
   "source": [
    "**Question 2.1.4: (1 pt)** Run the following cell to generate a histogram of the simulated values of your statistic, along with the observed value.\n",
    "\n",
    "*If you're not sure if your histogram is correct, think about how we're generating the sample statistics under the null, and what those statistics will look like*\n",
    "\n",
    "*Make sure to run the cell that draws the histogram, since it will be graded.*\n"
   ]
  },
  {
   "cell_type": "code",
   "execution_count": null,
   "id": "6a244286",
   "metadata": {
    "execution": {
     "iopub.execute_input": "2021-10-22T23:57:31.460208Z",
     "iopub.status.busy": "2021-10-22T23:57:31.456312Z",
     "iopub.status.idle": "2021-10-22T23:57:31.675761Z",
     "shell.execute_reply": "2021-10-22T23:57:31.674898Z"
    },
    "scrolled": true
   },
   "outputs": [],
   "source": [
    "# Don't be alarmed if the value your red dot is on doesn't match with the numerical value\n",
    "# of your observed_diabetes_distance. If you get a warning, you can ignore it. \n",
    "Table().with_column('Simulated distance to true prevalence', diabetes_simulated_stats).hist()\n",
    "plots.scatter(observed_diabetes_distance, 0, color='red')\n",
    "plots.ylim(-10, 550);"
   ]
  },
  {
   "cell_type": "markdown",
   "id": "2906aca7",
   "metadata": {
    "deletable": false,
    "editable": false
   },
   "source": [
    "**Question 2.1.5: (3 pts)** Based on *just* the histogram above, should you reject the null hypothesis? Explain your answer."
   ]
  },
  {
   "cell_type": "markdown",
   "id": "1d68450a",
   "metadata": {},
   "source": [
    "_Type your answer here, replacing this text._"
   ]
  },
  {
   "cell_type": "markdown",
   "id": "41f76de1",
   "metadata": {
    "deletable": false,
    "editable": false
   },
   "source": [
    "**Question 2.1.6: (2 pts)** Why might there be a difference between the population and the sample from the Framingham Study? Which of the following statements, *if true*, would explain the higher diabetes prevalence in the Framingham population?\n",
    "\n",
    "Assign `framingham_explanations` to an array of integer(s) corresponding to the explanation(s), if true, that **are consistent** with the trends we observe in the data and our hypothesis test results. \n",
    "\n",
    "1. The Framingham participants were relatively wealthy, and thus ate a luxurious diet high in sugar. High-sugar diets are a known cause of diabetes.\n",
    "2. Diabetes was under-diagnosed in the population (i.e., there were a lot of people in the population who had diabetes but weren't diagnosed). By contrast, the Framingham participants were less likely to go undiagnosed because they had regular medical examinations as part of the study.\n",
    "3. The Framingham Study subjects were older on average than the general population, and therefore more likely to have diabetes."
   ]
  },
  {
   "cell_type": "code",
   "execution_count": null,
   "id": "0a4dfc42",
   "metadata": {
    "deletable": false,
    "execution": {
     "iopub.execute_input": "2021-10-22T23:57:31.682199Z",
     "iopub.status.busy": "2021-10-22T23:57:31.681261Z",
     "iopub.status.idle": "2021-10-22T23:57:31.686209Z",
     "shell.execute_reply": "2021-10-22T23:57:31.685244Z"
    },
    "manual_problem_id": "part_2_explanations"
   },
   "outputs": [],
   "source": [
    "framingham_explanations = ...\n",
    "framingham_explanations"
   ]
  },
  {
   "cell_type": "code",
   "execution_count": null,
   "id": "c3f0401f",
   "metadata": {
    "deletable": false,
    "editable": false
   },
   "outputs": [],
   "source": [
    "grader.check(\"q2_1_6\")"
   ]
  },
  {
   "cell_type": "markdown",
   "id": "4914b8d7",
   "metadata": {},
   "source": [
    "In real-world studies, getting a truly representative random sample of the population is often incredibly difficult. Even just to accurately represent all Americans, a truly random sample would need to examine people across geographical, socioeconomic, community, and class lines (just to name a few). For a study like this, scientists would also need to make sure the medical exams were standardized and consistent across the different people being examined. In other words, there's a tradeoff between taking a more representative random sample and the cost of collecting more information from each person in the sample.\n",
    "\n",
    "The Framingham study collected high-quality medical data from its subjects, even if the subjects may not be a perfect representation of the population of all Americans. This is a common issue that data scientists face: while the available data aren't perfect, they're the best we have. The Framingham study is generally considered the best in its class, so we'll continue working with it while keeping its limitations in mind.\n",
    "\n",
    "(For more on representation in medical study samples, you can read these articles from [NPR](https://www.npr.org/sections/health-shots/2015/12/16/459666750/clinical-trials-still-dont-reflect-the-diversity-of-america) and [Scientific American](https://www.scientificamerican.com/article/clinical-trials-have-far-too-little-racial-and-ethnic-diversity/))."
   ]
  },
  {
   "cell_type": "markdown",
   "id": "ed17f84a",
   "metadata": {},
   "source": [
    "### Part 2, Section 2: Cholesterol and Heart Disease"
   ]
  },
  {
   "cell_type": "markdown",
   "id": "83cd948c",
   "metadata": {},
   "source": [
    "In the remainder of this part, we are going to examine one of the main findings of the Framingham study: an association between serum cholesterol (i.e., how much cholesterol is in someone's blood) and whether or not that person develops heart disease.\n",
    "\n",
    "We'll use the following null and alternative hypotheses:\n",
    "\n",
    "**Null Hypothesis:** In the population, the distribution of cholesterol levels among those who develop heart disease is the *same* as the distribution of cholesterol levels among those who do not.\n",
    "\n",
    "**Alternative Hypothesis:** The cholesterol levels of people in the population who develop heart disease are *higher*, on average, than the cholesterol level of people who do not."
   ]
  },
  {
   "cell_type": "markdown",
   "id": "a5009c74",
   "metadata": {
    "deletable": false,
    "editable": false
   },
   "source": [
    "**Question 2.2.1: (1 pt)** From the provided null and alternative hypotheses, does it seem reasonable to use A/B Testing to determine which model is more consistent with our data? Assign the variable `ab_reasonable` to `True` if it seems reasonable and `False` otherwise."
   ]
  },
  {
   "cell_type": "code",
   "execution_count": null,
   "id": "ea2a5586",
   "metadata": {
    "deletable": false,
    "execution": {
     "iopub.execute_input": "2021-10-22T23:57:31.736681Z",
     "iopub.status.busy": "2021-10-22T23:57:31.736119Z",
     "iopub.status.idle": "2021-10-22T23:57:31.740337Z",
     "shell.execute_reply": "2021-10-22T23:57:31.740744Z"
    },
    "manual_problem_id": "part_2_reasonable_test"
   },
   "outputs": [],
   "source": [
    "ab_reasonable = ...\n",
    "ab_reasonable"
   ]
  },
  {
   "cell_type": "code",
   "execution_count": null,
   "id": "09ac8952",
   "metadata": {
    "deletable": false,
    "editable": false
   },
   "outputs": [],
   "source": [
    "grader.check(\"q2_2_1\")"
   ]
  },
  {
   "cell_type": "markdown",
   "id": "6773b86d",
   "metadata": {
    "deletable": false,
    "editable": false
   },
   "source": [
    "**Question 2.2.2: (2 pts)** Now that we have a null hypothesis, we need a test statistic. Which of the following options is the best choice for a test statistic? Assign `ab_test_stat` to an integer corresponding to the best option for our test statistic.\n",
    "\n",
    "*Hint*: Remember that larger values of the test statistic should favor the alternative over the null.\n",
    "\n",
    "1. The difference between the average cholesterol levels of those who get heart disease and those who don't\n",
    "2. The difference between the average cholesterol levels of those who don't get heart disease and those who do\n",
    "3. The absolute difference between the average cholesterol levels of those who get heart disease and those who don't\n",
    "4. The absolute difference between the average cholesterol levels of those who don't get heart disease and those who do"
   ]
  },
  {
   "cell_type": "code",
   "execution_count": null,
   "id": "abfba92c",
   "metadata": {
    "execution": {
     "iopub.execute_input": "2021-10-22T23:57:31.762664Z",
     "iopub.status.busy": "2021-10-22T23:57:31.762060Z",
     "iopub.status.idle": "2021-10-22T23:57:31.765205Z",
     "shell.execute_reply": "2021-10-22T23:57:31.764715Z"
    }
   },
   "outputs": [],
   "source": [
    "ab_test_stat = ..."
   ]
  },
  {
   "cell_type": "code",
   "execution_count": null,
   "id": "de63bf70",
   "metadata": {
    "deletable": false,
    "editable": false
   },
   "outputs": [],
   "source": [
    "grader.check(\"q2_2_2\")"
   ]
  },
  {
   "cell_type": "markdown",
   "id": "cfa0c125",
   "metadata": {
    "deletable": false,
    "editable": false
   },
   "source": [
    "**Question 2.2.3: (3 pts)** Explain and justify your choice of the test statistic from Question 2.2.2 in three sentences or less."
   ]
  },
  {
   "cell_type": "markdown",
   "id": "3e14bac7",
   "metadata": {},
   "source": [
    "_Type your answer here, replacing this text._"
   ]
  },
  {
   "cell_type": "markdown",
   "id": "fcc66148",
   "metadata": {
    "deletable": false,
    "editable": false
   },
   "source": [
    "**Question 2.2.4: (4 pts)** Write a function that computes your test statistic. It should take a table that has the following two columns, `TOTCHOL` (total serum cholesterol) and `ANYCHD` (whether or not the person had coronary heart disease), and compute the test statistic you described above. Note that the table can have more than just the two columns listed above.\n",
    "\n",
    "Use the function you defined to compute the observed test statistic, and assign it to the name `framingham_observed_statistic`."
   ]
  },
  {
   "cell_type": "code",
   "execution_count": null,
   "id": "d6e79bf8",
   "metadata": {
    "execution": {
     "iopub.execute_input": "2021-10-22T23:57:31.961257Z",
     "iopub.status.busy": "2021-10-22T23:57:31.960603Z",
     "iopub.status.idle": "2021-10-22T23:57:31.964968Z",
     "shell.execute_reply": "2021-10-22T23:57:31.964460Z"
    },
    "for_assignment_type": "solution"
   },
   "outputs": [],
   "source": [
    "def framingham_test_statistic(tbl):\n",
    "    ...\n",
    "    \n",
    "    \n",
    "framingham_observed_statistic = ...\n",
    "framingham_observed_statistic"
   ]
  },
  {
   "cell_type": "code",
   "execution_count": null,
   "id": "51d3b8c1",
   "metadata": {
    "deletable": false,
    "editable": false
   },
   "outputs": [],
   "source": [
    "grader.check(\"q2_2_4\")"
   ]
  },
  {
   "cell_type": "markdown",
   "id": "0df61a36",
   "metadata": {
    "deletable": false,
    "editable": false
   },
   "source": [
    "Now that we have defined hypotheses and a test statistic, we are ready to conduct a hypothesis test. We'll start by defining a function to simulate the test statistic under the null hypothesis, and then use that function 500 times to understand the distribution under the null hypothesis.\n",
    "\n",
    "**Question 2.2.5: (5 pts)** Write a function to simulate the test statistic under the null hypothesis. \n",
    "\n",
    "The `simulate_framingham_null` function should simulate the null hypothesis once (not 500 times), create a new table based on the simulation, and return the value of the test statistic for that simulated sample.  \n",
    "\n",
    "*Hint*: How many random samples should you collect?\n",
    "\n",
    "*Hint*: Using `tbl.with_column(...)` with a column name that already exists in `tbl` will replace that column.\n"
   ]
  },
  {
   "cell_type": "code",
   "execution_count": null,
   "id": "39d0893e",
   "metadata": {
    "execution": {
     "iopub.execute_input": "2021-10-22T23:57:32.231851Z",
     "iopub.status.busy": "2021-10-22T23:57:32.222593Z",
     "iopub.status.idle": "2021-10-22T23:57:32.378458Z",
     "shell.execute_reply": "2021-10-22T23:57:32.377771Z"
    },
    "for_assignment_type": "solution"
   },
   "outputs": [],
   "source": [
    "def simulate_framingham_null():\n",
    "    ...\n",
    "                                       \n",
    "# Run your function once to make sure that it works.\n",
    "simulate_framingham_null()"
   ]
  },
  {
   "cell_type": "code",
   "execution_count": null,
   "id": "76064491",
   "metadata": {
    "deletable": false,
    "editable": false
   },
   "outputs": [],
   "source": [
    "grader.check(\"q2_2_5\")"
   ]
  },
  {
   "cell_type": "markdown",
   "id": "e48a7bb4",
   "metadata": {
    "deletable": false,
    "editable": false
   },
   "source": [
    "**Question 2.2.6: (3 pts)** Fill in the blanks below to complete the simulation for the hypothesis test. Your simulation should compute 500 values of the test statistic under the null hypothesis and store the result in the array `framingham_simulated_stats`.\n",
    "\n",
    "*Hint*: You should use the `simulate_framingham_null()` function your wrote above.\n",
    "\n",
    "**Warning:** Running this cell should take a few minutes at most. We encourage you to check your `simulate_framingham_null()` code to make sure it works correctly before running this cell. "
   ]
  },
  {
   "cell_type": "code",
   "execution_count": null,
   "id": "906d62c5",
   "metadata": {
    "execution": {
     "iopub.execute_input": "2021-10-22T23:57:32.934614Z",
     "iopub.status.busy": "2021-10-22T23:57:32.921489Z",
     "iopub.status.idle": "2021-10-22T23:58:40.698799Z",
     "shell.execute_reply": "2021-10-22T23:58:40.698044Z"
    },
    "for_assignment_type": "solution"
   },
   "outputs": [],
   "source": [
    "# this code may take some time to run (a few minutes at most)\n",
    "framingham_simulated_stats = make_array()\n",
    "\n",
    "for i in np.arange(500):\n",
    "    ...\n",
    "    "
   ]
  },
  {
   "cell_type": "code",
   "execution_count": null,
   "id": "b63053e8",
   "metadata": {
    "deletable": false,
    "editable": false
   },
   "outputs": [],
   "source": [
    "grader.check(\"q2_2_6\")"
   ]
  },
  {
   "cell_type": "markdown",
   "id": "48bb1c2b",
   "metadata": {
    "deletable": false,
    "editable": false
   },
   "source": [
    "**Question 2.2.7: (1 pt)** The following line will plot the histogram of the simulated test statistics, as well as a point for the observed test statistic. Make sure to run it, as it will be graded. "
   ]
  },
  {
   "cell_type": "code",
   "execution_count": null,
   "id": "ba4810c6",
   "metadata": {
    "deletable": false,
    "execution": {
     "iopub.execute_input": "2021-10-22T23:58:40.767082Z",
     "iopub.status.busy": "2021-10-22T23:58:40.761009Z",
     "iopub.status.idle": "2021-10-22T23:58:40.986376Z",
     "shell.execute_reply": "2021-10-22T23:58:40.985736Z"
    },
    "manual_problem_id": "disease_q_4_1_6"
   },
   "outputs": [],
   "source": [
    "Table().with_column('Simulated statistics', framingham_simulated_stats).hist()\n",
    "plots.scatter(framingham_observed_statistic, 0, color='red', s=30)\n",
    "plots.ylim(-0.02, 0.25);"
   ]
  },
  {
   "cell_type": "markdown",
   "id": "ab117e82",
   "metadata": {
    "deletable": false,
    "editable": false
   },
   "source": [
    "**Question 2.2.8: (3 pts)** Compute the p-value for this hypothesis test, and assign it to the name `framingham_p_val`.\n",
    "\n",
    "*Hint*: One of the key findings of the Framingham study was a strong association between cholesterol levels and heart disease. If your p-value doesn't match up with this finding, you may want to take another look at your test statistic and/or your simulation.\n"
   ]
  },
  {
   "cell_type": "code",
   "execution_count": null,
   "id": "6b3df56f",
   "metadata": {
    "execution": {
     "iopub.execute_input": "2021-10-22T23:58:40.993385Z",
     "iopub.status.busy": "2021-10-22T23:58:40.992705Z",
     "iopub.status.idle": "2021-10-22T23:58:40.996996Z",
     "shell.execute_reply": "2021-10-22T23:58:40.997455Z"
    },
    "for_assignment_type": "solution"
   },
   "outputs": [],
   "source": [
    "framingham_p_val = ...\n",
    "framingham_p_val"
   ]
  },
  {
   "cell_type": "code",
   "execution_count": null,
   "id": "fb3d7b3b",
   "metadata": {
    "deletable": false,
    "editable": false
   },
   "outputs": [],
   "source": [
    "grader.check(\"q2_2_8\")"
   ]
  },
  {
   "cell_type": "markdown",
   "id": "b2fa7780",
   "metadata": {
    "deletable": false,
    "editable": false
   },
   "source": [
    "**Question 2.2.9: (2 pts)** Despite the Framingham Heart Study's well-deserved reputation as a well-conducted and rigorous study, it has some major limitations. Give one specific reason why it can't be said that high cholesterol *causes* heart disease."
   ]
  },
  {
   "cell_type": "markdown",
   "id": "97a2572d",
   "metadata": {},
   "source": [
    "_Type your answer here, replacing this text._"
   ]
  },
  {
   "cell_type": "markdown",
   "id": "ee85d11d",
   "metadata": {},
   "source": [
    "<!-- END QUESTION -->\n",
    "\n",
    "\n",
    "\n",
    "Similar studies from the 1950s found positive associations between diets high in saturated fat, high cholesterol, and incidence of heart disease. In 1962, the U.S. Surgeon General said:\n",
    "\n",
    "> \"Although there is evidence that diet and dietary habits may be implicated in the development of coronary heart disease and may be significant in its prevention or control, at present our only research evidence is associative and not conclusive.\""
   ]
  },
  {
   "cell_type": "markdown",
   "id": "cb19181e",
   "metadata": {},
   "source": [
    "### Congratulations!\n",
    "\n",
    "You are done with Parts 1 and 2 of Project 2!  Please save, download, and submit your notebook to Canvas."
   ]
  },
  {
   "cell_type": "markdown",
   "id": "fbd94c41",
   "metadata": {},
   "source": [
    " "
   ]
  }
 ],
 "metadata": {
  "kernelspec": {
   "display_name": "Python 3 (ipykernel)",
   "language": "python",
   "name": "python3"
  },
  "language_info": {
   "codemirror_mode": {
    "name": "ipython",
    "version": 3
   },
   "file_extension": ".py",
   "mimetype": "text/x-python",
   "name": "python",
   "nbconvert_exporter": "python",
   "pygments_lexer": "ipython3",
   "version": "3.7.8"
  }
 },
 "nbformat": 4,
 "nbformat_minor": 5
}

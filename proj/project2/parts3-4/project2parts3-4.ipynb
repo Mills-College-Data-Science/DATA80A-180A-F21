{
 "cells": [
  {
   "cell_type": "markdown",
   "id": "6d4b1a65",
   "metadata": {},
   "source": [
    "# Data 180A Data Science for Everyone\n",
    "\n",
    "\n",
    "# Project 2: Cardiovascular Disease: Causes, Treatment, and Prevention\n",
    "\n",
    "\n",
    "## Parts 3 and 4: Due Friday, November 19 by 11:59PM\n",
    "\n",
    "### 41 Points"
   ]
  },
  {
   "cell_type": "markdown",
   "id": "78cb9f7e",
   "metadata": {},
   "source": [
    "We will continue our investigation of cardiovascular disease by examining the effect of hormone replacement therapy and the consumption of saturated fats. As a reminder, here is a roadmap of this project."
   ]
  },
  {
   "cell_type": "markdown",
   "id": "f47c3c13",
   "metadata": {},
   "source": [
    "* In Part 1, we'll investigate the major causes of death in the world during the past century (from 1900 to 2015).\n",
    "* In Part 2, we'll look at data from the Framingham Heart Study, an observational study into cardiovascular health.\n",
    "* In Part 3, we'll examine the effect that hormone replacement therapy has on the risk of coronary heart disease for post-menopausal women using data from the Nurses' Heart Study.\n",
    "* In Part 4, we'll explore the effect that the consumption of saturated fats has on cardiovascular death rates using data from the National Heart-Diet Study.\n",
    "\n",
    "To get started, load `datascience`, `numpy`, `plots`, and `otter`."
   ]
  },
  {
   "cell_type": "code",
   "execution_count": null,
   "id": "5ae946b7",
   "metadata": {
    "deletable": false,
    "editable": false
   },
   "outputs": [],
   "source": [
    "from datascience import *\n",
    "import numpy as np\n",
    "\n",
    "%matplotlib inline\n",
    "import matplotlib.pyplot as plots\n",
    "plots.style.use('fivethirtyeight')\n",
    "\n",
    "import otter\n",
    "grader = otter.Notebook()"
   ]
  },
  {
   "cell_type": "markdown",
   "id": "c9ed1192",
   "metadata": {},
   "source": [
    "## Part 3: The Nurses' Health Study\n",
    "The Nurses' Health Study (NHS) is another very large observational study which has brought many insights into women's health. It began in 1976, by Dr. Frank Speizer, with questionnaires that were mailed to 121,964 female registered nurses in the United States asking about their medical history, cholesterol and blood pressure, current medications, and so on (one of the benefits of studying nurses is their ability to give reliably accurate answers to these questions). \n",
    "\n",
    "The study's initial focus was on investigating the long-term health effects of oral contraceptives, whose use had become much more widespread in the U.S. during the 1960s, but the focus soon expanded to investigating a wide variety of questions on women's health. The NHS is still ongoing, and is now tracking its third generation of nurses in the US.\n",
    "\n",
    "**One of the most consequential early findings from the NHS was about hormone replacement therapy (HRT)**: supplementary estrogen and progesterone for post-menopausal women to relieve side effects of declining hormone levels due to menopause. The NHS found that HRT in post-menopausal women was negatively associated with heart attack risk. In other words, higher levels of HRT in post-menopausal women were associated with lower risk of heart attack. In a landmark 1985 paper in the *New England Journal of Medicine* (NEJM), Speizer and his coauthors wrote that **women on HRT are half as likely to suffer a heart attack over a certain time period.** [(Stampfer et al., 1985)](https://www.ncbi.nlm.nih.gov/pubmed/4047106) We'll define the term \"relative risk\" later in this section, and we'll also investigate the interpretation of these claims and their statistical basis."
   ]
  },
  {
   "cell_type": "markdown",
   "id": "4545044a",
   "metadata": {
    "deletable": false,
    "editable": false
   },
   "source": [
    "**Question 3.1. (2 pts)** Based on the passage above, which of the following statements can you infer about the Nurses' Health Study? Assign `nhs_true_statements` to an array of integer(s) corresponding to the statement(s) you believe are correct.\n",
    "\n",
    "1. Hormone replacement therapy is most commonly used by young women.\n",
    "2. Since only nurses were included in the study, there's a chance that confounding factors influence our dataset.\n",
    "3. The study found that estrogen and progesterone use had an association with CHD rates in post-menopausal women (CHD is a leading cause of heart attacks).\n",
    "4. The study uses data that was self-reported by nurses for the analysis."
   ]
  },
  {
   "cell_type": "code",
   "execution_count": null,
   "id": "b57a005d",
   "metadata": {
    "execution": {
     "iopub.execute_input": "2021-10-22T23:58:41.286700Z",
     "iopub.status.busy": "2021-10-22T23:58:41.285712Z",
     "iopub.status.idle": "2021-10-22T23:58:41.290349Z",
     "shell.execute_reply": "2021-10-22T23:58:41.289700Z"
    }
   },
   "outputs": [],
   "source": [
    "nhs_true_statements = ...\n",
    "nhs_true_statements"
   ]
  },
  {
   "cell_type": "code",
   "execution_count": null,
   "id": "d60b520f",
   "metadata": {
    "deletable": false,
    "editable": false
   },
   "outputs": [],
   "source": [
    "grader.check(\"q3_1\")"
   ]
  },
  {
   "cell_type": "markdown",
   "id": "54972ec2",
   "metadata": {},
   "source": [
    "**The scientists running the NHS wanted to compare post-menopausal women who had taken HRT with post-menopausal women who had never taken HRT, excluding all women who were not post-menopausal or who had previously suffered a heart attack.** This study design complicates the analysis because it creates a variety of reasons why women might drop in and out of the relevant comparison groups. They sent out surveys in 1976, 1978, and 1980, so they could receive information at different timestamps and thus participants might \"change groups\" midway through. \n",
    "\n",
    "If you're interested, read more about the study [here](https://pubmed.ncbi.nlm.nih.gov/4047106/)."
   ]
  },
  {
   "cell_type": "markdown",
   "id": "880b57c0",
   "metadata": {},
   "source": [
    "Because women could (and did) drop into and out of the comparison groups in the middle of the study, it is difficult to make a table like we usually would, with one row per participant. In medical studies, individuals are typically weighted by the *amount of time* that they enrolled in the study. A more convenient sampling unit is a **person-month at risk**, which is one month spent by a particular woman in one of the comparison groups, during which she might or might not suffer a heart attack. Here, \"at risk\" just means the woman is being tracked by the survey in either of the two comparison groups, so that if she had a heart attack it would be counted in our data set.\n",
    "\n",
    "**Example**: The table below tracks the histories of two hypothetical post-menopausal women in a six-month longitudinal study, who both enter the study in January 1978:\n",
    "1. Alice has never been on HRT. She has a heart attack in March and is excluded for the remainder of the study period. \n",
    "2. Beatrice begins taking HRT for the first time in April and stays healthy throughout the study period.\n",
    "\n",
    "| Name     | Month    | HRT | Heart Attack   |                                             \n",
    "|----------|----------|-----|----------------|\n",
    "| Alice    | Jan 1978 |  0  | 0              |\n",
    "| Alice    | Feb 1978 |  0  | 0              |\n",
    "| Alice    | Mar 1978 |  0  | 1              |\n",
    "| Beatrice | Jan 1978 |  0  | 0              | \n",
    "| Beatrice | Feb 1978 |  0  | 0              |\n",
    "| Beatrice | Mar 1978 |  0  | 0              |\n",
    "| Beatrice | Apr 1978 |  1  | 0              |\n",
    "| Beatrice | May 1978 |  1  | 0              |\n",
    "| Beatrice | Jun 1978 |  1  | 0              |\n",
    "\n"
   ]
  },
  {
   "cell_type": "markdown",
   "id": "d41cb6d9",
   "metadata": {},
   "source": [
    "Incidence refers to the proportion of persons who develop a condition during a particular time period. Since we want to examine the risk of developing a heart attack, we can define the **incidence rate of a heart attack** as the probability that a heart attack will happen to a given at-risk person in a given time period. The NHS calculated its effects in terms of the **relative risk**, which is simply the incidence rate for *person-months* in the HRT (Group A) group divided by the incidence rate in the no-HRT (Group B) group.\n",
    "\n",
    "$$\\text{Relative Risk} = \\frac{\\text{Incidence Rate(Treatment Group)}}{\\text{Incidence Rate(Control Group)}}$$\n"
   ]
  },
  {
   "cell_type": "markdown",
   "id": "2802f308",
   "metadata": {
    "deletable": false,
    "editable": false
   },
   "source": [
    "**Question 3.2. (3 pts)** Complete the following statements, by setting the variable names to the value that correctly fills in the blank.\n",
    "\n",
    "If the incidence rate of the treatment group is greater than the incidence rate of the control group, the relative risk will be \\_\\_`blank_1a`\\_\\_ one. This means that individuals in the treatment group are at \\_\\_`blank_1b`\\_\\_ risk of having a heart attack compared to those in the control group.\n",
    "\n",
    "If the incidence rate of the treatment group is less than the incidence rate of the control group, the relative risk will be \\_\\_`blank_2a`\\_\\_ one. This means that individuals in the treatment group are at \\_\\_`blank_2b`\\_\\_ risk of having a heart attack compared to those in the control group.\n",
    "\n",
    "If the incidence rate of the treatment group is equal to the incidence rate of the control group, the relative risk will be \\_\\_`blank_3a`\\_\\_ one. This means that individuals in the treatment group are at \\_\\_`blank_3b`\\_\\_ risk of having a heart attack compared to those in the control group.\n",
    "\n",
    "`blank_1a`, `blank_2a`, `blank_3a` should be set to one of the following strings: \"less than\", \"equal to\", or \"greater than\"\n",
    "\n",
    "`blank_1b`, `blank_2b`, `blank_3b` should be set to one of the following strings: \"lower\", \"equal\", or \"higher\" "
   ]
  },
  {
   "cell_type": "code",
   "execution_count": null,
   "id": "7e72f6c9",
   "metadata": {
    "execution": {
     "iopub.execute_input": "2021-10-22T23:58:41.363892Z",
     "iopub.status.busy": "2021-10-22T23:58:41.363138Z",
     "iopub.status.idle": "2021-10-22T23:58:41.365828Z",
     "shell.execute_reply": "2021-10-22T23:58:41.366250Z"
    }
   },
   "outputs": [],
   "source": [
    "blank_1a = ...\n",
    "blank_1b = ...\n",
    "blank_2a = ...\n",
    "blank_2b = ...\n",
    "blank_3a = ...\n",
    "blank_3b = ..."
   ]
  },
  {
   "cell_type": "code",
   "execution_count": null,
   "id": "bf03cfe3",
   "metadata": {
    "deletable": false,
    "editable": false
   },
   "outputs": [],
   "source": [
    "grader.check(\"q3_2\")"
   ]
  },
  {
   "cell_type": "markdown",
   "id": "a76ff698",
   "metadata": {},
   "source": [
    "Most statistical methods that deal with this type of data assume that we can treat a table like the one above as though it is a sample of independent random draws from a much larger population of person-months at risk in each group. **We will take this assumption for granted throughout the rest of this section.**\n",
    "\n",
    "Instead of *person-months* at risk, the NHS used *person-years* at risk. It reported 51,478 total person-years at risk in the no-HRT group with 60 heart attacks occurring in total, as well as 54,309 person-years at risk in the HRT group with 30 heart attacks occurring in total. The table NHS below has one row for each person-year at risk. The two columns are 'HRT', recording whether it came from the HRT group (1) or no-HRT group (0), and 'Heart Attack', recording whether the participant had a heart attack that year (1 for yes, 0 for no)."
   ]
  },
  {
   "cell_type": "code",
   "execution_count": null,
   "id": "58564852",
   "metadata": {
    "execution": {
     "iopub.execute_input": "2021-10-22T23:58:41.410874Z",
     "iopub.status.busy": "2021-10-22T23:58:41.410045Z",
     "iopub.status.idle": "2021-10-22T23:58:41.483545Z",
     "shell.execute_reply": "2021-10-22T23:58:41.482885Z"
    }
   },
   "outputs": [],
   "source": [
    "NHS = Table.read_table('NHS.csv')\n",
    "NHS.show(5)"
   ]
  },
  {
   "cell_type": "markdown",
   "id": "f2e0cbe5",
   "metadata": {},
   "source": [
    "Using the NHS data, we can now conduct a hypothesis test to investigate the relationship between HRT and risk of CHD. As a reminder, the **incidence rate** is defined as the proportion of people who died in a specific group out of the total number who participated in the study from that group.\n",
    "\n",
    "We'll use the following null and alternative hypotheses and test statistic:\n",
    "\n",
    "**Null Hypothesis:** HRT *does not* affect the risk of CHD, and the true relative risk is equal to 1. Any deviation is due to random chance.\n",
    "\n",
    "**Alternative Hypothesis:** HRT *decreases* the risk of CHD, and the true relative risk is less than 1.\n",
    "\n",
    "**Test Statistic:** Relative risk of CHD between post-menopausal women receiving HRT and post-menopausal women not receiving HRT (the definition of relative risk is repeated here for your convenience):\n",
    "\n",
    "$$\\text{Relative Risk} = \\frac{\\text{Incidence Rate(Treatment Group)}}{\\text{Incidence Rate(Control Group)}}$$\n",
    "\n",
    "**Note:** Remember that we assume, under the null, that the two populations are derived from the same much larger population—under this assumption $\\text{Incidence Rate(Treatment Group)} = \\text{Incidence Rate(Control Group)}$. After simulation, we test this hypothesis by viewing the `relative_risk` for our simulated samples."
   ]
  },
  {
   "cell_type": "markdown",
   "id": "4298b461",
   "metadata": {
    "deletable": false,
    "editable": false
   },
   "source": [
    "**Question 3.3. (3 pts)** Fill in the missing code below to write a function called `relative_risk` that takes in a table with the column labels `HRT` and `Heart Attack`, and computes the sample relative risk as an estimate of the population relative risk. Do *not* round your answer."
   ]
  },
  {
   "cell_type": "code",
   "execution_count": null,
   "id": "0a356c32",
   "metadata": {
    "execution": {
     "iopub.execute_input": "2021-10-22T23:58:41.502598Z",
     "iopub.status.busy": "2021-10-22T23:58:41.493494Z",
     "iopub.status.idle": "2021-10-22T23:58:44.634974Z",
     "shell.execute_reply": "2021-10-22T23:58:44.635489Z"
    }
   },
   "outputs": [],
   "source": [
    "def relative_risk(tbl):\n",
    "    \"\"\"Return the ratio of the incidence rates (events per person-year) for the two groups\"\"\"\n",
    "    ...\n",
    "    "
   ]
  },
  {
   "cell_type": "code",
   "execution_count": null,
   "id": "2257d825",
   "metadata": {},
   "outputs": [],
   "source": [
    "# check\n",
    "relative_risk(NHS)"
   ]
  },
  {
   "cell_type": "code",
   "execution_count": null,
   "id": "5f34a1d0",
   "metadata": {
    "deletable": false,
    "editable": false
   },
   "outputs": [],
   "source": [
    "grader.check(\"q3_3\")"
   ]
  },
  {
   "cell_type": "markdown",
   "id": "17fde3a3",
   "metadata": {
    "deletable": false,
    "editable": false
   },
   "source": [
    "**Question 3.4. (4 pts)** Fill in the function `one_bootstrap_rr` so that it **generates one bootstrap sample (sample size is the whole table) and computes the relative risk**. Assign `bootstrap_rrs` to 15 estimates of the population relative risk.\n",
    "\n",
    "*Note:* We are only doing 15 estimates because the code is slow! The cell may take a few seconds to run."
   ]
  },
  {
   "cell_type": "code",
   "execution_count": null,
   "id": "6941e192",
   "metadata": {
    "execution": {
     "iopub.execute_input": "2021-10-22T23:58:50.848263Z",
     "iopub.status.busy": "2021-10-22T23:58:50.847651Z",
     "iopub.status.idle": "2021-10-22T23:59:36.878097Z",
     "shell.execute_reply": "2021-10-22T23:59:36.877425Z"
    }
   },
   "outputs": [],
   "source": [
    "# this code may take some time to run\n",
    "def one_bootstrap_rr():\n",
    "    ...\n",
    "\n",
    "...\n",
    "\n",
    "for i in np.arange(...):\n",
    "    new_bootstrap_rr = ...\n",
    "    bootstrap_rrs = ...\n"
   ]
  },
  {
   "cell_type": "code",
   "execution_count": null,
   "id": "03cd041f",
   "metadata": {
    "deletable": false,
    "editable": false
   },
   "outputs": [],
   "source": [
    "grader.check(\"q3_4\")"
   ]
  },
  {
   "cell_type": "markdown",
   "id": "8fa97a00",
   "metadata": {},
   "source": [
    "In Question 3.4, you generated an array containing (just) 15 bootstrapped relative risks.  We need a lot more of these values (but that would take a lot of time) to obtain a distribution of these values and compute a p-value.  Well .. we've computed 2001 such values and saved them in a file called `bootstrap_rrs.csv`."
   ]
  },
  {
   "cell_type": "markdown",
   "id": "d757b4a8",
   "metadata": {
    "deletable": false,
    "editable": false
   },
   "source": [
    "**Question 3.5. (3 pts)** The file `bootstrap_rrs.csv` contains a one-column table with 2001 saved bootstrapped relative risks (note that we only computed 15 of them in Question 3.4.). Use these bootstrapped values to compute a 95% confidence interval, storing the left endpoint as `ci_left` and the right endpoint as `ci_right`. \n",
    "\n",
    "Note that our method isn't exactly the same as the method employed by the study authors to get their confidence interval."
   ]
  },
  {
   "cell_type": "code",
   "execution_count": null,
   "id": "435d2786",
   "metadata": {
    "execution": {
     "iopub.execute_input": "2021-10-22T23:59:44.255551Z",
     "iopub.status.busy": "2021-10-22T23:59:44.254956Z",
     "iopub.status.idle": "2021-10-22T23:59:44.263543Z",
     "shell.execute_reply": "2021-10-22T23:59:44.263989Z"
    }
   },
   "outputs": [],
   "source": [
    "bootstrap_rrs_from_tbl = Table.read_table('bootstrap_rrs.csv').column(0)\n",
    "ci_left = ...\n",
    "ci_right = ...\n",
    "\n",
    "# Please don't change this line.\n",
    "print(\"Middle 95% of bootstrappped relative risks: [{:f}, {:f}]\".format(ci_left, ci_right))"
   ]
  },
  {
   "cell_type": "code",
   "execution_count": null,
   "id": "c1624b8e",
   "metadata": {
    "deletable": false,
    "editable": false
   },
   "outputs": [],
   "source": [
    "grader.check(\"q3_5\")"
   ]
  },
  {
   "cell_type": "markdown",
   "id": "a43eb784",
   "metadata": {},
   "source": [
    "The code below plots the confidence interval on top of the bootstrap histogram."
   ]
  },
  {
   "cell_type": "code",
   "execution_count": null,
   "id": "ddfd320a",
   "metadata": {
    "execution": {
     "iopub.execute_input": "2021-10-22T23:59:44.330437Z",
     "iopub.status.busy": "2021-10-22T23:59:44.321604Z",
     "iopub.status.idle": "2021-10-22T23:59:44.483351Z",
     "shell.execute_reply": "2021-10-22T23:59:44.482812Z"
    }
   },
   "outputs": [],
   "source": [
    "# Just run this cell\n",
    "Table().with_column(\"Relative Risks\", bootstrap_rrs_from_tbl).hist()\n",
    "plots.plot([ci_left, ci_right], [.05,.05], color=\"gold\");"
   ]
  },
  {
   "cell_type": "markdown",
   "id": "8e2b6186",
   "metadata": {
    "deletable": false,
    "editable": false
   },
   "source": [
    "**Question 3.6. (2 pts)** The following text is an excerpt from the abstract of the original 1985 paper. \n",
    "> As compared with the risk in women who had never used postmenopausal hormones, the age-adjusted relative risk of coronary disease in those who had ever used them was 0.5 (95 per cent confidence limits, 0.3 and 0.8; P = 0.007)... These data support the hypothesis that the postmenopausal use of estrogen reduces the risk of severe coronary heart disease. [(Stampfer et al., 1985)](https://www.ncbi.nlm.nih.gov/pubmed/4047106)\n",
    "\n",
    "The authors give a 95% confidence interval of [0.3, 0.8] for the relative risk. Which of the following statements can be justified based on that confidence interval? Assign `ci_statements` to an array of integer(s) corresponding to the statement(s) you believe are correct.\n",
    "\n",
    "1. There is between a 30% and 80% chance that any woman will suffer a heart attack during the study period.\n",
    "2. If we used a P-value cutoff of 5%, we would reject the null hypothesis that HRT does not affect the risk of CHD.\n",
    "3. If we redo the procedure that generated the interval [0.3, 0.8] on a fresh sample of the same size, there is a 95% chance it will include the true relative risk."
   ]
  },
  {
   "cell_type": "code",
   "execution_count": null,
   "id": "10a3b064",
   "metadata": {
    "execution": {
     "iopub.execute_input": "2021-10-22T23:59:44.487908Z",
     "iopub.status.busy": "2021-10-22T23:59:44.487392Z",
     "iopub.status.idle": "2021-10-22T23:59:44.490563Z",
     "shell.execute_reply": "2021-10-22T23:59:44.489955Z"
    }
   },
   "outputs": [],
   "source": [
    "ci_statements = ...  "
   ]
  },
  {
   "cell_type": "code",
   "execution_count": null,
   "id": "02cbaa3e",
   "metadata": {
    "deletable": false,
    "editable": false
   },
   "outputs": [],
   "source": [
    "grader.check(\"q3_6\")"
   ]
  },
  {
   "cell_type": "markdown",
   "id": "132c5d86",
   "metadata": {
    "deletable": false,
    "editable": false
   },
   "source": [
    "**Question 3.7. (3 pts)** What can you conclude from this test? Was hormone replacement therapy associated with an increased or decreased risk of heart attacks? Can we say that HRT caused an change in the risk of heart attacks? Explain your reasoning in 2-4 sentences. \n",
    "\n",
    "*Hint*: Refer back to Question 3.2 for the definition and interpretations of relative risk."
   ]
  },
  {
   "cell_type": "markdown",
   "id": "0b3cb6d5",
   "metadata": {},
   "source": [
    "_Type your answer here, replacing this text._"
   ]
  },
  {
   "cell_type": "markdown",
   "id": "1da21cae",
   "metadata": {},
   "source": [
    "<!-- END QUESTION -->\n",
    "\n",
    "\n",
    "\n",
    "Partly as a result of evidence from the NHS and other observational studies that drew similar conclusions, HRT drugs became a very popular preventive treatment for doctors to prescribe to post-menopausal woman. Even though there were known or suspected risks to the treatment (such as increasing the risk of invasive breast cancer), it was thought that the reduction in heart disease risk was well worth it.\n",
    "\n",
    "However, a later study, the [Heart and Estrogen-Progestin Replacement Study](https://jamanetwork.com/journals/jama/fullarticle/187879), found that HRT did **not** have a significant impact on a woman's risk of CHD. These findings contradicted the results of the Nurses' Heart study, challenging the efficacy of a treatment that had become the standard of care for heart disease prevention. The HERS study authors put forward a possible answer regarding why the NHS study might be biased:\n",
    "> The observed association between estrogen therapy and reduced CHD risk might be attributable to selection bias if women who choose to take hormones are healthier and have a more favorable CHD profile than those who do not. Observational studies cannot resolve this uncertainty.\n",
    "\n",
    "**Selection bias** occurs in observational studies when there is a systematic difference between participants that receive a treatment and participants that do not receive a treatment. When this type of bias is present, the observed treatment effect might be a result of an unmeasured confounding variable."
   ]
  },
  {
   "cell_type": "markdown",
   "id": "32aee085",
   "metadata": {
    "deletable": false,
    "editable": false
   },
   "source": [
    "**Question 3.8. (3 pts)**: If women who choose to take hormones are healthier to begin with than women who choose not to, why might that systematically bias the results of observational studies like the NHS? Would we expect observational studies to overestimate or underestimate the protective effect of HRT?"
   ]
  },
  {
   "cell_type": "markdown",
   "id": "69357090",
   "metadata": {},
   "source": [
    "_Type your answer here, replacing this text._"
   ]
  },
  {
   "cell_type": "markdown",
   "id": "0d901b6d",
   "metadata": {},
   "source": [
    "<!-- END QUESTION -->\n",
    "\n",
    "\n",
    "\n",
    "### Further reading\n",
    "\n",
    "If you're interested in learning more, you can check out these articles:\n",
    "\n",
    "* [Origin story of the Framingham Heart Study](https://www.ncbi.nlm.nih.gov/pmc/articles/PMC1449227/)\n",
    "* [NYT article on the Nurses' Health Study and the HERS study](https://www.nytimes.com/2003/04/22/science/hormone-studies-what-went-wrong.html)"
   ]
  },
  {
   "cell_type": "markdown",
   "id": "784543f0",
   "metadata": {},
   "source": [
    "## Part 4: Diet and Cardiovascular Disease"
   ]
  },
  {
   "cell_type": "markdown",
   "id": "6f33590f",
   "metadata": {},
   "source": [
    "To establish a causal link between saturated fat intake, serum cholesterol, and heart disease, a group of doctors\n",
    "in the US established the National Heart-Diet Study. The study was based in 6 centers: Baltimore, Boston, Chicago, Minneapolis-St. Paul, Oakland, and Faribault, MN. The first 5 centers recruited volunteers from the local population: volunteers and their families were asked to adjust their diet to include more or less saturated fat.\n",
    "\n",
    "The sixth center was organized by Dr. Ivan Frantz, and its study was known as the Minnesota Coronary\n",
    "Experiment.  The main difference between the Minnesota Coronary Experiment and the rest of the National Diet-Heart Study was\n",
    "the setting. While the other centers in the study looked at volunteers, Dr. Frantz conducted his study at Faribault\n",
    "State Hospital, which housed patients who were institutionalized due to disabilities or mental illness.\n",
    "\n",
    "Although standards for informed consent in participation weren't as strict then as they are today, the study was\n",
    "described as follows:\n",
    "\n",
    ">No consent forms were required because the study diets were considered to be acceptable as house diets and\n",
    "the testing was considered to contribute to better patient care. Prior to beginning the diet phase, the project was\n",
    "explained and sample foods were served. Residents were given the opportunity to decline participation.\n",
    "\n",
    "Despite the level of detail and effort in the study, the results of the study were never extensively examined until\n",
    "the early 21st century. Over 40 years after the data were collected, Dr. Christopher Ramsden heard about the\n",
    "experiment and asked Dr. Frantz's son, Robert, to uncover the files in the Frantz family home's dusty basement.\n",
    "You can learn more about the story of how the data was recovered on the [Revisionist History podcast](http://revisionisthistory.com/episodes/20-the-basement-tapes) or in [Scientific American magazine](https://www.scientificamerican.com/article/records-found-in-dusty-basement-undermine-decades-of-dietary-advice/).\n",
    "\n",
    "In recent years, poor treatment of patients at Faribault State Hospital (and other similar institutions in Minnesota)\n",
    "has come to light: the state has recently changed patients' gravestones from numbers to their [actual names](https://www.tcdailyplanet.net/minnesota-saying-sorry-treatment-persons-disabilities/), and apologized for [inhumane treatment of patients](https://www.tcdailyplanet.net/minnesota-saying-sorry-treatment-persons-disabilities/)."
   ]
  },
  {
   "cell_type": "markdown",
   "id": "f857c7ea",
   "metadata": {
    "deletable": false,
    "editable": false
   },
   "source": [
    "**Question 4.1. (2 pts)** While the data from such a study may be useful scientifically, it also raises major ethical concerns. Describe at least one ethical problem with the study conducted at Faribault State Hospital.\n",
    "\n",
    "*Hint*: There isn't necessarily a single right or wrong answer to this question. If you're not sure, some areas of consideration may be the study organizers' selection of participants for the study, as well as their justification for not using consent forms. You could also ask yourself how the project might have been explained to the patients prior to the diet phase, and to what degree were they capable of consent."
   ]
  },
  {
   "cell_type": "markdown",
   "id": "6981ce3b",
   "metadata": {},
   "source": [
    "_Type your answer here, replacing this text._"
   ]
  },
  {
   "cell_type": "markdown",
   "id": "c5cc1639",
   "metadata": {},
   "source": [
    "<!-- END QUESTION -->\n",
    "\n",
    "\n",
    "\n",
    "### The Data"
   ]
  },
  {
   "cell_type": "markdown",
   "id": "fe2433e9",
   "metadata": {},
   "source": [
    "The National Heart-Diet Study was very relevant for analysis on the relationship between saturated fats and heart disease. However, an important part of medical studies is *replication*, or being able to see the same results in multiple studies.\n",
    "\n",
    "Suppose that 50 scientists decide to independently recreate the NHDS study. Each of these fictional researchers studied 100 people and collected data on whether their diet was **high** or **low** in saturated fats. To imitate the original experiment, the researchers followed up 5 years later and recorded whether each participant was alive or dead at that time. Note that this fictional study is unlike Dr. Frantz's experiment in that this scenario is observing whether the participants' diets were high or low in saturated fats. The participants are not assigned to a certain group. \n",
    "\n",
    "We will assume that all 50 scientists sampled from the same population, described in full below. Note that *normally* we would never have access to this information - we'd only know the data in our sample. The table `population` has a row for each person in the population, and the following three attributes:\n",
    "- **Age**: a string, the age group of the person\n",
    "- **Diet**: a string, \"low\" or \"high\" describing the amount of saturated fats in the person's diet\n",
    "- **Died**: a boolean, describing whether or not the person had died within the 5 years\n",
    "\n",
    "Run the cell below to see what the population looked like."
   ]
  },
  {
   "cell_type": "code",
   "execution_count": null,
   "id": "8b1f845b",
   "metadata": {
    "execution": {
     "iopub.execute_input": "2021-10-22T23:59:44.526637Z",
     "iopub.status.busy": "2021-10-22T23:59:44.525986Z",
     "iopub.status.idle": "2021-10-22T23:59:44.545475Z",
     "shell.execute_reply": "2021-10-22T23:59:44.546233Z"
    }
   },
   "outputs": [],
   "source": [
    "population = Table.read_table('population.csv').drop(0)\n",
    "population.show(5)"
   ]
  },
  {
   "cell_type": "markdown",
   "id": "3d1f0391",
   "metadata": {
    "deletable": false,
    "editable": false
   },
   "source": [
    "### Running a Hypothesis Test\n",
    "You have been tasked with helping these scientists explore how different diets are associated with death rates. Since the samples were taken at random, the 50 scientists may have reached different conclusions, even if they do the same hypothesis test.\n",
    "\n",
    "**Question 4.2. (3 pts)**: Set up a null hypothesis and an alternative hypothesis that we can use to answer whether or not the amount of saturated fat in ones diet is associated with different rates of death in the two groups. We are interested in observing *any* change, not specifically an increase or decrease in death rates."
   ]
  },
  {
   "cell_type": "markdown",
   "id": "f607a829",
   "metadata": {},
   "source": [
    "_Type your answer here, replacing this text._"
   ]
  },
  {
   "cell_type": "markdown",
   "id": "4ef3f33a",
   "metadata": {
    "deletable": false,
    "editable": false
   },
   "source": [
    "**Question 4.3. (2 pts)**: In thinking of a test statistic, one researcher decides that the absolute difference in the number of people who died in each group is a valid test statistic. Give one specific reason why this test statistic will not work.\n"
   ]
  },
  {
   "cell_type": "markdown",
   "id": "4703f6d1",
   "metadata": {},
   "source": [
    "_Type your answer here, replacing this text._"
   ]
  },
  {
   "cell_type": "markdown",
   "id": "5e7e8b98",
   "metadata": {},
   "source": [
    "<!-- END QUESTION -->\n",
    "\n",
    "\n",
    "\n",
    "To combat the problem above, we instead decide to use the the absolute difference in incidence rates between the two groups as our test statistic. Here, the incidence rate of death is defined as **the proportion of people who *died* in a specific group out of the total number who participated in the study from that group.**\n",
    "\n",
    "The researchers have provided two functions that may help you. These are similar to functions you have defined earlier to perform hypothesis tests."
   ]
  },
  {
   "cell_type": "code",
   "execution_count": null,
   "id": "bb39d0c3",
   "metadata": {
    "execution": {
     "iopub.execute_input": "2021-10-22T23:59:44.554819Z",
     "iopub.status.busy": "2021-10-22T23:59:44.554184Z",
     "iopub.status.idle": "2021-10-22T23:59:44.556949Z",
     "shell.execute_reply": "2021-10-22T23:59:44.557545Z"
    }
   },
   "outputs": [],
   "source": [
    "# Run this cell.  Make sure you understand what these functions do.\n",
    "\n",
    "def compute_incidence_statistic(data_tbl):\n",
    "    \"\"\"\"Given a sample from population, returns the test statistic\"\"\"\n",
    "    summed_tbl = data_tbl.with_column(\"Total\", 1).drop('Age').group('Diet', sum)\n",
    "    incidence_rate = summed_tbl.column(\"Died sum\") / summed_tbl.column(\"Total sum\")\n",
    "    return abs(incidence_rate.item(0) - incidence_rate.item(1))\n",
    "\n",
    "def simulate_death_null(tbl):\n",
    "    \"\"\"Simulates a single value of the test statistic under the null hypothesis.\"\"\"\n",
    "    shuffled_death = tbl.select('Died').sample(with_replacement=False).column(0)\n",
    "    return compute_incidence_statistic(tbl.with_column('Died', shuffled_death))"
   ]
  },
  {
   "cell_type": "markdown",
   "id": "77dc6721",
   "metadata": {
    "deletable": false,
    "editable": false
   },
   "source": [
    "**Question 4.4. (5 pts)**: We are now in a position to run a hypothesis test to help differentiate between our two hypotheses using any set of sample data. Define a function `complete_test` which takes in `tbl`, a single sample from the population. It should shuffle labels and calculate the incidence rate difference for the sample under the null hypothesis 100 times, and use these simulated values to return a p-value with respect to the observed data.\n",
    "\n",
    "*Hint*: The two functions defined above, `compute_incidence_statistic` and `simulate_death_null`, may be useful here. "
   ]
  },
  {
   "cell_type": "code",
   "execution_count": null,
   "id": "e08a4f5b",
   "metadata": {
    "execution": {
     "iopub.execute_input": "2021-10-22T23:59:44.563329Z",
     "iopub.status.busy": "2021-10-22T23:59:44.562518Z",
     "iopub.status.idle": "2021-10-22T23:59:44.565543Z",
     "shell.execute_reply": "2021-10-22T23:59:44.564912Z"
    }
   },
   "outputs": [],
   "source": [
    "def complete_test(tbl):\n",
    "    ...\n",
    "    \n",
    "\n",
    "our_p_value = complete_test(population)\n",
    "our_p_value"
   ]
  },
  {
   "cell_type": "code",
   "execution_count": null,
   "id": "5ecfb2a6",
   "metadata": {
    "deletable": false,
    "editable": false
   },
   "outputs": [],
   "source": [
    "grader.check(\"q4_4\")"
   ]
  },
  {
   "cell_type": "markdown",
   "id": "fbcd905d",
   "metadata": {
    "deletable": false,
    "editable": false
   },
   "source": [
    "**Question 4.5. (4 pts)**: Using the function you just defined, simulate taking 50 different samples of size 100 without replacement from the `population` table, and **run a hypothesis test on each of them**. (Note that we are running 50 hypothesis tests which will produce an array of 50 p-values, rather than computing 50 test statistics.  Recall that the setting was that 50 scientists decided to independently recreate the NHDS study. Each of these fictional researchers studied 100 people and collected data on whether their diet was high or low in saturated fats.) Store the resulting p-values in an array called `results`.\n",
    "\n",
    "*Note*: The cell may take a few seconds to run."
   ]
  },
  {
   "cell_type": "code",
   "execution_count": null,
   "id": "4ebda4d1",
   "metadata": {
    "execution": {
     "iopub.execute_input": "2021-10-22T23:59:45.933837Z",
     "iopub.status.busy": "2021-10-22T23:59:45.922677Z",
     "iopub.status.idle": "2021-10-23T00:00:05.818920Z",
     "shell.execute_reply": "2021-10-23T00:00:05.818228Z"
    }
   },
   "outputs": [],
   "source": [
    "repetitions = ...\n",
    "results = ...\n",
    "\n",
    "...\n",
    "    \n",
    "results    "
   ]
  },
  {
   "cell_type": "code",
   "execution_count": null,
   "id": "77e8097d",
   "metadata": {
    "deletable": false,
    "editable": false
   },
   "outputs": [],
   "source": [
    "grader.check(\"q4_5\")"
   ]
  },
  {
   "cell_type": "markdown",
   "id": "2d5719da",
   "metadata": {
    "deletable": false,
    "editable": false
   },
   "source": [
    "**Question 4.6. (2 pts)**: For each test, can its scientist conclude that the amount of fat in ones diet is associated with a changed death rate? Suppose we decide to use a p-value cutoff of 0.05. Assign `rejected_null` to an array whose entries are either `True` or `False` depending on whether the corresponding test rejected the null or failed to reject the null, respectively. For example, if the 0th test failed to reject the null, the 0th item in the array should be `False`. \n",
    "\n",
    "<!--\n",
    "BEGIN QUESTION\n",
    "name: q4_6\n",
    "manual: false\n",
    "points:\n",
    "- 0\n",
    "- 0\n",
    "- 1.5\n",
    "- 1.5\n",
    "-->"
   ]
  },
  {
   "cell_type": "code",
   "execution_count": null,
   "id": "23d80b3d",
   "metadata": {
    "execution": {
     "iopub.execute_input": "2021-10-23T00:00:05.865135Z",
     "iopub.status.busy": "2021-10-23T00:00:05.864266Z",
     "iopub.status.idle": "2021-10-23T00:00:05.869569Z",
     "shell.execute_reply": "2021-10-23T00:00:05.868840Z"
    }
   },
   "outputs": [],
   "source": [
    "rejected_null = ...\n",
    "rejected_null"
   ]
  },
  {
   "cell_type": "code",
   "execution_count": null,
   "id": "1719eb65",
   "metadata": {
    "deletable": false,
    "editable": false
   },
   "outputs": [],
   "source": [
    "grader.check(\"q4_6\")"
   ]
  },
  {
   "cell_type": "markdown",
   "id": "4bf70a6e",
   "metadata": {},
   "source": [
    "### Congratulations! \n",
    "\n",
    "You have completed your own large scale case study into cause and effect surrounding one of the world's leading causes of death: cardiovascular disease. Your investigation has taken you through multiple important data sets and across decades of medical research."
   ]
  }
 ],
 "metadata": {
  "kernelspec": {
   "display_name": "Python 3 (ipykernel)",
   "language": "python",
   "name": "python3"
  },
  "language_info": {
   "codemirror_mode": {
    "name": "ipython",
    "version": 3
   },
   "file_extension": ".py",
   "mimetype": "text/x-python",
   "name": "python",
   "nbconvert_exporter": "python",
   "pygments_lexer": "ipython3",
   "version": "3.7.8"
  }
 },
 "nbformat": 4,
 "nbformat_minor": 5
}

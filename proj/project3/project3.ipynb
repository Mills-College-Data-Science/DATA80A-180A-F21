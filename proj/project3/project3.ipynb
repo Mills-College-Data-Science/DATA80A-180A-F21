{
 "cells": [
  {
   "cell_type": "markdown",
   "id": "d1b90157",
   "metadata": {},
   "source": [
    "# Data 80A/180A Data Science for Everyone\n",
    "\n",
    "# Project 3: Regression Inference\n",
    "\n",
    "### 31 Points\n",
    "\n",
    "## Due Sunday, December 5 by 11:59PM"
   ]
  },
  {
   "cell_type": "markdown",
   "id": "b967bf92",
   "metadata": {},
   "source": [
    "**Reading**: \n",
    "* [Chap 16 Inference for Regression](https://www.inferentialthinking.com/chapters/16/Inference_for_Regression.html)"
   ]
  },
  {
   "cell_type": "markdown",
   "id": "48497eee",
   "metadata": {},
   "source": [
    "Please complete this notebook by filling in the cells provided. Before you begin, execute the following cell to load the provided tests. Each time you start your server, you will need to execute this cell again to load the tests.\n",
    "\n",
    "For all problems that you must write our explanations and sentences for, you **must** provide your answer in the designated space. Moreover, throughout this homework and all future ones, please be sure to not re-assign variables throughout the notebook! For example, if you use `max_temperature` in your answer to one question, do not reassign it later on.\n",
    "\n",
    "**Note: This homework has hidden tests on it. That means even though tests may say 100% passed, it doesn't mean your final grade will be 100%. We will be running more tests for correctness once everyone turns in the homework.**"
   ]
  },
  {
   "cell_type": "code",
   "execution_count": null,
   "id": "d51945f3",
   "metadata": {
    "execution": {
     "iopub.execute_input": "2021-11-11T08:31:11.646833Z",
     "iopub.status.busy": "2021-11-11T08:31:11.641401Z",
     "iopub.status.idle": "2021-11-11T08:31:13.237803Z",
     "shell.execute_reply": "2021-11-11T08:31:13.237168Z"
    }
   },
   "outputs": [],
   "source": [
    "# Don't change this cell; just run it. \n",
    "\n",
    "import numpy as np\n",
    "from datascience import *\n",
    "\n",
    "# These lines do some fancy plotting magic\n",
    "import matplotlib\n",
    "%matplotlib inline\n",
    "import matplotlib.pyplot as plt\n",
    "plt.style.use('fivethirtyeight')\n",
    "import warnings\n",
    "warnings.simplefilter('ignore')\n",
    "from datetime import datetime\n",
    "\n",
    "import otter\n",
    "grader = otter.Notebook()"
   ]
  },
  {
   "cell_type": "markdown",
   "id": "73230ae1",
   "metadata": {},
   "source": [
    "## An Introduction to Regression Inference"
   ]
  },
  {
   "cell_type": "markdown",
   "id": "fe896165",
   "metadata": {},
   "source": [
    "Previously in this class, we've used confidence intervals to quantify uncertainty about estimates. We can also run hypothesis tests using a confidence interval under the following procedure:\n",
    "\n",
    "1. Define a null and alternative hypothesis (they must be of the form \"The parameter is X\" and \"The parameter is not X\").\n",
    "2. Choose a p-value cutoff, and call it q.\n",
    "3. Construct a $(100-q)\\%$ interval using bootstrap sampling (for example, if your p-value cutoff q is 0.01, or 1%, then construct a 99% confidence interval).\n",
    "4. Using the confidence interval, determine if your data are more consistent with your null or alternative hypothesis:\n",
    "   * If the null hypothesis mean X is in your confidence interval, the data are more consistent with the null hypothesis.\n",
    "   * If the null hypothesis mean X is *not* in your confidence interval, the data are more consistent with the alternative hypothesis.\n",
    "\n",
    "More recently, we've discussed the use of linear regression to make predictions based on correlated variables. For example, we can predict the height of children based on the heights of their parents.\n",
    "\n",
    "We can combine these two topics to make powerful statements about our population by using the following techniques:\n",
    "- Bootstrapped interval for the true slope\n",
    "- Bootstrapped prediction interval for y (given a particular value of x)\n",
    "\n",
    "This project explores these two methods."
   ]
  },
  {
   "cell_type": "markdown",
   "id": "5226ebdb",
   "metadata": {},
   "source": [
    "## The Data\n",
    "The [Snowy Plover](https://www.audubon.org/field-guide/bird/snowy-plover) is a tiny bird that lives on the coast in parts of California and elsewhere. It is so small that it is vulnerable to many predators, including people and dogs that don't look where they are stepping when they go to the beach. It is considered endangered in many parts of the U.S.\n",
    "\n",
    "The data are about the eggs and newly-hatched chicks of the Snowy Plover. Here's a picture of [a parent bird incubating its eggs](http://cescos.fau.edu/jay/eps/articles/snowyplover.html).\n",
    "\n",
    "<img src=\"plover_and_eggs.jpeg\" alt=\"Plover and Eggs\">\n",
    "\n",
    "The data were collected at the Point Reyes National Seashore by a former [student at UC Berkeley](https://openlibrary.org/books/OL2038693M/BLSS_the_Berkeley_interactive_statistical_system). The goal was to see how the size of an egg could be used to predict the weight of the resulting chick. The bigger the newly-hatched chick, the more likely it is to survive.\n",
    "\n",
    "<img src=\"plover_and_chick.jpeg\" alt=\"Plover and Chick\">\n",
    "\n",
    "Each row of the data frame below corresponds to one Snowy Plover egg and the resulting chick. Note how tiny the bird is:\n",
    "\n",
    "- `Egg Length` and `Egg Breadth` (widest diameter) are measured in millimeters\n",
    "- `Egg Weight` and `Bird Weight` are measured in grams; for comparison, a standard paper clip weighs about one gram"
   ]
  },
  {
   "cell_type": "code",
   "execution_count": null,
   "id": "2ec49bc0",
   "metadata": {
    "execution": {
     "iopub.execute_input": "2021-11-11T08:31:13.243922Z",
     "iopub.status.busy": "2021-11-11T08:31:13.243367Z",
     "iopub.status.idle": "2021-11-11T08:31:13.256216Z",
     "shell.execute_reply": "2021-11-11T08:31:13.255583Z"
    }
   },
   "outputs": [],
   "source": [
    "birds = Table.read_table('snowy_plover.csv')\n",
    "birds"
   ]
  },
  {
   "cell_type": "markdown",
   "id": "c212dd66",
   "metadata": {},
   "source": [
    "In this investigation, we will be using the egg weight to predict bird weight. Run the cell below to create a scatter plot of the egg weights and bird weights, along with their line of best fit."
   ]
  },
  {
   "cell_type": "code",
   "execution_count": null,
   "id": "a23d5a71",
   "metadata": {
    "execution": {
     "iopub.execute_input": "2021-11-11T08:31:13.291669Z",
     "iopub.status.busy": "2021-11-11T08:31:13.279329Z",
     "iopub.status.idle": "2021-11-11T08:31:13.514539Z",
     "shell.execute_reply": "2021-11-11T08:31:13.513898Z"
    }
   },
   "outputs": [],
   "source": [
    "# Just run this cell and examine the scatter plot.\n",
    "birds.scatter('Egg Weight', \"Bird Weight\", fit_line=True)"
   ]
  },
  {
   "cell_type": "markdown",
   "id": "0bd00443",
   "metadata": {},
   "source": [
    "## 1. Finding the Bootstrap Confidence Interval for the True Slope\n",
    "\n",
    "Looking at the scatter plot of our sample, we observe a linear relationship between egg weight and bird weight. However, relationships that appear in a sample might not exist in the population from which the sample was taken.\n",
    "\n",
    "We want to know if there truly exists a linear relationship between egg weight and bird weight for Snowy Plovers. If there is no linear relationship between the two variables, then we'd expect a correlation of 0. Consequently, the slope of the regression line would also be 0. "
   ]
  },
  {
   "cell_type": "markdown",
   "id": "d00cccdb",
   "metadata": {
    "deletable": false
   },
   "source": [
    "**Question 1.1.** Let's run a hypothesis test using confidence intervals to see if there is a linear relationship between egg weight and bird weight. Define the null and alternative hypotheses that will allow you to conduct this test. **(8 points)**\n",
    "\n",
    "*Note:* Please write your answer **in the cell below** in the following format:\n",
    "- **Null Hypothesis:**\n",
    "- **Alternative Hypothesis:**"
   ]
  },
  {
   "cell_type": "markdown",
   "id": "0d5b0bd9",
   "metadata": {},
   "source": [
    "_Type your answer here, replacing this text._"
   ]
  },
  {
   "cell_type": "markdown",
   "id": "c5c293e7",
   "metadata": {},
   "source": [
    "**Question 1.2. (3 pts)** Define the following two functions:\n",
    "\n",
    "1. `standard_units`: This function takes in an array of numbers and returns an array containing those numbers converted to standard units.\n",
    "2. `correlation`: This function takes in a table and two column names (one for *x* and one for *y*) and returns the correlation between these columns. "
   ]
  },
  {
   "cell_type": "code",
   "execution_count": null,
   "id": "bca6b34b",
   "metadata": {
    "ExecuteTime": {
     "end_time": "2018-04-11T12:05:50.894154Z",
     "start_time": "2018-04-11T12:05:50.889145Z"
    },
    "deletable": false,
    "execution": {
     "iopub.execute_input": "2021-11-11T08:31:13.521823Z",
     "iopub.status.busy": "2021-11-11T08:31:13.521211Z",
     "iopub.status.idle": "2021-11-11T08:31:13.524273Z",
     "shell.execute_reply": "2021-11-11T08:31:13.523668Z"
    }
   },
   "outputs": [],
   "source": [
    "def standard_units(arr):\n",
    "    ...\n",
    "\n",
    "def correlation(tbl, x_col, y_col):\n",
    "    ..."
   ]
  },
  {
   "cell_type": "code",
   "execution_count": null,
   "id": "3397ee1b",
   "metadata": {
    "deletable": false,
    "editable": false
   },
   "outputs": [],
   "source": [
    "grader.check(\"q1_2\")"
   ]
  },
  {
   "cell_type": "markdown",
   "id": "1072a1b4",
   "metadata": {},
   "source": [
    "**Question 1.3. (4 pts)** Using the functions you just implemented, create a function called `fit_line`.  It should take a table like `birds` and the column names associated to *x* and *y* as its arguments and return an array containing the slope and intercept of the regression line (in that order) that predicts the *y* column in the table using the *x* column."
   ]
  },
  {
   "cell_type": "code",
   "execution_count": null,
   "id": "8bfd992d",
   "metadata": {
    "ExecuteTime": {
     "end_time": "2018-04-11T12:05:51.483516Z",
     "start_time": "2018-04-11T12:05:51.472484Z"
    },
    "execution": {
     "iopub.execute_input": "2021-11-11T08:31:13.567504Z",
     "iopub.status.busy": "2021-11-11T08:31:13.566840Z",
     "iopub.status.idle": "2021-11-11T08:31:13.571274Z",
     "shell.execute_reply": "2021-11-11T08:31:13.570525Z"
    },
    "for_assignment_type": "solution"
   },
   "outputs": [],
   "source": [
    "def fit_line(tbl, x_col, y_col):\n",
    "    ...\n",
    "   \n",
    "                       \n",
    "fit_line(birds, \"Egg Weight\", \"Bird Weight\")"
   ]
  },
  {
   "cell_type": "code",
   "execution_count": null,
   "id": "e034c3d5",
   "metadata": {
    "deletable": false,
    "editable": false
   },
   "outputs": [],
   "source": [
    "grader.check(\"q1_3\")"
   ]
  },
  {
   "cell_type": "markdown",
   "id": "655935df",
   "metadata": {},
   "source": [
    "Run this cell to plot the line produced by calling `fit_line` on the `birds` table.  \n",
    "\n",
    "**Note:** You are not responsible for the code in the cell below, but make sure that your `fit_line` function generated a reasonable line for the data."
   ]
  },
  {
   "cell_type": "code",
   "execution_count": null,
   "id": "ec8c1291",
   "metadata": {
    "ExecuteTime": {
     "end_time": "2018-04-11T12:05:51.754766Z",
     "start_time": "2018-04-11T12:05:51.624390Z"
    },
    "execution": {
     "iopub.execute_input": "2021-11-11T08:31:13.644959Z",
     "iopub.status.busy": "2021-11-11T08:31:13.630792Z",
     "iopub.status.idle": "2021-11-11T08:31:13.796356Z",
     "shell.execute_reply": "2021-11-11T08:31:13.796806Z"
    }
   },
   "outputs": [],
   "source": [
    "# Ensure your fit_line function fits a reasonable line \n",
    "# to the data in birds, using the plot below.\n",
    "\n",
    "slope, intercept = fit_line(birds, \"Egg Weight\", \"Bird Weight\")\n",
    "birds.scatter(\"Egg Weight\", \"Bird Weight\")\n",
    "plt.plot([min(birds.column(\"Egg Weight\")), max(birds.column(\"Egg Weight\"))], \n",
    "         [slope*min(birds.column(\"Egg Weight\"))+intercept, slope*max(birds.column(\"Egg Weight\"))+intercept])\n",
    "plt.show()"
   ]
  },
  {
   "cell_type": "markdown",
   "id": "f6a1064c",
   "metadata": {},
   "source": [
    "Now we have all the tools we need to create a confidence interval that quantifies our uncertainty about the true relationship between egg weight and bird weight."
   ]
  },
  {
   "cell_type": "markdown",
   "id": "714b0c15",
   "metadata": {},
   "source": [
    "**Question 1.4. (4 pts)** Create an array called `resampled_slopes` that contains the slope of the best fit line for 1000 bootstrap resamples of `birds`. Plot the distribution of these slopes.\n"
   ]
  },
  {
   "cell_type": "code",
   "execution_count": null,
   "id": "7712a579",
   "metadata": {
    "execution": {
     "iopub.execute_input": "2021-11-11T08:31:14.193580Z",
     "iopub.status.busy": "2021-11-11T08:31:13.828668Z",
     "iopub.status.idle": "2021-11-11T08:31:14.562606Z",
     "shell.execute_reply": "2021-11-11T08:31:14.563186Z"
    },
    "for_assignment_type": "solution"
   },
   "outputs": [],
   "source": [
    "resample_slopes = ...\n",
    "\n",
    "for i in np.arange(1000): \n",
    "    birds_resample = ...\n",
    "    resample_line = ...\n",
    "    resample_slope = ...\n",
    "    resample_slopes = ...\n",
    "    \n",
    "# DO NOT CHANGE THIS LINE\n",
    "Table().with_column(\"Slope estimate\", resample_slopes).hist()"
   ]
  },
  {
   "cell_type": "code",
   "execution_count": null,
   "id": "48943d5b",
   "metadata": {
    "deletable": false,
    "editable": false
   },
   "outputs": [],
   "source": [
    "grader.check(\"q1_4\")"
   ]
  },
  {
   "cell_type": "markdown",
   "id": "2fb6b06c",
   "metadata": {},
   "source": [
    "**Question 1.5. (2 pts)** Use your resampled slopes to construct an 95% confidence interval for the true value of the slope. **"
   ]
  },
  {
   "cell_type": "code",
   "execution_count": null,
   "id": "cc6ed703",
   "metadata": {
    "ExecuteTime": {
     "end_time": "2018-04-11T12:05:53.077324Z",
     "start_time": "2018-04-11T12:05:53.072310Z"
    },
    "deletable": false,
    "execution": {
     "iopub.execute_input": "2021-11-11T08:31:14.581346Z",
     "iopub.status.busy": "2021-11-11T08:31:14.580722Z",
     "iopub.status.idle": "2021-11-11T08:31:14.584388Z",
     "shell.execute_reply": "2021-11-11T08:31:14.583755Z"
    }
   },
   "outputs": [],
   "source": [
    "lower_end = ...\n",
    "upper_end = ...\n",
    "print(\"95% confidence interval for slope: [{:g}, {:g}]\".format(lower_end, upper_end))"
   ]
  },
  {
   "cell_type": "code",
   "execution_count": null,
   "id": "28ba8ee8",
   "metadata": {
    "deletable": false,
    "editable": false
   },
   "outputs": [],
   "source": [
    "grader.check(\"q1_5\")"
   ]
  },
  {
   "cell_type": "markdown",
   "id": "754578ea",
   "metadata": {},
   "source": [
    "**Question 1.6. (3 pts)** Based on your confidence interval, would you accept or reject the null hypothesis that the true slope is 0?  Why?  What p-value cutoff are you using?"
   ]
  },
  {
   "cell_type": "markdown",
   "id": "3f0f5a59",
   "metadata": {},
   "source": [
    "_Type your answer here, replacing this text._"
   ]
  },
  {
   "cell_type": "markdown",
   "id": "7d360320",
   "metadata": {},
   "source": [
    "<!-- END QUESTION -->\n",
    "\n",
    "\n",
    "\n",
    "## 2. Finding the Bootstrap Prediction Interval"
   ]
  },
  {
   "cell_type": "markdown",
   "id": "1c4e3648",
   "metadata": {},
   "source": [
    "Suppose we're visiting Point Reyes and stumble upon some Snowy Plover eggs; we'd like to know how heavy they'll be once they hatch. In other words, we want to use our regression line to make predictions about a bird's weight based on the weight of the corresponding egg.\n",
    "\n",
    "However, just as we're uncertain about the slope of the true regression line, we're also uncertain about the predictions made based on the true regression line."
   ]
  },
  {
   "cell_type": "markdown",
   "id": "f643fcf6",
   "metadata": {},
   "source": [
    "**Question 2.1. (4 pts)** Define the function `fitted_value`.  It should take in four arguments:\n",
    "\n",
    "1. `table`: a table like `birds`.  We'll be predicting the values in the second column using the first.\n",
    "2. `x_col`: the name of our x-column within the input `table`\n",
    "3. `y_col`: the name of our y-column within the input `table`\n",
    "2. `given_x`: a number, the value of the predictor variable for which we'd like to make a prediction.\n",
    "  \n",
    "The function should return the line’s prediction for the given x."
   ]
  },
  {
   "cell_type": "code",
   "execution_count": null,
   "id": "78435987",
   "metadata": {
    "ExecuteTime": {
     "end_time": "2018-04-11T12:05:53.935846Z",
     "start_time": "2018-04-11T12:05:53.927826Z"
    },
    "execution": {
     "iopub.execute_input": "2021-11-11T08:31:14.620569Z",
     "iopub.status.busy": "2021-11-11T08:31:14.619905Z",
     "iopub.status.idle": "2021-11-11T08:31:14.623844Z",
     "shell.execute_reply": "2021-11-11T08:31:14.624364Z"
    },
    "for_assignment_type": "solution"
   },
   "outputs": [],
   "source": [
    "def fitted_value(table, x_col, y_col, given_x):\n",
    "    line = ...\n",
    "    slope = ...\n",
    "    intercept = ...\n",
    "    ...\n",
    "\n",
    "# Here's an example of how fitted_value is used. The code below\n",
    "# computes the prediction for the bird weight, in grams, based on\n",
    "# an egg weight of 8 grams.\n",
    "egg_weight_eight = fitted_value(birds, \"Egg Weight\", \"Bird Weight\", 8)\n",
    "egg_weight_eight"
   ]
  },
  {
   "cell_type": "code",
   "execution_count": null,
   "id": "06d49294",
   "metadata": {
    "deletable": false,
    "editable": false
   },
   "outputs": [],
   "source": [
    "grader.check(\"q2_1\")"
   ]
  },
  {
   "cell_type": "markdown",
   "id": "4f8582b0",
   "metadata": {},
   "source": [
    "**Question 2.2. (1 pt)** Shayan, the resident Snowy Plover expert at Point Reyes, tells us that the egg he has been carefully observing has a weight of 9 grams. Using `fitted_value` above, assign the variable `experts_egg` to the predicted bird weight for Shayan's egg. "
   ]
  },
  {
   "cell_type": "code",
   "execution_count": null,
   "id": "279c532f",
   "metadata": {
    "ExecuteTime": {
     "end_time": "2018-04-11T12:05:54.430725Z",
     "start_time": "2018-04-11T12:05:54.424720Z"
    },
    "deletable": false,
    "execution": {
     "iopub.execute_input": "2021-11-11T08:31:14.648951Z",
     "iopub.status.busy": "2021-11-11T08:31:14.648376Z",
     "iopub.status.idle": "2021-11-11T08:31:14.652848Z",
     "shell.execute_reply": "2021-11-11T08:31:14.652165Z"
    }
   },
   "outputs": [],
   "source": [
    "experts_egg = ...\n",
    "experts_egg"
   ]
  },
  {
   "cell_type": "code",
   "execution_count": null,
   "id": "25ccfad4",
   "metadata": {
    "deletable": false,
    "editable": false
   },
   "outputs": [],
   "source": [
    "grader.check(\"q2_2\")"
   ]
  },
  {
   "cell_type": "code",
   "execution_count": null,
   "id": "a947af17",
   "metadata": {
    "execution": {
     "iopub.execute_input": "2021-11-11T08:31:14.677827Z",
     "iopub.status.busy": "2021-11-11T08:31:14.677014Z",
     "iopub.status.idle": "2021-11-11T08:31:14.680724Z",
     "shell.execute_reply": "2021-11-11T08:31:14.681200Z"
    },
    "scrolled": true
   },
   "outputs": [],
   "source": [
    "# Let's look at the number of rows in the birds table.\n",
    "birds.num_rows"
   ]
  },
  {
   "cell_type": "markdown",
   "id": "e996cc22",
   "metadata": {},
   "source": [
    "A fellow parkgoer raises the following objection to your prediction:\n",
    "\n",
    "> \"Your prediction depends on your sample of 44 birds.  Wouldn't your prediction change if you had a different sample of birds?\"\n",
    "\n",
    "Having read section [16.3](https://inferentialthinking.com/chapters/16/3/Prediction_Intervals.html) of the textbook, you know just the response! Had the sample been different, the regression line would have been different too. This would ultimately result in a different prediction. To see how good our prediction is, we must get a sense of how variable the prediction can be."
   ]
  },
  {
   "cell_type": "markdown",
   "id": "7a8a5fe7",
   "metadata": {},
   "source": [
    "**Question 2.3. (3 pts)** Define a function `compute_resampled_line` that takes in a table `tbl`and two column names, `x_col` and `y_col`, and returns an array containing the parameters of the best fit line (slope and intercept) for one bootstrapped resample of the table."
   ]
  },
  {
   "cell_type": "code",
   "execution_count": null,
   "id": "5b120d31",
   "metadata": {
    "execution": {
     "iopub.execute_input": "2021-11-11T08:31:14.686473Z",
     "iopub.status.busy": "2021-11-11T08:31:14.685883Z",
     "iopub.status.idle": "2021-11-11T08:31:14.688989Z",
     "shell.execute_reply": "2021-11-11T08:31:14.688372Z"
    }
   },
   "outputs": [],
   "source": [
    "def compute_resampled_line(tbl, x_col, y_col):\n",
    "    resample = ...\n",
    "    resampled_line = ...\n",
    "    ..."
   ]
  },
  {
   "cell_type": "code",
   "execution_count": null,
   "id": "0aa984d6",
   "metadata": {
    "deletable": false,
    "editable": false
   },
   "outputs": [],
   "source": [
    "grader.check(\"q2_3\")"
   ]
  },
  {
   "cell_type": "markdown",
   "id": "e211cb55",
   "metadata": {},
   "source": [
    "**Run** the following cell below in order to define the function `bootstrap_lines`.  It takes in four arguments:\n",
    "1. `tbl`: a table like `birds`\n",
    "2. `x_col`: the name of our x-column within the input `tbl`\n",
    "3. `y_col`: the name of our y-column within the input `tbl`\n",
    "4. `num_bootstraps`: an integer, a number of bootstraps to run.\n",
    "\n",
    "It returns a *table* with one row for each bootstrap resample and the following two columns:\n",
    "1. `Slope`: the bootstrapped slopes \n",
    "2. `Intercept`: the corresponding bootstrapped intercepts "
   ]
  },
  {
   "cell_type": "code",
   "execution_count": null,
   "id": "11ac40c2",
   "metadata": {
    "ExecuteTime": {
     "end_time": "2018-04-11T12:05:55.698074Z",
     "start_time": "2018-04-11T12:05:55.243866Z"
    },
    "execution": {
     "iopub.execute_input": "2021-11-11T08:31:14.803232Z",
     "iopub.status.busy": "2021-11-11T08:31:14.728233Z",
     "iopub.status.idle": "2021-11-11T08:31:15.159909Z",
     "shell.execute_reply": "2021-11-11T08:31:15.160447Z"
    },
    "for_assignment_type": "solution"
   },
   "outputs": [],
   "source": [
    "def bootstrap_lines(tbl, x_col, y_col, num_bootstraps):\n",
    "    resampled_slopes = make_array()\n",
    "    resampled_intercepts = make_array() \n",
    "    for i in np.arange(num_bootstraps): \n",
    "        resampled_line = compute_resampled_line(tbl, x_col, y_col) \n",
    "        resampled_slope = resampled_line.item(0) \n",
    "        resampled_intercept = resampled_line.item(1) \n",
    "        resampled_slopes = np.append(resampled_slopes,resampled_slope)\n",
    "        resampled_intercepts = np.append(resampled_intercepts,resampled_intercept)\n",
    "    tbl_lines = Table().with_columns('Slope', resampled_slopes, 'Intercept', resampled_intercepts)\n",
    "    return tbl_lines\n",
    "\n",
    "regression_lines = bootstrap_lines(birds, \"Egg Weight\", \"Bird Weight\", 1000)\n",
    "regression_lines"
   ]
  },
  {
   "cell_type": "markdown",
   "id": "d903f579",
   "metadata": {},
   "source": [
    "**Question 2.4. (2 pts)** Create an array called `predictions_for_eight` that contains the predicted bird weights based on an egg of weight 8 grams for each regression line in `regression_lines`. "
   ]
  },
  {
   "cell_type": "code",
   "execution_count": null,
   "id": "7571486a",
   "metadata": {
    "ExecuteTime": {
     "end_time": "2018-04-11T12:05:55.991855Z",
     "start_time": "2018-04-11T12:05:55.759236Z"
    },
    "deletable": false,
    "execution": {
     "iopub.execute_input": "2021-11-11T08:31:15.187182Z",
     "iopub.status.busy": "2021-11-11T08:31:15.186520Z",
     "iopub.status.idle": "2021-11-11T08:31:15.396791Z",
     "shell.execute_reply": "2021-11-11T08:31:15.396285Z"
    },
    "scrolled": true
   },
   "outputs": [],
   "source": [
    "predictions_for_eight = ...\n",
    "\n",
    "# This will make a histogram of your predictions:\n",
    "table_of_predictions = Table().with_column('Predictions at Egg Weight=8', predictions_for_eight)\n",
    "table_of_predictions.hist('Predictions at Egg Weight=8', bins=20)"
   ]
  },
  {
   "cell_type": "code",
   "execution_count": null,
   "id": "2a5b384f",
   "metadata": {
    "deletable": false,
    "editable": false
   },
   "outputs": [],
   "source": [
    "grader.check(\"q2_4\")"
   ]
  },
  {
   "cell_type": "markdown",
   "id": "191b070d",
   "metadata": {},
   "source": [
    "**Question 2.5. (2 pts)** Create an approximate 95% confidence interval for these predictions. "
   ]
  },
  {
   "cell_type": "code",
   "execution_count": null,
   "id": "255a7599",
   "metadata": {
    "ExecuteTime": {
     "end_time": "2018-04-11T12:05:56.097136Z",
     "start_time": "2018-04-11T12:05:56.089117Z"
    },
    "deletable": false,
    "execution": {
     "iopub.execute_input": "2021-11-11T08:31:15.413471Z",
     "iopub.status.busy": "2021-11-11T08:31:15.412755Z",
     "iopub.status.idle": "2021-11-11T08:31:15.418131Z",
     "shell.execute_reply": "2021-11-11T08:31:15.417156Z"
    },
    "scrolled": true
   },
   "outputs": [],
   "source": [
    "lower_bound = ...\n",
    "upper_bound = ...\n",
    "\n",
    "print('95% Confidence interval for predictions for x=8: (', lower_bound,\",\", upper_bound, ')')"
   ]
  },
  {
   "cell_type": "code",
   "execution_count": null,
   "id": "1ef510e0",
   "metadata": {
    "deletable": false,
    "editable": false
   },
   "outputs": [],
   "source": [
    "grader.check(\"q2_5\")"
   ]
  },
  {
   "cell_type": "code",
   "execution_count": null,
   "id": "9df74bb4",
   "metadata": {},
   "outputs": [],
   "source": [
    "# This will make a histogram and add the confidence interval of your predictions:\n",
    "table_of_predictions.hist('Predictions at Egg Weight=8', bins=20)\n",
    "plt.ylim(-0.1, 12)\n",
    "plt.plot(make_array(lower_bound, upper_bound), make_array(0, 0), color='yellow', lw=3, zorder=5);"
   ]
  },
  {
   "cell_type": "markdown",
   "id": "86708481",
   "metadata": {},
   "source": [
    "**Congratulations!  You've completed Project 3!**\n",
    "\n",
    "Please save your notebook, download a pdf version of the notebook, and submit it to Canvas."
   ]
  }
 ],
 "metadata": {
  "kernelspec": {
   "display_name": "Python 3 (ipykernel)",
   "language": "python",
   "name": "python3"
  },
  "language_info": {
   "codemirror_mode": {
    "name": "ipython",
    "version": 3
   },
   "file_extension": ".py",
   "mimetype": "text/x-python",
   "name": "python",
   "nbconvert_exporter": "python",
   "pygments_lexer": "ipython3",
   "version": "3.7.8"
  }
 },
 "nbformat": 4,
 "nbformat_minor": 5
}

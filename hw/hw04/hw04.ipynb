{
 "cells": [
  {
   "cell_type": "markdown",
   "metadata": {
    "deletable": false,
    "editable": false
   },
   "source": [
    "# Data 80A/180A Data Science for Everyone\n",
    "\n",
    "# Homework 4: Data Ethics \n",
    "\n",
    "###  51 Points + 5 Extra Credit Points\n",
    "\n",
    "## Due Friday, September 24 by 11:59PM"
   ]
  },
  {
   "cell_type": "markdown",
   "metadata": {},
   "source": [
    "**Reading**: \n",
    "* [Chapter 6: Tables](https://www.inferentialthinking.com/chapters/06/Tables.html)\n",
    "* [Chapter 7: Visualization](https://www.inferentialthinking.com/chapters/07/Visualization.html)\n",
    "\n",
    "\n",
    "**Helpful Resource**:\n",
    "\n",
    "* [Python Reference](http://data8.org/fa21/python-reference.html): Cheat sheet of helpful array & table methods used in Data 80A/180A!"
   ]
  },
  {
   "cell_type": "markdown",
   "metadata": {
    "deletable": false,
    "editable": false
   },
   "source": [
    "In Lab 4, we explored social media giant Facebook's users' base and its revenue streams, most of whicb comes from advertising. Have you thought about: by what means do social media platforms, like Facebook, use to target its users? Or what are the roles social media platforms and tech companies play when dealing with your personal information? What have they done and are you ok with it?  \n",
    "\n",
    "In this homework, we will explore some data ethics issues, including:\n",
    "\n",
    "* Social media platforms, online shopping influence, data sharing, and data monopoly\n",
    "\n",
    "* Revenues of top US Tech-related companies and data privacy\n",
    "\n",
    "* Data breach (data security)\n",
    "\n",
    "* Data privacy and targeted ads\n"
   ]
  },
  {
   "cell_type": "code",
   "execution_count": null,
   "metadata": {
    "deletable": false,
    "editable": false
   },
   "outputs": [],
   "source": [
    "import pandas as pd\n",
    "from datascience import *\n",
    "import numpy as np\n",
    "import matplotlib.pyplot as plt\n",
    "%matplotlib inline\n",
    "import otter\n",
    "grader = otter.Notebook()"
   ]
  },
  {
   "cell_type": "markdown",
   "metadata": {
    "deletable": false,
    "editable": false
   },
   "source": [
    "## 1. Social Media Platforms, Online Shopping Influence, Data Sharing, and Data Monopoly"
   ]
  },
  {
   "cell_type": "markdown",
   "metadata": {},
   "source": [
    "Let's take a quick look at a [2017 survey](https://data.world/ahalps/social-influence-on-shopping) of 2,676 millennials with data on social platforms and their influence on online shopping. It will shed some light on social platforms that have the most influence in online shopping."
   ]
  },
  {
   "cell_type": "code",
   "execution_count": null,
   "metadata": {},
   "outputs": [],
   "source": [
    "# read in the survey results\n",
    "shopping = Table.read_table('WhatsgoodlyData-6.csv')\n",
    "shopping"
   ]
  },
  {
   "cell_type": "markdown",
   "metadata": {
    "deletable": false,
    "editable": false
   },
   "source": [
    "**Question 1.1. (2 pts)** Let's focus on rows where `segment_type` is *Mobile* only.  Assign `shopping` to the resulting table.\n",
    "\n",
    "*Hint:* Table 1 displays the expected output."
   ]
  },
  {
   "cell_type": "code",
   "execution_count": null,
   "metadata": {
    "scrolled": true
   },
   "outputs": [],
   "source": [
    "# shopping = shopping.take(0,1,2,3,4)\n",
    "shopping = shopping.where('segment_type', are.containing('Mobile'))  # ...\n",
    "shopping"
   ]
  },
  {
   "cell_type": "markdown",
   "metadata": {},
   "source": [
    "Table 1\n",
    "\n",
    "<img src=\"Q1.1_table.PNG\"> "
   ]
  },
  {
   "cell_type": "markdown",
   "metadata": {
    "deletable": false,
    "editable": false
   },
   "source": [
    "**Question 1.2. (4 pts)** Note that the `percentage` column is expressed as a fraction, not percentage.  Change that column to percentage; also relabel `answer` column to `platform`.\n",
    "\n",
    "*Hint:* Table 2 displays the expected output."
   ]
  },
  {
   "cell_type": "code",
   "execution_count": null,
   "metadata": {},
   "outputs": [],
   "source": [
    "shopping = shopping.relabeled('answer', 'platform') # ...\n",
    "percentages = shopping.column('percentage')*100  # ...\n",
    "shopping = shopping.drop('percentage').with_column('percentage', percentages) # ...\n",
    "shopping"
   ]
  },
  {
   "cell_type": "markdown",
   "metadata": {
    "deletable": false,
    "editable": false
   },
   "source": [
    "Table 2\n",
    "\n",
    "<img src=\"Q1.2_table.PNG\"> "
   ]
  },
  {
   "cell_type": "markdown",
   "metadata": {
    "deletable": false,
    "editable": false
   },
   "source": [
    "**Question 1.3. (2 pts)**  Generate a bar graph showing the percentageof users, in sorted order, influenced by the various platflorms.\n",
    "\n",
    "*Hint:* Graph 1 shows the expected output."
   ]
  },
  {
   "cell_type": "code",
   "execution_count": null,
   "metadata": {},
   "outputs": [],
   "source": [
    "shopping.sort('percentage', descending=True).barh('platform', 'percentage')  # ..."
   ]
  },
  {
   "cell_type": "markdown",
   "metadata": {
    "deletable": false,
    "editable": false
   },
   "source": [
    "Graph 1\n",
    "\n",
    "<img src=\"Q1.3_graph.PNG\"> "
   ]
  },
  {
   "cell_type": "markdown",
   "metadata": {},
   "source": [
    "In Lab 4, we saw that WhatsApp was the single most downloaded app overall in 2020. How would Facebook monetize WhatsApp? Some authors have claimed Facebook will allow users and businesses across the world to have a [payment](https://observer.com/2020/01/whatsapp-ads-facebook-monetization-payment-platform/) system. \n",
    "\n",
    "Recently (in 2021), WhatsApp updated their privacy policy, forcing users to agree sharing their data with Facebook (the parent company) in order to keep using the service or have their accounts [deleted](https://www.forbes.com/sites/carlypage/2021/01/08/whatsapp-tells-users-share-your-data-with-facebook-or-well-deactivate-your-account/?sh=1dfae9b92d46). Later, WhatsApp claimed it was not giving all users' [data](https://www.theverge.com/2021/1/12/22226792/whatsapp-privacy-policy-response-signal-telegram-controversy-clarification) to Facebook."
   ]
  },
  {
   "cell_type": "markdown",
   "metadata": {
    "deletable": false,
    "editable": false
   },
   "source": [
    " **Question 1.4 (12 pts)** There is a thin line between \"data privacy\" and data ethics. \n",
    "\n",
    "  (a) Should Facebook let you decide what part of your data that you would like to share?  \n",
    "  (b) Is it ok that Facebook forces you to share your data or have your account deleted (since it is a free service)?  \n",
    "  (c) Facebook (and other companies) knows a lot about you.  How do you feel about that?\n",
    "   Please, share your thoughts in the following cell."
   ]
  },
  {
   "cell_type": "markdown",
   "metadata": {},
   "source": [
    "Your answer ...\n"
   ]
  },
  {
   "cell_type": "markdown",
   "metadata": {},
   "source": [
    "## 2. Revenues of Top US Tech-related Companies and Data Privacy\n",
    "\n",
    " \n",
    "The article [How Big Tech Makes Their Billions](https://www.visualcapitalist.com/how-big-tech-makes-their-billions-2020/) breaks down the revenue streams of the top US tech companies -- Apple, Google, Amazon, Microsoft, and Facebook -- in 2019. It is an interesting read.  Here we look at the dataset of revenues for these tech companies."
   ]
  },
  {
   "cell_type": "code",
   "execution_count": null,
   "metadata": {},
   "outputs": [],
   "source": [
    "# run this cell\n",
    "tech_revenue_table = Table.read_table('BigTechRevenue.csv')\n",
    "tech_revenue_table"
   ]
  },
  {
   "cell_type": "markdown",
   "metadata": {
    "deletable": false,
    "editable": false
   },
   "source": [
    "**Question 2.1 (2 pts)**  Generate a bar graph (overlaid) showing the revenues of the tech companies.\n",
    "\n",
    "*Hint:* Graph 2 shows the expected output."
   ]
  },
  {
   "cell_type": "code",
   "execution_count": null,
   "metadata": {},
   "outputs": [],
   "source": [
    "tech_revenue_table.barh('company') # ..."
   ]
  },
  {
   "cell_type": "markdown",
   "metadata": {
    "deletable": false,
    "editable": false
   },
   "source": [
    "Graph 2\n",
    "\n",
    "<img src=\"Q2.1_graph.PNG\"> "
   ]
  },
  {
   "cell_type": "markdown",
   "metadata": {
    "deletable": false,
    "editable": false
   },
   "source": [
    "**Question 2.2 (2 pts)**  Next, Generate non-overlaid bar graphs showing the revenues of the tech companies.\n",
    "\n",
    "*Hint:* Graph 3 shows the expected output."
   ]
  },
  {
   "cell_type": "code",
   "execution_count": null,
   "metadata": {},
   "outputs": [],
   "source": [
    "# you only need a single line of code -- set parameter overlay = False\n",
    "tech_revenue_table.barh('company', overlay = False)      # ..."
   ]
  },
  {
   "cell_type": "markdown",
   "metadata": {
    "deletable": false,
    "editable": false
   },
   "source": [
    "Graph 3\n",
    "\n",
    "<img src=\"Q2.2_graph.PNG\"> "
   ]
  },
  {
   "cell_type": "markdown",
   "metadata": {},
   "source": [
    "The following is a mobility trend report graph that Apple released to the public. The data is published daily and reflects directions requests from Apple Maps users."
   ]
  },
  {
   "cell_type": "markdown",
   "metadata": {},
   "source": [
    "![MobilityTrendReportApple](MobilityTrendReportApple.png)\n",
    "[Apple Mobility Trends Reports](https://covid19.apple.com/mobility)"
   ]
  },
  {
   "cell_type": "markdown",
   "metadata": {},
   "source": [
    "Is it ok for Apple to share your data in aggregate form?  The internet is plagued with articles criticizing tech companies like [this one](https://www.theatlantic.com/technology/archive/2019/01/apples-hypocritical-defense-data-privacy/581680/), which accuses Apple of enabling surveillance that supposedly offends its own values on data privacy. Remember, Apple, Google, Facebook, and many more companies have access to users' data. How they use it and what they use it for is a question that we should ask ourselves.  \n",
    "\n",
    "For example, according to [The Wall Street Journal](https://www.wsj.com/articles/amazon-scooped-up-data-from-its-own-sellers-to-launch-competing-products-11587650015), Amazon has been using data collected from buyers and sellers to launch their products, which contributed to their revenue growth year after year. However, this habit has also led governments to charge Amazon with [antitrust](https://www.washingtonpost.com/world/amazon-antitrust-charges-europe-eu-vestager/2020/11/10/88df3fca-233c-11eb-9c4a-0dc6242c4814_story.html) practices, alleging \"Amazon uses the vast pool of information it gathers from its marketplace platform to identify popular products being sold by outside vendors on its website, then offers similar products itself, sometimes at lower prices.\"\n",
    "\n",
    "Interested in knowing more about what [Alphabet (Google)](https://www.avast.com/c-how-google-uses-your-data#:~:text=The%20simple%20answer%20is%20yes,%2C%20online%20purchases%2C%20and%20more) and [Microsoft](https://www.fastcompany.com/90290137/how-microsoft-has-avoided-tough-scrutiny-over-privacy-issues) do with your data? Feel free to check out the links."
   ]
  },
  {
   "cell_type": "markdown",
   "metadata": {
    "deletable": false,
    "editable": false
   },
   "source": [
    "**Question 2.3 (5 pts)**  How do you feel about sharing data with companies so they can make a profit from your data?"
   ]
  },
  {
   "cell_type": "markdown",
   "metadata": {},
   "source": [
    "Your answer ..."
   ]
  },
  {
   "cell_type": "markdown",
   "metadata": {},
   "source": [
    "## 3. Data Breach"
   ]
  },
  {
   "cell_type": "markdown",
   "metadata": {},
   "source": [
    "Have you heard or read about the [Cambridge Analytica scandal](https://www.businessinsider.com/cambridge-analytica-a-guide-to-the-trump-linked-data-firm-that-harvested-50-million-facebook-profiles-2018-3)? Data was harvested from over 87 million Facebook users through an external app by the consulting firm Cambridge Analytica to build psychological profiles of users. Later the data was used in political campaigns to help target ads. Facebook was fined $5 billion by the Federal Trade Commission for this data breach. Similar to the Facebook-Cambridge data breach, there were hundreds of other [data breaches](https://data.world/bentonporter/online-data-breaches) that people may not even be aware of. In the following dataset, we will analyze the type of data that leaked in the data breaches."
   ]
  },
  {
   "cell_type": "code",
   "execution_count": null,
   "metadata": {},
   "outputs": [],
   "source": [
    "# Just run this cell\n",
    "data_table = Table.read_table('breaches_090316.csv')\n",
    "data_table"
   ]
  },
  {
   "cell_type": "markdown",
   "metadata": {},
   "source": [
    "Note that the types of data that was leaked are listed in columns `1`, `2`, and `3`, as well as later columns though those are not cleaned yet.  We shall focus on columns `1`, `2`, and `3` for now."
   ]
  },
  {
   "cell_type": "markdown",
   "metadata": {
    "deletable": false,
    "editable": false
   },
   "source": [
    "**Question 3.1 (2 points)**  How many data breaches are contained in this data set?"
   ]
  },
  {
   "cell_type": "code",
   "execution_count": null,
   "metadata": {},
   "outputs": [],
   "source": [
    "num_of_breaches = data_table.num_rows\n",
    "num_of_breaches"
   ]
  },
  {
   "cell_type": "code",
   "execution_count": null,
   "metadata": {
    "deletable": false,
    "editable": false
   },
   "outputs": [],
   "source": [
    "grader.check(\"q31\")"
   ]
  },
  {
   "cell_type": "markdown",
   "metadata": {
    "deletable": false,
    "editable": false
   },
   "source": [
    "**Question 3.2 (2 points)**  How many times does the word **Email** occur in column `1`?"
   ]
  },
  {
   "cell_type": "code",
   "execution_count": null,
   "metadata": {},
   "outputs": [],
   "source": [
    "num_of_Email = data_table.where('1', are.containing('Email')).num_rows # ...\n",
    "num_of_Email"
   ]
  },
  {
   "cell_type": "code",
   "execution_count": null,
   "metadata": {
    "deletable": false,
    "editable": false
   },
   "outputs": [],
   "source": [
    "grader.check(\"q32\")"
   ]
  },
  {
   "cell_type": "markdown",
   "metadata": {},
   "source": [
    "The cell below contains code that reads through columns `1`, `2`, and `3` of the dataset and counts the number of times (the frequency) various types of data breaches are mentioned.  It then generates a bar graph showing the most prominant data breaches and their frequency.  "
   ]
  },
  {
   "cell_type": "code",
   "execution_count": null,
   "metadata": {
    "deletable": false,
    "editable": false
   },
   "outputs": [],
   "source": [
    "# Just run this entire section\n",
    "\n",
    "import re\n",
    "df = pd.read_csv('breaches_090316.csv')\n",
    "\n",
    "# array from column data_1 using pandas data frame\n",
    "data1_array = df['1']\n",
    "data2_array = df['2']\n",
    "data3_array = df['3']\n",
    "\n",
    "# function to make a string from an array\n",
    "def make_string(data_array):\n",
    "    string = \"\"\n",
    "    for word in data_array:\n",
    "        if not isinstance(word, float):\n",
    "            string += word\n",
    "    return string\n",
    "\n",
    "# make a long string out of datai_array \n",
    "data1_string = make_string(data1_array)\n",
    "data2_string = make_string(data2_array)\n",
    "data3_string = make_string(data3_array)\n",
    "# get the patterns we want to filter from the string\n",
    "pattern = re.compile(r'[^a-zA-Z ]+')\n",
    "# make the entire string lower case and filter the patterns\n",
    "data1_string = re.sub(pattern, '', data1_string).lower()\n",
    "data2_string = re.sub(pattern, '', data2_string).lower()\n",
    "data3_string = re.sub(pattern, '', data3_string).lower()\n",
    "# split words in data1_string\n",
    "list_data1 = data1_string.split()\n",
    "list_data2 = data2_string.split()\n",
    "list_data3 = data3_string.split()\n",
    "\n",
    "list_combined = list_data1 + list_data2 + list_data3\n",
    "# have a frequency count array\n",
    "freq = []\n",
    "# have a unique_list for unique words found\n",
    "unique_list = []\n",
    "\n",
    "# go through list_data1 and check \n",
    "# if a word is unique or not and count its frequency\n",
    "for word in list_combined:\n",
    "    if word not in unique_list:\n",
    "        unique_list.append(word)\n",
    "        num = list_combined.count(word)\n",
    "        freq.append(num)\n",
    "\n",
    "# create a python dictionary using freq and unique_list\n",
    "dictionary = dict(zip(unique_list, freq))\n",
    "# create an array of values and keys\n",
    "values = []\n",
    "keys = []\n",
    "# store the values from the dictionary into the values and keys array\n",
    "for key in dictionary:\n",
    "    if key == 'email':\n",
    "        values.append(dictionary.get(key))\n",
    "        keys.append(key)\n",
    "    if key == 'names':\n",
    "        values.append(dictionary.get(key))\n",
    "        keys.append(key)\n",
    "    if key == 'usernames':\n",
    "        values.append(dictionary.get(key))\n",
    "        keys.append(key)\n",
    "    if key == 'passwords':\n",
    "        values.append(dictionary.get(key))\n",
    "        keys.append(key)\n",
    "    if key == 'birth':\n",
    "        values.append(dictionary.get(key))\n",
    "        keys.append(key)\n",
    "    if key == 'ip':\n",
    "        values.append(dictionary.get(key))\n",
    "        keys.append(key)\n",
    " \n",
    "breach_table = Table().with_columns('data breach', keys, 'count', values)\n",
    "breach_table.barh('data breach', 'count')"
   ]
  },
  {
   "cell_type": "markdown",
   "metadata": {},
   "source": [
    " ## 4. Exploring Data Ethics -- Data Privacy and Targeted Ads\n",
    " "
   ]
  },
  {
   "cell_type": "markdown",
   "metadata": {
    "deletable": false,
    "editable": false
   },
   "source": [
    "**4.1 Facebook Fourth Quarter and Full Year 2020 Financial Highlights**\n",
    "\n",
    "The table below shows Facebbok's finances for 2020.\n",
    "\n",
    "<img src=\"fbR.png\"/>"
   ]
  },
  {
   "cell_type": "code",
   "execution_count": null,
   "metadata": {},
   "outputs": [],
   "source": [
    "# Run this cell.  Pie chart, where the slices will be ordered and plotted counter-clockwise:\n",
    "labels = 'advertising', 'other'\n",
    "sizes = [27187,885]\n",
    "explode = (0, 0.1, ) \n",
    "\n",
    "fig1, ax1 = plt.subplots()\n",
    "ax1.pie(sizes, explode=explode, labels=labels, autopct='%1.1f%%',\n",
    "        shadow=True, startangle=90)\n",
    "ax1.axis('equal')  # Equal aspect ratio ensures that pie is drawn as a circle.\n",
    "\n",
    "plt.show()"
   ]
  },
  {
   "cell_type": "markdown",
   "metadata": {},
   "source": [
    "The pie chart shows 96.8% Facebook revenue is from advertising. Now let't take a look at how Facebook runs its advertising business. In Facebook for Business webpage, Facebook provides *audience targeting advertisement service* to its clients. Here is the original statement: \n",
    "\n",
    "\"Facebook will automatically show your ads to people who are most likely to find your ads relevant. You can further target your ad delivery with three audience selection tools...Define an audience based on criteria like age, interests, geography and more.\n"
   ]
  },
  {
   "cell_type": "markdown",
   "metadata": {
    "deletable": false,
    "editable": false
   },
   "source": [
    "**Question 4.1 (6 pts)**:Do you think it is ethical to do target advertising by defining audience based on criteria like age,interests, geography? Why? "
   ]
  },
  {
   "cell_type": "markdown",
   "metadata": {},
   "source": [
    "Your answer ..."
   ]
  },
  {
   "cell_type": "markdown",
   "metadata": {},
   "source": [
    "<b> 4.2 Department of Housing and Urban Development Sues Facebook Over Housing Discrimination</b>\n",
    "\n",
    "On August 13, 2018, the Assistant Secretary for Fair Housing and Equal Opportunity(“Assistant Secretary”) filed a timely complaint with the Department of Housing and Urban Development (“HUD” or the “Department”) alleging that Facebook, Inc violated subsections 804(a), 804(b), 804(c) and 804(f) of the Fair Housing Act, 42 U.S.C. §§ 3601-19 (“Act”), by discriminating because of race, color, religion, sex, familial status, national origin and disability. Here is part of the summary:\n",
    "\n",
    "It is unlawful to make, print, or publish, or cause to be made, printed, or published, any\n",
    "notice, statement, or advertisement with respect to the sale or rental of a dwelling that indicates\n",
    "any preference, limitation, or discrimination based on race, color, religion, sex, familial status,\n",
    "national origin or disability, or that indicates an intention to make such a distinction. 42 U.S.C.\n",
    "§ 3604(c); 24 C.F.R. § 100.75(a), (b), (c)(1). Such unlawful activity includes “[s]electing media\n",
    "or locations for advertising the sale or rental of dwellings which deny a particular segment of the\n",
    "housing market information about housing opportunities because of race, color, religion, sex,\n",
    "handicap, familial status, or national origin.” [source](https://www.hud.gov/sites/dfiles/Main/documents/HUD_v_Facebook.pdf) \n",
    "\n",
    "Let's take a look at what you can set regarding *ad targeting*. [source](https://www.documentcloud.org/documents/3191165-Facebook-Propublica-Ad.html)\n",
    "\n",
    "<img src=\"ads1.png\"/>"
   ]
  },
  {
   "cell_type": "markdown",
   "metadata": {
    "deletable": false,
    "editable": false
   },
   "source": [
    "**Question 4.2 (6 pts)** On the above Facebook's set ad targeting page, which protected groups are being excluded?  Is Facebook's platform creating an environment for exclusion in our society?  Your thoughts?"
   ]
  },
  {
   "cell_type": "markdown",
   "metadata": {},
   "source": [
    "Your answer ..."
   ]
  },
  {
   "cell_type": "markdown",
   "metadata": {},
   "source": [
    "Below is another ad that was posted on Facebook \n",
    "\n",
    "Left: A Facebook ad for *Hiring CDL Drivers*.\n",
    "\n",
    "Right: Facebook’s chart indicating the percentages of men and women the ad was shown to.  [Source](https://www.propublica.org/article/facebook-ads-can-still-discriminate-against-women-and-older-workers-despite-a-civil-rights-settlement)\n",
    "\n",
    "<img src=\"ads2.png\"/>"
   ]
  },
  {
   "cell_type": "markdown",
   "metadata": {
    "deletable": false,
    "editable": false
   },
   "source": [
    "**Question 4.3 (6pts)** By the time the ad stopped running ten days later, it was shown to more than 20,000 people. Among the age group 25-34 the ad was shown to, 87% were men. Did women miss out on the opportunity of this job?  What do you think about Facebook's platform with the ability to set targets for ads?"
   ]
  },
  {
   "cell_type": "markdown",
   "metadata": {},
   "source": [
    "Your answer ..."
   ]
  },
  {
   "cell_type": "markdown",
   "metadata": {},
   "source": [
    "**4.3 Privacy Violations Using Microtargeted Ads: A Case Study** by Aleksandra Korolova\n",
    "at Stanford University\n",
    "\n",
    "Please look through the following paper [Privacy Violations Using Microtargeted Ads](https://theory.stanford.edu/~korolova/Privacy_violations_using_microtargeted_ads.pdf)\n",
    "\n",
    "The paper summary states: \n",
    "\"We propose a new class of attacks that breach user privacy by exploiting advertising systems offering microtargeting capabilities. We study the advertising system of the largest online social network, Facebook, and the risks that the design of the system poses to the privacy of its users. We propose, describe and provide experimental evidence of several novel approaches to exploiting the advertising system in order to obtain private user information.\n",
    "\n",
    "The work illustrates how a real-world system designed with an intention to protect privacy but without rigorous privacy guarantees can leak private information, and motivates the need for further research on the design of microtargeted advertising systems with provable privacy guarantees. Furthermore, it shows that user privacy may be breached not only as a result of data publishing using improper anonymization techniques, but also as a result of internal data-mining of that data. \""
   ]
  },
  {
   "cell_type": "markdown",
   "metadata": {
    "deletable": false,
    "editable": false
   },
   "source": [
    "**Question 4.4 (Extra Credit -- 5 pts)** Facebook states that \"We are committed to honoring your privacy choices and protecting your information.\" [source](https://about.fb.com/actions/protecting-privacy-and-security/?utm_source=ads&utm_medium=GS&utm_content=489243000410&utm_campaign=2021Q1) However, Standford's paper has proved that there are private information leaking issues on the Facebook platform. Moreover, Facebook allows its ad clients to exclude certain groups of users based on the privacy information that it collected from users. Is Facebook's action in accordance or contradictory to its statement? "
   ]
  },
  {
   "cell_type": "markdown",
   "metadata": {},
   "source": [
    "Your answer ..."
   ]
  },
  {
   "cell_type": "markdown",
   "metadata": {},
   "source": [
    "## Questions to ponder ...\n",
    "\n",
    "    - What platforms have the most influence on your shopping experience?\n",
    "    \n",
    "    - Is your data (all the ones that you can think of) stored in a safe place?\n",
    "    \n",
    "    - Do you know whether your data has ever been compromised?\n",
    "    \n",
    "    - Are companies using your data responsibly or ethically?\n"
   ]
  },
  {
   "cell_type": "markdown",
   "metadata": {
    "deletable": false,
    "editable": false
   },
   "source": [
    "#### Resources used in this homework:\n",
    "\n",
    "* [Social platform influence in online shopping](https://data.world/ahalps/social-influence-on-shopping)\n",
    "\n",
    "* [Online data breach](https://data.world/bentonporter/online-data-breaches)\n",
    "    \n",
    "* Want to know about [11 of the Worst Data Breaches in Media](https://auth0.com/blog/11-of-the-worst-data-breaches-in-media/)? \n",
    "   \n",
    "* [Facebook Ad Library Report](https://www.facebook.com/ads/library/report/)\n",
    "\n",
    "* [Aggregate Advertising Expenditure in the US Economy: What's Up? Is It Real?](https://hbswk.hbs.edu/item/aggregate-advertising-expenditure-in-the-us-economy)\n",
    "\n",
    "* [Facebook Advertising Targeting](https://www.facebook.com/business/ads/ad-targeting)\n",
    "\n",
    "* [Facebook Ads Can Still Discriminate Against Women and Older Workers, Despite a Civil Rights Settlement](https://www.propublica.org/article/facebook-ads-can-still-discriminate-against-women-and-older-workers-despite-a-civil-rights-settlement)\n",
    "\n",
    "* [Privacy Violations Using Microtargeted Ads: A Case Study](https://theory.stanford.edu/~korolova/Privacy_violations_using_microtargeted_ads.pdf)\n",
    "\n",
    "\n"
   ]
  },
  {
   "cell_type": "markdown",
   "metadata": {},
   "source": [
    "\n",
    "**You've completed Homework 4!**\n",
    "\n",
    "Please save your notebook, download a pdf version of the notebook, and submit it to Canvas."
   ]
  }
 ],
 "metadata": {
  "kernelspec": {
   "display_name": "Python 3 (ipykernel)",
   "language": "python",
   "name": "python3"
  },
  "language_info": {
   "codemirror_mode": {
    "name": "ipython",
    "version": 3
   },
   "file_extension": ".py",
   "mimetype": "text/x-python",
   "name": "python",
   "nbconvert_exporter": "python",
   "pygments_lexer": "ipython3",
   "version": "3.7.8"
  }
 },
 "nbformat": 4,
 "nbformat_minor": 4
}

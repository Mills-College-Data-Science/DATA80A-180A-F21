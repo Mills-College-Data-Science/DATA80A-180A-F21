{
 "cells": [
  {
   "cell_type": "markdown",
   "id": "d185d0cc",
   "metadata": {},
   "source": [
    "# Data 80A/180A Data Science for Everyone\n",
    "\n",
    "# Homework 12: Linear Regression and Survey\n",
    "\n",
    "### 51 Points\n",
    "\n",
    "## Due Friday, December 3 by 11:59PM"
   ]
  },
  {
   "cell_type": "markdown",
   "id": "22884567",
   "metadata": {},
   "source": [
    "**Reading**: \n",
    "* [Chap 5.2: The Regression Line](https://www.inferentialthinking.com/chapters/15/2/Regression_Line.html)\n",
    "* [Chap 5.3: Method of Least Squares](https://www.inferentialthinking.com/chapters/15/3/Method_of_Least_Squares.html)\n",
    "* [Chap 5.4: Least Squares Regression](https://www.inferentialthinking.com/chapters/15/4/Least_Squares_Regression.html)"
   ]
  },
  {
   "cell_type": "markdown",
   "id": "a149e41c",
   "metadata": {},
   "source": [
    "**Note: This homework has hidden tests on it. That means even though tests may say 100% passed, it doesn't mean your final grade will be 100%. We will be running more tests for correctness once everyone turns in the homework.**"
   ]
  },
  {
   "cell_type": "code",
   "execution_count": null,
   "id": "913c6322",
   "metadata": {
    "execution": {
     "iopub.execute_input": "2021-11-04T06:22:31.658687Z",
     "iopub.status.busy": "2021-11-04T06:22:31.658012Z",
     "iopub.status.idle": "2021-11-04T06:22:33.011951Z",
     "shell.execute_reply": "2021-11-04T06:22:33.011031Z"
    }
   },
   "outputs": [],
   "source": [
    "# Run this cell to set up the notebook, but please don't change it.\n",
    "\n",
    "import numpy as np\n",
    "from datascience import *\n",
    "\n",
    "# These lines do some fancy plotting magic.\n",
    "import matplotlib\n",
    "%matplotlib inline\n",
    "import matplotlib.pyplot as plt\n",
    "plt.style.use('fivethirtyeight')\n",
    "import warnings\n",
    "warnings.simplefilter('ignore', FutureWarning)\n",
    "from datetime import datetime\n",
    "\n",
    "import otter\n",
    "grader = otter.Notebook()"
   ]
  },
  {
   "cell_type": "markdown",
   "id": "dc7da11a",
   "metadata": {},
   "source": [
    "## 1. Triple Jump Distances vs. Vertical Jump Heights "
   ]
  },
  {
   "cell_type": "markdown",
   "id": "0b435edc",
   "metadata": {},
   "source": [
    "Does skill in one sport imply skill in a related sport?  The answer might be different for different activities. Let's find out whether it's true for the [triple jump](https://en.wikipedia.org/wiki/Triple_jump) (a horizontal jump similar to a long jump) and the [vertical jump](https://en.wikipedia.org/wiki/Vertical_jump).  Since we're learning about linear regression, we will look specifically for a *linear* association between skill level in the two sports.\n",
    "\n",
    "The following data was collected by observing 40 collegiate-level soccer players. Each athlete's distances in both events were measured in centimeters. Run the cell below to load the data."
   ]
  },
  {
   "cell_type": "code",
   "execution_count": null,
   "id": "0e405103",
   "metadata": {
    "ExecuteTime": {
     "end_time": "2018-04-03T22:42:22.463984Z",
     "start_time": "2018-04-03T22:42:22.455963Z"
    },
    "execution": {
     "iopub.execute_input": "2021-11-04T06:22:33.017279Z",
     "iopub.status.busy": "2021-11-04T06:22:33.016683Z",
     "iopub.status.idle": "2021-11-04T06:22:33.029089Z",
     "shell.execute_reply": "2021-11-04T06:22:33.029616Z"
    }
   },
   "outputs": [],
   "source": [
    "# Run this cell to load the data\n",
    "jumps = Table.read_table('triple_vertical.csv')\n",
    "jumps"
   ]
  },
  {
   "cell_type": "markdown",
   "id": "7c68bdc7",
   "metadata": {
    "deletable": false,
    "editable": false
   },
   "source": [
    "**Question 1.1. (2 pts)** Create a function `standard_units` that converts the values in the array `data` to standard units. "
   ]
  },
  {
   "cell_type": "code",
   "execution_count": null,
   "id": "249bcd18",
   "metadata": {
    "execution": {
     "iopub.execute_input": "2021-11-04T06:22:33.034954Z",
     "iopub.status.busy": "2021-11-04T06:22:33.034007Z",
     "iopub.status.idle": "2021-11-04T06:22:33.037176Z",
     "shell.execute_reply": "2021-11-04T06:22:33.036646Z"
    }
   },
   "outputs": [],
   "source": [
    "def standard_units(data):\n",
    "    ...\n",
    "  "
   ]
  },
  {
   "cell_type": "code",
   "execution_count": null,
   "id": "fb4b4cdd",
   "metadata": {
    "deletable": false,
    "editable": false
   },
   "outputs": [],
   "source": [
    "grader.check(\"q1_1\")"
   ]
  },
  {
   "cell_type": "markdown",
   "id": "86b76eb5",
   "metadata": {
    "deletable": false,
    "editable": false
   },
   "source": [
    "**Question 1.2.(2 pts)** Now, using the `standard_units` function, define the function `correlation` which computes the correlation between `x` and `y`. "
   ]
  },
  {
   "cell_type": "code",
   "execution_count": null,
   "id": "baca083e",
   "metadata": {
    "execution": {
     "iopub.execute_input": "2021-11-04T06:22:33.078610Z",
     "iopub.status.busy": "2021-11-04T06:22:33.077860Z",
     "iopub.status.idle": "2021-11-04T06:22:33.081155Z",
     "shell.execute_reply": "2021-11-04T06:22:33.080510Z"
    }
   },
   "outputs": [],
   "source": [
    "def correlation(x, y):\n",
    "    ..."
   ]
  },
  {
   "cell_type": "code",
   "execution_count": null,
   "id": "b63d18de",
   "metadata": {
    "deletable": false,
    "editable": false
   },
   "outputs": [],
   "source": [
    "grader.check(\"q1_2\")"
   ]
  },
  {
   "cell_type": "markdown",
   "id": "a94ed5cf",
   "metadata": {
    "deletable": false,
    "editable": false
   },
   "source": [
    "**Question 1.3. (2 pts)** Before running a regression, it's important to see what the data looks like, because our eyes are good at picking out unusual patterns in data.  Draw a scatter plot, **that includes the regression line**, with the triple jump distances on the horizontal axis and the vertical jump heights on vertical axis. \n",
    "\n",
    "See the documentation on `scatter` [here](http://data8.org/datascience/_autosummary/datascience.tables.Table.scatter.html#datascience.tables.Table.scatter) for instructions on how to have Python draw the regression line automatically.\n",
    "\n",
    "*Hint:* The `fit_line` argument may be useful here!"
   ]
  },
  {
   "cell_type": "code",
   "execution_count": null,
   "id": "fc9e0ae2",
   "metadata": {
    "ExecuteTime": {
     "end_time": "2018-04-03T07:28:04.288689Z",
     "start_time": "2018-04-03T07:28:04.108660Z"
    },
    "deletable": false,
    "execution": {
     "iopub.execute_input": "2021-11-04T06:22:33.119594Z",
     "iopub.status.busy": "2021-11-04T06:22:33.118726Z",
     "iopub.status.idle": "2021-11-04T06:22:33.333377Z",
     "shell.execute_reply": "2021-11-04T06:22:33.333839Z"
    },
    "manual_problem_id": "jumping_1",
    "scrolled": false
   },
   "outputs": [],
   "source": [
    "...\n"
   ]
  },
  {
   "cell_type": "markdown",
   "id": "eb66abd0",
   "metadata": {
    "deletable": false,
    "editable": false
   },
   "source": [
    "**Question 1.4. (2 pts)** Does the correlation coefficient $r$ look closest to 0, .5, or -.5? Explain."
   ]
  },
  {
   "cell_type": "markdown",
   "id": "8ddf4f8a",
   "metadata": {},
   "source": [
    "_Type your answer here, replacing this text._"
   ]
  },
  {
   "cell_type": "markdown",
   "id": "7580a9f7",
   "metadata": {
    "deletable": false,
    "editable": false
   },
   "source": [
    "**Question 1.5. (4 pts)** Create a function called `parameter_estimates` that takes in the argument `tbl`, a two-column table where the first column is the x-axis and the second column is the y-axis. It should return an array with three elements: the **(1) correlation coefficient** of the two columns and the **(2) slope** and **(3) intercept** of the regression line that predicts the second column from the first, in original units. \n",
    "\n",
    "*Hint:* This is a rare occasion where it’s better to implement the function using column indices instead of column names, in order to be able to call this function on any table. If you need a reminder about how to use column indices to pull out individual columns, please refer to [this](https://www.inferentialthinking.com/chapters/06/Tables.html#accessing-the-data-in-a-column) section of the textbook.\n"
   ]
  },
  {
   "cell_type": "code",
   "execution_count": null,
   "id": "f237830f",
   "metadata": {
    "ExecuteTime": {
     "end_time": "2018-04-03T22:42:28.451495Z",
     "start_time": "2018-04-03T22:42:28.441469Z"
    },
    "execution": {
     "iopub.execute_input": "2021-11-04T06:22:33.342522Z",
     "iopub.status.busy": "2021-11-04T06:22:33.341461Z",
     "iopub.status.idle": "2021-11-04T06:22:33.345872Z",
     "shell.execute_reply": "2021-11-04T06:22:33.346282Z"
    },
    "for_assignment_type": "solution"
   },
   "outputs": [],
   "source": [
    "def parameter_estimates(tbl):\n",
    "    ...\n",
    "\n",
    "\n",
    "parameters = parameter_estimates(jumps) \n",
    "print('r:', parameters.item(0), '; slope:', parameters.item(1), '; intercept:', parameters.item(2))"
   ]
  },
  {
   "cell_type": "code",
   "execution_count": null,
   "id": "28f60da9",
   "metadata": {
    "deletable": false,
    "editable": false
   },
   "outputs": [],
   "source": [
    "grader.check(\"q1_5\")"
   ]
  },
  {
   "cell_type": "markdown",
   "id": "07d2b409",
   "metadata": {
    "deletable": false,
    "editable": false
   },
   "source": [
    "**Question 1.6. (2 pts)** Now suppose you want to go the other way and predict a triple jump distance given a vertical jump distance. What would the regression parameters of this linear model be? How do they compare to the regression parameters from the model where you were predicting vertical jump distance given a triple jump distance (in Question 1.5)? \n",
    "\n",
    "Set `regression_changes` to an array of 3 elements, with each element corresponding to whether or not the corresponding item returned by `parameter_estimates` changes when switching vertical and triple as $x$ and $y$. For example, if r changes, the slope changes, but the intercept wouldn't change, the array would be `make_array(True, True, False)`."
   ]
  },
  {
   "cell_type": "code",
   "execution_count": null,
   "id": "ee0d9363",
   "metadata": {
    "execution": {
     "iopub.execute_input": "2021-11-04T06:22:33.379873Z",
     "iopub.status.busy": "2021-11-04T06:22:33.379271Z",
     "iopub.status.idle": "2021-11-04T06:22:33.383200Z",
     "shell.execute_reply": "2021-11-04T06:22:33.382729Z"
    }
   },
   "outputs": [],
   "source": [
    "regression_changes = ...\n",
    "regression_changes"
   ]
  },
  {
   "cell_type": "code",
   "execution_count": null,
   "id": "f22b423a",
   "metadata": {
    "deletable": false,
    "editable": false
   },
   "outputs": [],
   "source": [
    "grader.check(\"q1_6\")"
   ]
  },
  {
   "cell_type": "markdown",
   "id": "8f4a8edb",
   "metadata": {
    "deletable": false,
    "editable": false
   },
   "source": [
    "**Question 1.7. (2 pts)** Let's use `parameters` (from Question 1.5) to predict what certain athletes' vertical jump heights would be given their triple jump distances.\n",
    "\n",
    "The world record for the triple jump distance is 18.29 *meters* by Johnathan Edwards. What is the prediction for Edwards' vertical jump using this line?\n",
    "\n",
    "*Hint:* Make sure to convert from meters to centimeters!"
   ]
  },
  {
   "cell_type": "code",
   "execution_count": null,
   "id": "28f7ba17",
   "metadata": {
    "deletable": false,
    "execution": {
     "iopub.execute_input": "2021-11-04T06:22:33.414877Z",
     "iopub.status.busy": "2021-11-04T06:22:33.413979Z",
     "iopub.status.idle": "2021-11-04T06:22:33.418222Z",
     "shell.execute_reply": "2021-11-04T06:22:33.417346Z"
    }
   },
   "outputs": [],
   "source": [
    "triple_record_vert_est = ...\n",
    "print(\"Predicted vertical jump distance: {:f} centimeters\".format(triple_record_vert_est))"
   ]
  },
  {
   "cell_type": "code",
   "execution_count": null,
   "id": "157305b3",
   "metadata": {
    "deletable": false,
    "editable": false
   },
   "outputs": [],
   "source": [
    "grader.check(\"q1_7\")"
   ]
  },
  {
   "cell_type": "markdown",
   "id": "fa5f4bfc",
   "metadata": {
    "deletable": false,
    "editable": false
   },
   "source": [
    "**Question 1.8.(2 pts)** Do you think it makes sense to use this line to predict Edwards' vertical jump? \n",
    "\n",
    "*Hint:* Compare Edwards' triple jump distance to the triple jump distances in `jumps`. Is it relatively similar to the rest of the data? "
   ]
  },
  {
   "cell_type": "markdown",
   "id": "d7ef8521",
   "metadata": {},
   "source": [
    "_Type your answer here, replacing this text._"
   ]
  },
  {
   "cell_type": "markdown",
   "id": "1e3174f2",
   "metadata": {},
   "source": [
    "<!-- END QUESTION -->\n",
    "\n",
    "\n",
    "\n",
    "## 2. Cryptocurrencies"
   ]
  },
  {
   "cell_type": "markdown",
   "id": "0a1bfddc",
   "metadata": {},
   "source": [
    "Imagine you're an investor in December 2017. Cryptocurrencies, online currencies backed by secure software, are becoming extremely valuable, and you want in on the action!\n",
    "\n",
    "The two most valuable cryptocurrencies are Bitcoin (BTC) and Ethereum (ETH). Each one has a dollar price attached to it at any given moment in time. For example, on December 1st, 2017, one BTC costs $\\$10,859.56$ and one ETH costs $\\$424.64.$\n",
    "\n",
    "For fun, you can here are the current prices of [Bitcoin](https://www.coinbase.com/price/bitcoin) and [Ethereum](https://www.coinbase.com/price/ethereum)!\n",
    "\n",
    "**You want to predict the price of ETH at some point in time based on the price of BTC.** Below, we load two [tables](https://www.kaggle.com/jessevent/all-crypto-currencies/data) called `btc` and `eth`. Each has 5 columns:\n",
    "* `date`, the date\n",
    "* `open`, the value of the currency at the beginning of the day\n",
    "* `close`, the value of the currency at the end of the day\n",
    "* `market`, the market cap or total dollar value invested in the currency\n",
    "* `day`, the number of days since the start of our data"
   ]
  },
  {
   "cell_type": "code",
   "execution_count": null,
   "id": "a229cd15",
   "metadata": {
    "ExecuteTime": {
     "end_time": "2018-04-04T09:57:46.445990Z",
     "start_time": "2018-04-04T09:57:46.433958Z"
    },
    "execution": {
     "iopub.execute_input": "2021-11-04T06:22:33.458027Z",
     "iopub.status.busy": "2021-11-04T06:22:33.457085Z",
     "iopub.status.idle": "2021-11-04T06:22:33.469929Z",
     "shell.execute_reply": "2021-11-04T06:22:33.470376Z"
    }
   },
   "outputs": [],
   "source": [
    "btc = Table.read_table('btc.csv')\n",
    "btc"
   ]
  },
  {
   "cell_type": "code",
   "execution_count": null,
   "id": "133a0bfe",
   "metadata": {
    "ExecuteTime": {
     "end_time": "2018-04-04T09:57:46.458022Z",
     "start_time": "2018-04-04T09:57:46.446994Z"
    },
    "execution": {
     "iopub.execute_input": "2021-11-04T06:22:33.474691Z",
     "iopub.status.busy": "2021-11-04T06:22:33.473236Z",
     "iopub.status.idle": "2021-11-04T06:22:33.486889Z",
     "shell.execute_reply": "2021-11-04T06:22:33.487365Z"
    }
   },
   "outputs": [],
   "source": [
    "eth = Table.read_table('eth.csv')\n",
    "eth"
   ]
  },
  {
   "cell_type": "markdown",
   "id": "25ee9ad7",
   "metadata": {
    "deletable": false,
    "editable": false
   },
   "source": [
    "**Question 2.1. (3 pts)** In the cell below, create a line plot that visualizes the BTC and ETH open prices as a function of time. Both BTC and ETH open prices should be plotted on the same graph. "
   ]
  },
  {
   "cell_type": "code",
   "execution_count": null,
   "id": "8d2cba69",
   "metadata": {
    "deletable": false,
    "execution": {
     "iopub.execute_input": "2021-11-04T06:22:33.574749Z",
     "iopub.status.busy": "2021-11-04T06:22:33.494732Z",
     "iopub.status.idle": "2021-11-04T06:22:33.781839Z",
     "shell.execute_reply": "2021-11-04T06:22:33.781261Z"
    },
    "for_assignment_type": "student"
   },
   "outputs": [],
   "source": [
    "# Create a line plot of btc and eth open prices as a function of time\n",
    "...\n"
   ]
  },
  {
   "cell_type": "markdown",
   "id": "89fa7934",
   "metadata": {
    "deletable": false,
    "editable": false
   },
   "source": [
    "**Question 2.2. (2 pts)** Now, calculate the correlation coefficient between the opening prices of BTC and ETH using the `correlation` function you defined earlier."
   ]
  },
  {
   "cell_type": "code",
   "execution_count": null,
   "id": "13a4b441",
   "metadata": {
    "ExecuteTime": {
     "end_time": "2018-04-04T09:57:57.365938Z",
     "start_time": "2018-04-04T09:57:57.357879Z"
    },
    "deletable": false,
    "execution": {
     "iopub.execute_input": "2021-11-04T06:22:33.787721Z",
     "iopub.status.busy": "2021-11-04T06:22:33.786440Z",
     "iopub.status.idle": "2021-11-04T06:22:33.792055Z",
     "shell.execute_reply": "2021-11-04T06:22:33.792569Z"
    }
   },
   "outputs": [],
   "source": [
    "r = ...\n",
    "r"
   ]
  },
  {
   "cell_type": "code",
   "execution_count": null,
   "id": "93271443",
   "metadata": {
    "deletable": false,
    "editable": false
   },
   "outputs": [],
   "source": [
    "grader.check(\"q2_2\")"
   ]
  },
  {
   "cell_type": "markdown",
   "id": "3dcf05fd",
   "metadata": {
    "deletable": false,
    "editable": false
   },
   "source": [
    "**Question 2.3. (3 pts)** Write a function `eth_predictor` which takes an opening BTC price and predicts the opening price of ETH. Again, it will be helpful to use the function `parameter_estimates` that you defined earlier in this homework."
   ]
  },
  {
   "cell_type": "code",
   "execution_count": null,
   "id": "82f7e26c",
   "metadata": {
    "deletable": false,
    "execution": {
     "iopub.execute_input": "2021-11-04T06:22:33.829958Z",
     "iopub.status.busy": "2021-11-04T06:22:33.829170Z",
     "iopub.status.idle": "2021-11-04T06:22:33.832705Z",
     "shell.execute_reply": "2021-11-04T06:22:33.832194Z"
    }
   },
   "outputs": [],
   "source": [
    "def eth_predictor(btc_price):\n",
    "    parameters = ...\n",
    "    slope = ...\n",
    "    intercept = ...\n",
    "    ..."
   ]
  },
  {
   "cell_type": "code",
   "execution_count": null,
   "id": "e7f08749",
   "metadata": {
    "deletable": false,
    "editable": false
   },
   "outputs": [],
   "source": [
    "grader.check(\"q2_3\")"
   ]
  },
  {
   "cell_type": "markdown",
   "id": "12ed4078",
   "metadata": {
    "deletable": false,
    "editable": false
   },
   "source": [
    "**Question 2.4. (4 pts)** Now, using the `eth_predictor`, you defined in the previous question, make a scatter plot with BTC prices along the x-axis and both real and predicted ETH prices along the y-axis. The color of the dots for the real ETH prices should be different from the color for the predicted ETH prices.\n",
    "\n",
    "*Hint 1:* An example of such a scatter plot is generated can be found [here](https://inferentialthinking.com/chapters/15/2/Regression_Line.html). </a>\n",
    "\n",
    "*Hint 2:* Think about the table that must be produced and used to generate this scatter plot. What data should the columns represent? Based on the data that you need, how many columns should be present in this table? Also, what should each row represent? Constructing the table will be the main part of this question; once you have this table, generating the scatter plot should be straightforward as usual."
   ]
  },
  {
   "cell_type": "code",
   "execution_count": null,
   "id": "47b4c8dd",
   "metadata": {
    "execution": {
     "iopub.execute_input": "2021-11-04T06:22:33.860679Z",
     "iopub.status.busy": "2021-11-04T06:22:33.860051Z",
     "iopub.status.idle": "2021-11-04T06:22:34.370792Z",
     "shell.execute_reply": "2021-11-04T06:22:34.370250Z"
    },
    "for_assignment_type": "solution",
    "scrolled": false
   },
   "outputs": [],
   "source": [
    "btc_open = ...\n",
    "eth_pred = ...\n",
    "eth_pred_actual = ...\n",
    "..."
   ]
  },
  {
   "cell_type": "markdown",
   "id": "9831a6c8",
   "metadata": {
    "deletable": false,
    "editable": false
   },
   "source": [
    "**Question 2.5. (2 pts)** Considering the shape of the scatter plot of the true data, is the model we used reasonable? If so, what features or characteristics make this model reasonable? If not, what features or characteristics make it unreasonable? "
   ]
  },
  {
   "cell_type": "markdown",
   "id": "81ccaf85",
   "metadata": {},
   "source": [
    "_Type your answer here, replacing this text._"
   ]
  },
  {
   "cell_type": "markdown",
   "id": "20017b07",
   "metadata": {},
   "source": [
    "<!-- END QUESTION -->\n",
    "\n",
    "\n",
    "\n",
    "## 3. Evaluating NBA Game Predictions"
   ]
  },
  {
   "cell_type": "markdown",
   "id": "884677f8",
   "metadata": {},
   "source": [
    "#### A Brief Introduction to Sports Betting\n",
    "\n",
    "In a basketball game, each team scores some number of points.  Conventionally, the team playing at its own arena is called the \"home team\", and their opponent is called the \"away team\".  The winner is the team with more points at the end of the game.\n",
    "\n",
    "We can summarize what happened in a game by the \"**outcome**\", defined as the **the away team's score minus the home team's score**:\n",
    "\n",
    "$$\\text{outcome} = \\text{points scored by the away team} - \\text{points scored by the home team}$$\n",
    "\n",
    "If this number is positive, the away team won.  If it's negative, the home team won. \n",
    "\n",
    "In order to facilitate betting on games, analysts at casinos try to predict the outcome of the game. This prediction of the outcome is called the **spread.**\n"
   ]
  },
  {
   "cell_type": "code",
   "execution_count": null,
   "id": "936d8442",
   "metadata": {
    "execution": {
     "iopub.execute_input": "2021-11-04T06:22:34.391974Z",
     "iopub.status.busy": "2021-11-04T06:22:34.391328Z",
     "iopub.status.idle": "2021-11-04T06:22:34.413743Z",
     "shell.execute_reply": "2021-11-04T06:22:34.413160Z"
    }
   },
   "outputs": [],
   "source": [
    "spreads = Table.read_table(\"spreads.csv\")\n",
    "spreads"
   ]
  },
  {
   "cell_type": "markdown",
   "id": "29bb1cf1",
   "metadata": {},
   "source": [
    "Here's a scatter plot of the outcomes and spreads, with the spreads on the horizontal axis."
   ]
  },
  {
   "cell_type": "code",
   "execution_count": null,
   "id": "cdbc389e",
   "metadata": {
    "execution": {
     "iopub.execute_input": "2021-11-04T06:22:34.440460Z",
     "iopub.status.busy": "2021-11-04T06:22:34.439884Z",
     "iopub.status.idle": "2021-11-04T06:22:34.601670Z",
     "shell.execute_reply": "2021-11-04T06:22:34.601089Z"
    }
   },
   "outputs": [],
   "source": [
    "spreads.scatter(\"Spread\", \"Outcome\", fit_line=True)"
   ]
  },
  {
   "cell_type": "markdown",
   "id": "faaf0048",
   "metadata": {},
   "source": [
    "From the scatter plot, you can see that the spread and outcome are almost never 0, aside from one case of the spread being 0. This is because a game of basketball never ends in a tie. One team has to win, so the outcome can never be 0. The spread is almost never 0 because it's chosen to estimate the outcome."
   ]
  },
  {
   "cell_type": "markdown",
   "id": "ee65fb11",
   "metadata": {},
   "source": [
    "Let's investigate how well the casinos are predicting game outcomes.\n",
    "\n",
    "One question we can ask is: Is the casino's prediction correct on average? In other words, for every value of the spread, is the average outcome of games assigned that spread equal to the spread? If not, the casino would apparently be making a systematic error in its predictions."
   ]
  },
  {
   "cell_type": "markdown",
   "id": "b1a3655c",
   "metadata": {
    "deletable": false,
    "editable": false
   },
   "source": [
    "**Question 3.1 (2 pts)** Compute the correlation coefficient between outcomes and spreads. \n",
    "\n",
    "*Note:* It might be helpful to use the `correlation` function."
   ]
  },
  {
   "cell_type": "code",
   "execution_count": null,
   "id": "cbe0be89",
   "metadata": {
    "deletable": false,
    "execution": {
     "iopub.execute_input": "2021-11-04T06:22:34.607724Z",
     "iopub.status.busy": "2021-11-04T06:22:34.605933Z",
     "iopub.status.idle": "2021-11-04T06:22:34.611322Z",
     "shell.execute_reply": "2021-11-04T06:22:34.611874Z"
    }
   },
   "outputs": [],
   "source": [
    "spread_r = ...\n",
    "spread_r"
   ]
  },
  {
   "cell_type": "code",
   "execution_count": null,
   "id": "1e53a85e",
   "metadata": {
    "deletable": false,
    "editable": false
   },
   "outputs": [],
   "source": [
    "grader.check(\"q3_1\")"
   ]
  },
  {
   "cell_type": "markdown",
   "id": "3f18ed26",
   "metadata": {
    "deletable": false,
    "editable": false
   },
   "source": [
    "**Question 3.2. (3 pts)** Among games with a spread between 3.5 and 6.5 (including both 3.5 and 6.5), what was the average outcome? \n",
    "\n",
    "*Hint:* Read the documentation for the predicate `are.between_or_equal_to` [here](http://data8.org/datascience/predicates.html#datascience.predicates.are.between_or_equal_to)."
   ]
  },
  {
   "cell_type": "code",
   "execution_count": null,
   "id": "5732ae48",
   "metadata": {
    "deletable": false,
    "execution": {
     "iopub.execute_input": "2021-11-04T06:22:34.645756Z",
     "iopub.status.busy": "2021-11-04T06:22:34.645150Z",
     "iopub.status.idle": "2021-11-04T06:22:34.649214Z",
     "shell.execute_reply": "2021-11-04T06:22:34.648673Z"
    }
   },
   "outputs": [],
   "source": [
    "spreads_around_5 =  ...\n",
    "spread_5_outcome_average = ...\n",
    "print(\"Average outcome for spreads around 5:\", spread_5_outcome_average)"
   ]
  },
  {
   "cell_type": "code",
   "execution_count": null,
   "id": "b81e265b",
   "metadata": {
    "deletable": false,
    "editable": false
   },
   "outputs": [],
   "source": [
    "grader.check(\"q3_2\")"
   ]
  },
  {
   "cell_type": "markdown",
   "id": "f3d3dab8",
   "metadata": {
    "deletable": false,
    "editable": false
   },
   "source": [
    "**Question 3.3. (1 pt)** Did the casino's prediction for spreads around 5 match the average outcome (your answer to Q 3.2)?"
   ]
  },
  {
   "cell_type": "markdown",
   "id": "eb785784",
   "metadata": {},
   "source": [
    "_Type your answer here, replacing this text._"
   ]
  },
  {
   "cell_type": "markdown",
   "id": "3e0128c2",
   "metadata": {
    "deletable": false,
    "editable": false
   },
   "source": [
    "**Question 3.4. (3 pts)** Use the function `parameter_estimates` that you defined earlier in this homework to compute the linear regression line that predicts outcomes from spreads, in original units. We have provided a two column table for you in the cell below with the first column representing `Spread` (x) and the second column representing `Outcome` (y), which you should use as an argument to the function. "
   ]
  },
  {
   "cell_type": "code",
   "execution_count": null,
   "id": "7ec163ba",
   "metadata": {
    "deletable": false,
    "execution": {
     "iopub.execute_input": "2021-11-04T06:22:34.671467Z",
     "iopub.status.busy": "2021-11-04T06:22:34.670908Z",
     "iopub.status.idle": "2021-11-04T06:22:34.674740Z",
     "shell.execute_reply": "2021-11-04T06:22:34.674131Z"
    },
    "scrolled": true
   },
   "outputs": [],
   "source": [
    "compute_tbl = spreads.select('Spread', 'Outcome')\n",
    "estimates = ...\n",
    "spread_slope = ...\n",
    "spread_intercept = ...\n",
    "print(\"Slope:\", round(spread_slope, 3))\n",
    "print(\"Intercept\", round(spread_intercept, 3))"
   ]
  },
  {
   "cell_type": "code",
   "execution_count": null,
   "id": "2bc9cc12",
   "metadata": {
    "deletable": false,
    "editable": false
   },
   "outputs": [],
   "source": [
    "grader.check(\"q3_4\")"
   ]
  },
  {
   "cell_type": "markdown",
   "id": "94022378",
   "metadata": {},
   "source": [
    "## 4. Survey"
   ]
  },
  {
   "cell_type": "markdown",
   "id": "21d2b52a",
   "metadata": {},
   "source": [
    "Mills College is a partnering with UC Berkeley in a National Science Foundation (NSF) sponsored research study to evaluate data science courses and activities, which are designed to introduce and immerse students into the field of data science.  You've taken the first survey in Homework 3.  This is the second survey (this survey is not associated with course evalutaion/assessment conducted by Mills). The survey takes about 10 minutes.  We appreciate your participation in the study!"
   ]
  },
  {
   "cell_type": "markdown",
   "id": "c48a149d",
   "metadata": {
    "deletable": false,
    "editable": false
   },
   "source": [
    "**Question 4.1 (10 pts)** Complete the [Data Science NSF Mills Survey](https://berkeley.qualtrics.com/jfe/form/SV_0HZyQDlhrggZLVQ).  At the end of the survey, you are given a code.  Provide the code below and the drawing cash prize amount."
   ]
  },
  {
   "cell_type": "code",
   "execution_count": null,
   "id": "7aa4e74c",
   "metadata": {},
   "outputs": [],
   "source": [
    "code = ...\n",
    "print(code)\n",
    "drawing_cash_prize_amount = ...\n",
    "drawing_cash_prize_amount"
   ]
  },
  {
   "cell_type": "markdown",
   "id": "917ee17f",
   "metadata": {},
   "source": [
    "\n",
    "**Congratulations, you've completed Homework 12!**\n",
    "\n",
    "Please save your notebook, download a pdf version of the notebook, and submit it to Canvas.\n",
    "\n",
    "As this is your last homework, you may want to save **all your work** from this course in your own computer.  To do so, go the the Jupyterhub directory  (click  `jupyterhub` on the top left corner) and click `Download Directory` (top right of the Jupyterhub directory)."
   ]
  }
 ],
 "metadata": {
  "celltoolbar": "Edit Metadata",
  "kernelspec": {
   "display_name": "Python 3 (ipykernel)",
   "language": "python",
   "name": "python3"
  },
  "language_info": {
   "codemirror_mode": {
    "name": "ipython",
    "version": 3
   },
   "file_extension": ".py",
   "mimetype": "text/x-python",
   "name": "python",
   "nbconvert_exporter": "python",
   "pygments_lexer": "ipython3",
   "version": "3.7.8"
  }
 },
 "nbformat": 4,
 "nbformat_minor": 5
}

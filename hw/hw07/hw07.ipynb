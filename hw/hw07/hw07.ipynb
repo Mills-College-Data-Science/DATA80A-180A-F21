{
 "cells": [
  {
   "cell_type": "markdown",
   "id": "23c4515e",
   "metadata": {
    "deletable": false
   },
   "source": [
    "# Data 80A/180A Data Science for Everyone\n",
    "\n",
    "# Homework 7 -- Simulation and Probability\n",
    "\n",
    "### 54 points\n",
    "\n",
    "## Due Friday, October 22 by 11:59PM\n",
    "\n",
    "**Note: The autograder tests are not comprehensive, that is, even though a test may say 100% passed, it means your code passes the prelimenary test and it doesn't mean your final grade will be 100%. We will be grading your code for correctness once everyone turns in the homework.**"
   ]
  },
  {
   "cell_type": "markdown",
   "id": "40f7ebe6",
   "metadata": {},
   "source": [
    "**Reading**: \n",
    "* [Chap 9 Randomness](https://www.inferentialthinking.com/chapters/09/Randomness.html)"
   ]
  },
  {
   "cell_type": "code",
   "execution_count": null,
   "id": "1ede3751",
   "metadata": {
    "execution": {
     "iopub.execute_input": "2021-09-30T08:02:27.342216Z",
     "iopub.status.busy": "2021-09-30T08:02:27.341293Z",
     "iopub.status.idle": "2021-09-30T08:02:28.679378Z",
     "shell.execute_reply": "2021-09-30T08:02:28.678762Z"
    }
   },
   "outputs": [],
   "source": [
    "# Don't change this cell; just run it. \n",
    "\n",
    "import numpy as np\n",
    "from datascience import *\n",
    "\n",
    "# These lines do some fancy plotting magic.\n",
    "import matplotlib\n",
    "%matplotlib inline\n",
    "import matplotlib.pyplot as plt\n",
    "plt.style.use('fivethirtyeight')\n",
    "import warnings\n",
    "warnings.simplefilter('ignore', FutureWarning)\n",
    "\n",
    "import otter\n",
    "grader = otter.Notebook()"
   ]
  },
  {
   "cell_type": "markdown",
   "id": "9e73d676",
   "metadata": {},
   "source": [
    "## 1. Roulette"
   ]
  },
  {
   "cell_type": "markdown",
   "id": "b17519d1",
   "metadata": {},
   "source": [
    "A Nevada roulette wheel has 38 pockets and a small ball that rests on the wheel. When the wheel is spun, the ball comes to rest in one of the 38 pockets. That pocket is declared the winner. \n",
    "\n",
    "The pockets are labeled 0, 00, 1, 2, 3, 4, ... , 36. Pockets 0 and 00 are green, and the other pockets are alternately red and black. The table `wheel` is a representation of a Nevada roulette wheel. Note that *both* columns consist of **strings**. Below is an example of a roulette wheel!"
   ]
  },
  {
   "cell_type": "markdown",
   "id": "8495efff",
   "metadata": {},
   "source": [
    "<img src=\"roulette_wheel.jpeg\" width=\"330px\">"
   ]
  },
  {
   "cell_type": "code",
   "execution_count": null,
   "id": "37ca533b",
   "metadata": {
    "execution": {
     "iopub.execute_input": "2021-09-30T08:02:28.684180Z",
     "iopub.status.busy": "2021-09-30T08:02:28.683624Z",
     "iopub.status.idle": "2021-09-30T08:02:28.693961Z",
     "shell.execute_reply": "2021-09-30T08:02:28.693411Z"
    }
   },
   "outputs": [],
   "source": [
    "wheel = Table.read_table('roulette_wheel.csv', dtype=str)\n",
    "wheel"
   ]
  },
  {
   "cell_type": "markdown",
   "id": "1b2d8652",
   "metadata": {},
   "source": [
    "### Betting on Red ###\n",
    "If you bet on *red*, you are betting that the winning pocket will be red. This bet *pays 1 to 1*. That means if you place a one-dollar bet on red, then:\n",
    "\n",
    "- If the winning pocket is red, you gain 1 dollar. That is, you get your original dollar back, plus one more dollar.\n",
    "- if the winning pocket is not red, you lose your dollar. In other words, you gain -1 dollars.\n",
    "\n",
    "Let's see if you can make money by betting on red at roulette."
   ]
  },
  {
   "cell_type": "markdown",
   "id": "2430d46b",
   "metadata": {
    "deletable": false,
    "editable": false
   },
   "source": [
    "**Question 1.1. (3 pts)** Define a function `dollar_bet_on_red` that takes the name of a color and returns your gain in dollars if that color had won and you had placed a one-dollar bet on red. Remember that the gain can be negative. Make sure your function returns an integer. \n",
    "\n",
    "You can assume that the only colors that will be passed as arguments are red, black, and green. Your function doesn't have to check that."
   ]
  },
  {
   "cell_type": "code",
   "execution_count": null,
   "id": "eb764753",
   "metadata": {
    "execution": {
     "iopub.execute_input": "2021-09-30T08:02:28.699251Z",
     "iopub.status.busy": "2021-09-30T08:02:28.698704Z",
     "iopub.status.idle": "2021-09-30T08:02:28.701520Z",
     "shell.execute_reply": "2021-09-30T08:02:28.701038Z"
    }
   },
   "outputs": [],
   "source": [
    "def dollar_bet_on_red(...):\n",
    "   ...\n"
   ]
  },
  {
   "cell_type": "code",
   "execution_count": null,
   "id": "884518ef",
   "metadata": {
    "deletable": false,
    "editable": false
   },
   "outputs": [],
   "source": [
    "grader.check(\"q11\")"
   ]
  },
  {
   "cell_type": "markdown",
   "id": "9b445405",
   "metadata": {},
   "source": [
    "Run the cell below to make sure your function is working."
   ]
  },
  {
   "cell_type": "code",
   "execution_count": null,
   "id": "f21d7558",
   "metadata": {
    "execution": {
     "iopub.execute_input": "2021-09-30T08:02:28.714575Z",
     "iopub.status.busy": "2021-09-30T08:02:28.713668Z",
     "iopub.status.idle": "2021-09-30T08:02:28.716996Z",
     "shell.execute_reply": "2021-09-30T08:02:28.716564Z"
    }
   },
   "outputs": [],
   "source": [
    "print(dollar_bet_on_red('green'))\n",
    "print(dollar_bet_on_red('black'))\n",
    "print(dollar_bet_on_red('red'))"
   ]
  },
  {
   "cell_type": "markdown",
   "id": "a9aaebdc",
   "metadata": {
    "deletable": false,
    "editable": false
   },
   "source": [
    "**Question 1.2. (3 pts)** Add a column labeled `Winnings: Red` to the table `wheel`. For each pocket, the column should contain your gain in dollars if that pocket won and you had bet one dollar on red. \n",
    "\n",
    "Your code should use the function `dollar_bet_on_red`.\n",
    "\n",
    "*Hint:*  Table 1 displays the expected output."
   ]
  },
  {
   "cell_type": "code",
   "execution_count": null,
   "id": "67274e5e",
   "metadata": {
    "execution": {
     "iopub.execute_input": "2021-09-30T08:02:28.723247Z",
     "iopub.status.busy": "2021-09-30T08:02:28.722461Z",
     "iopub.status.idle": "2021-09-30T08:02:28.726493Z",
     "shell.execute_reply": "2021-09-30T08:02:28.726050Z"
    },
    "scrolled": true
   },
   "outputs": [],
   "source": [
    "red_winnings = ...\n",
    "wheel = ...\n",
    "wheel"
   ]
  },
  {
   "cell_type": "code",
   "execution_count": null,
   "id": "98bb7887",
   "metadata": {
    "deletable": false,
    "editable": false
   },
   "outputs": [],
   "source": [
    "grader.check(\"q12\")"
   ]
  },
  {
   "cell_type": "markdown",
   "id": "544c4e6f",
   "metadata": {
    "deletable": false,
    "editable": false
   },
   "source": [
    "Table 1:\n",
    "\n",
    "<img src=\"Q1.2_table.PNG\">"
   ]
  },
  {
   "cell_type": "markdown",
   "id": "f449e55a",
   "metadata": {},
   "source": [
    "### Random Samples\n",
    "\n",
    "One way to draw a randaom sample from a table is by calling `tbl.sample(n)` which creates a new table with `n` rows which are randomly sampled from the original table (this is done with replacement; so it is possible to see the same row multiple times in the new table).\n",
    "\n",
    "Run the following cell which draws a random sample of 5 rows.  Run it a few times to see how the sample changes."
   ]
  },
  {
   "cell_type": "code",
   "execution_count": null,
   "id": "e6b13636",
   "metadata": {},
   "outputs": [],
   "source": [
    "wheel.sample(5)"
   ]
  },
  {
   "cell_type": "markdown",
   "id": "a753614e",
   "metadata": {
    "deletable": false,
    "editable": false
   },
   "source": [
    "### Simulating 10 bets on Red\n",
    "Roulette wheels are set up so that each time they are spun, the winning pocket is equally likely to be any of the 38 pockets regardless of the results of all other spins. Let's see what would happen if we decided to bet one dollar on red each round.\n",
    "\n",
    "**Question 1.3. (3 pts)** Create a table `ten_bets` by sampling the table `wheel` to simulate 10 spins of the roulette wheel. Your table should have the same three column labels as in `wheel`. Once you've created that table, set `sum_bets` to your net gain in all 10 bets, assuming that you bet one dollar on red each time. \n",
    "\n",
    "*Hint:* It may be helpful to print out `ten_bets` after you create it!"
   ]
  },
  {
   "cell_type": "code",
   "execution_count": null,
   "id": "36497559",
   "metadata": {
    "execution": {
     "iopub.execute_input": "2021-09-30T08:02:28.747658Z",
     "iopub.status.busy": "2021-09-30T08:02:28.746777Z",
     "iopub.status.idle": "2021-09-30T08:02:28.750734Z",
     "shell.execute_reply": "2021-09-30T08:02:28.750181Z"
    }
   },
   "outputs": [],
   "source": [
    "ten_bets = ...\n",
    "sum_bets = ...(ten_bets.column('Winnings: Red'))\n",
    "sum_bets"
   ]
  },
  {
   "cell_type": "code",
   "execution_count": null,
   "id": "8b113c83",
   "metadata": {
    "deletable": false,
    "editable": false
   },
   "outputs": [],
   "source": [
    "grader.check(\"q13\")"
   ]
  },
  {
   "cell_type": "markdown",
   "id": "0f4b15fa",
   "metadata": {},
   "source": [
    "Run the cells above a few times to see how much money you would make if you made 10 one-dollar bets on red. Making a negative amount of money doesn't feel good, but it is a reality in gambling. Casinos are a business, and they make money when gamblers lose."
   ]
  },
  {
   "cell_type": "markdown",
   "id": "aac6b472",
   "metadata": {
    "deletable": false,
    "editable": false
   },
   "source": [
    "**Question 1.4. (3 pts)** Let's see what would happen if you made more bets. Define a function `net_gain_red` that takes the number of bets and returns the net gain in that number of one-dollar bets on red.\n",
    "\n",
    "*Hint:* You should use your `wheel` table within your function definition."
   ]
  },
  {
   "cell_type": "code",
   "execution_count": null,
   "id": "47f4f128",
   "metadata": {
    "execution": {
     "iopub.execute_input": "2021-09-30T08:02:28.769905Z",
     "iopub.status.busy": "2021-09-30T08:02:28.769365Z",
     "iopub.status.idle": "2021-09-30T08:02:28.771629Z",
     "shell.execute_reply": "2021-09-30T08:02:28.772019Z"
    }
   },
   "outputs": [],
   "source": [
    "def net_gain_red(...):\n",
    "    ...\n"
   ]
  },
  {
   "cell_type": "code",
   "execution_count": null,
   "id": "febe1763",
   "metadata": {
    "deletable": false,
    "editable": false
   },
   "outputs": [],
   "source": [
    "grader.check(\"q14\")"
   ]
  },
  {
   "cell_type": "markdown",
   "id": "9c70cc97",
   "metadata": {},
   "source": [
    "Run the cell below a few times to make sure that the results are similar to those you observed in the previous exercise."
   ]
  },
  {
   "cell_type": "code",
   "execution_count": null,
   "id": "93dfcc0c",
   "metadata": {
    "execution": {
     "iopub.execute_input": "2021-09-30T08:02:28.845383Z",
     "iopub.status.busy": "2021-09-30T08:02:28.844795Z",
     "iopub.status.idle": "2021-09-30T08:02:28.848289Z",
     "shell.execute_reply": "2021-09-30T08:02:28.847722Z"
    }
   },
   "outputs": [],
   "source": [
    "net_gain_red(10)"
   ]
  },
  {
   "cell_type": "markdown",
   "id": "dec5328d",
   "metadata": {
    "deletable": false,
    "editable": false
   },
   "source": [
    "**Question 1.5. (6 pts)** Complete the cell below to simulate the net gain in 200 one-dollar bets on red, repeating the process 10,000 times. After the cell is run, `all_gains_red` should be an array with 10,000 entries, each of which is the net gain in 200 one-dollar bets on red. \n",
    "\n",
    "For a refresher on the steps involved in doing a simulation, read [9.3 Simulation](https://inferentialthinking.com/chapters/09/3/Simulation.html)"
   ]
  },
  {
   "cell_type": "code",
   "execution_count": null,
   "id": "df68a40f",
   "metadata": {
    "execution": {
     "iopub.execute_input": "2021-09-30T08:02:28.879139Z",
     "iopub.status.busy": "2021-09-30T08:02:28.861773Z",
     "iopub.status.idle": "2021-09-30T08:02:33.378922Z",
     "shell.execute_reply": "2021-09-30T08:02:33.378464Z"
    }
   },
   "outputs": [],
   "source": [
    "num_bets = ...\n",
    "repetitions = ...\n",
    "\n",
    "all_gains_red = ...\n",
    "\n",
    "...\n",
    "\n",
    "\n",
    "len(all_gains_red) # Do not change this line! Check that all_gains_red is length 10000."
   ]
  },
  {
   "cell_type": "code",
   "execution_count": null,
   "id": "86e3d379",
   "metadata": {
    "deletable": false,
    "editable": false
   },
   "outputs": [],
   "source": [
    "grader.check(\"q15\")"
   ]
  },
  {
   "cell_type": "markdown",
   "id": "87cc8a21",
   "metadata": {},
   "source": [
    "Run the cell below to visualize the results of your simulation."
   ]
  },
  {
   "cell_type": "code",
   "execution_count": null,
   "id": "6067eed2",
   "metadata": {
    "execution": {
     "iopub.execute_input": "2021-09-30T08:02:33.423911Z",
     "iopub.status.busy": "2021-09-30T08:02:33.415448Z",
     "iopub.status.idle": "2021-09-30T08:02:33.659004Z",
     "shell.execute_reply": "2021-09-30T08:02:33.658449Z"
    }
   },
   "outputs": [],
   "source": [
    "gains = Table().with_columns('Net Gain on Red', all_gains_red)\n",
    "gains.hist(bins = np.arange(-80, 41, 4))"
   ]
  },
  {
   "cell_type": "markdown",
   "id": "58dabbf7",
   "metadata": {
    "deletable": false,
    "editable": false
   },
   "source": [
    "**Question 1.6: (1 pt)** Using the histogram above, decide whether the following statement is true or false:\n",
    "\n",
    ">If you make 200 one-dollar bets on red, your chance of losing money is more than 50%.\n",
    "\n",
    "Assign `loss_more_than_50` to either `True` or `False` depending on your answer to the question."
   ]
  },
  {
   "cell_type": "code",
   "execution_count": null,
   "id": "fa9f2504",
   "metadata": {
    "execution": {
     "iopub.execute_input": "2021-09-30T08:02:33.663307Z",
     "iopub.status.busy": "2021-09-30T08:02:33.662791Z",
     "iopub.status.idle": "2021-09-30T08:02:33.665420Z",
     "shell.execute_reply": "2021-09-30T08:02:33.664941Z"
    }
   },
   "outputs": [],
   "source": [
    "loss_more_than_50 = ..."
   ]
  },
  {
   "cell_type": "code",
   "execution_count": null,
   "id": "b66d9e17",
   "metadata": {
    "deletable": false
   },
   "outputs": [],
   "source": [
    "grader.check(\"q16\")"
   ]
  },
  {
   "cell_type": "markdown",
   "id": "fd3401fd",
   "metadata": {
    "deletable": false,
    "editable": false
   },
   "source": [
    "### Betting on a Split ###\n",
    "If betting on red doesn't seem like a good idea, maybe a gambler might want to try a different bet. A bet on a *split* is a bet on two consecutive numbers such as 5 and 6. This bets pays 17 to 1. That means if you place a one-dollar bet on the split 5 and 6, then:\n",
    "\n",
    "- If the winning pocket is either 5 or 6, your gain is 17 dollars.\n",
    "- If any other pocket wins, you lose your dollar, so your gain is -1 dollars.\n",
    "\n",
    "**Question 1.7. (4 pts)** Define a function `dollar_bet_on_split` that takes a pocket number and returns your gain in dollars if that pocket won and you had bet one dollar on the 5-6 split. \n",
    "\n",
    "*Hint:* Remember that the pockets are represented as strings."
   ]
  },
  {
   "cell_type": "code",
   "execution_count": null,
   "id": "8f7a92bf",
   "metadata": {
    "execution": {
     "iopub.execute_input": "2021-09-30T08:02:33.684377Z",
     "iopub.status.busy": "2021-09-30T08:02:33.683748Z",
     "iopub.status.idle": "2021-09-30T08:02:33.686074Z",
     "shell.execute_reply": "2021-09-30T08:02:33.686527Z"
    }
   },
   "outputs": [],
   "source": [
    "def dollar_bet_on_split(...):\n",
    "    ...\n",
    "    "
   ]
  },
  {
   "cell_type": "code",
   "execution_count": null,
   "id": "d20c59ad",
   "metadata": {
    "deletable": false,
    "editable": false
   },
   "outputs": [],
   "source": [
    "grader.check(\"q17\")"
   ]
  },
  {
   "cell_type": "markdown",
   "id": "da914f14",
   "metadata": {},
   "source": [
    "Run the cell below to check that your function is doing what it should."
   ]
  },
  {
   "cell_type": "code",
   "execution_count": null,
   "id": "b1f94c86",
   "metadata": {
    "execution": {
     "iopub.execute_input": "2021-09-30T08:02:33.699524Z",
     "iopub.status.busy": "2021-09-30T08:02:33.698609Z",
     "iopub.status.idle": "2021-09-30T08:02:33.702054Z",
     "shell.execute_reply": "2021-09-30T08:02:33.701526Z"
    },
    "scrolled": true
   },
   "outputs": [],
   "source": [
    "print(dollar_bet_on_split('5'))\n",
    "print(dollar_bet_on_split('6'))\n",
    "print(dollar_bet_on_split('00'))\n",
    "print(dollar_bet_on_split('23'))"
   ]
  },
  {
   "cell_type": "markdown",
   "id": "05a702b3",
   "metadata": {
    "deletable": false,
    "editable": false
   },
   "source": [
    "**Question 1.8. (3 pts)** Add a column `Winnings: Split` to the `wheel` table. For each pocket, the column should contain your gain in dollars if that pocket won and you had bet one dollar on the 5-6 split. \n",
    "\n",
    "*Hint:* Table 2 displays the expected output."
   ]
  },
  {
   "cell_type": "code",
   "execution_count": null,
   "id": "bdeec0b6",
   "metadata": {
    "execution": {
     "iopub.execute_input": "2021-09-30T08:02:33.707833Z",
     "iopub.status.busy": "2021-09-30T08:02:33.706966Z",
     "iopub.status.idle": "2021-09-30T08:02:33.710782Z",
     "shell.execute_reply": "2021-09-30T08:02:33.711212Z"
    },
    "scrolled": true
   },
   "outputs": [],
   "source": [
    "split_winnings = ...\n",
    "wheel = ...\n",
    "wheel.show(10) # Do not change this line."
   ]
  },
  {
   "cell_type": "code",
   "execution_count": null,
   "id": "e959f031",
   "metadata": {
    "deletable": false,
    "editable": false
   },
   "outputs": [],
   "source": [
    "grader.check(\"q18\")"
   ]
  },
  {
   "cell_type": "markdown",
   "id": "05a3310e",
   "metadata": {
    "deletable": false,
    "editable": false
   },
   "source": [
    "Table 2:\n",
    "\n",
    "<img src=\"Q1.8_table.PNG\">"
   ]
  },
  {
   "cell_type": "markdown",
   "id": "dbe786c0",
   "metadata": {
    "deletable": false,
    "editable": false
   },
   "source": [
    "**Question 1.9. (6 pts)** Simulate the net gain in 200 one-dollar bets on the 5-6 split, repeating the process 10,000 times and saving your gains in the array `all_gains_split`. \n",
    "\n",
    "*Hint:* Your code in Questions 1.4 and 1.5 may be helpful here!"
   ]
  },
  {
   "cell_type": "code",
   "execution_count": null,
   "id": "6a860a35",
   "metadata": {
    "execution": {
     "iopub.execute_input": "2021-09-30T08:02:33.781519Z",
     "iopub.status.busy": "2021-09-30T08:02:33.732926Z",
     "iopub.status.idle": "2021-09-30T08:02:39.043435Z",
     "shell.execute_reply": "2021-09-30T08:02:39.043875Z"
    },
    "scrolled": true
   },
   "outputs": [],
   "source": [
    "all_gains_split = ...\n",
    "\n",
    "...\n",
    "\n",
    "\n",
    "# Do not change the two lines below\n",
    "gains = gains.with_columns('Net Gain on Split', all_gains_split)\n",
    "gains.hist(bins = np.arange(-200, 150, 20))"
   ]
  },
  {
   "cell_type": "code",
   "execution_count": null,
   "id": "124992d6",
   "metadata": {
    "deletable": false,
    "editable": false
   },
   "outputs": [],
   "source": [
    "grader.check(\"q19\")"
   ]
  },
  {
   "cell_type": "markdown",
   "id": "d62e257f",
   "metadata": {
    "deletable": false,
    "editable": false
   },
   "source": [
    "**Question 1.10. (3 pts)** Look carefully at the histograms above and say whether each of the following statements is `True` or `False`. \n",
    "\n",
    "1. If you bet one dollar 200 times on a split, your chance of losing money is more than 50%.\n",
    "2. If you bet one dollar 200 times in roulette, your chance of making more than 50 dollars is greater if you bet on a split each time than if you bet on red each time.\n",
    "3. If you bet one dollar 200 times in roulette, your chance of losing more than 50 dollars is greater if you bet on a split each time than if you bet on red each time.\n",
    "\n",
    "Assign the `histogram_statements` to an array of statement number(s) that corresponding to `True` statements.\n",
    "\n",
    "*Hint:* We've already seen one of these statements in a prior question."
   ]
  },
  {
   "cell_type": "code",
   "execution_count": null,
   "id": "a59180e2",
   "metadata": {
    "execution": {
     "iopub.execute_input": "2021-09-30T08:02:39.066184Z",
     "iopub.status.busy": "2021-09-30T08:02:39.065662Z",
     "iopub.status.idle": "2021-09-30T08:02:39.068745Z",
     "shell.execute_reply": "2021-09-30T08:02:39.068286Z"
    }
   },
   "outputs": [],
   "source": [
    "histogram_statements = ..."
   ]
  },
  {
   "cell_type": "code",
   "execution_count": null,
   "id": "826fe380",
   "metadata": {
    "deletable": false,
    "editable": false
   },
   "outputs": [],
   "source": [
    "grader.check(\"q110\")"
   ]
  },
  {
   "cell_type": "markdown",
   "id": "d7a16e02",
   "metadata": {},
   "source": [
    "If this exercise has put you off playing roulette, it has done its job. If you are still curious about other bets, [here](https://en.wikipedia.org/wiki/Roulette#Bet_odds_table) they all are, and [here](https://en.wikipedia.org/wiki/Roulette#House_edge) is the bad news. The house – that is, the casino – always has an edge over the gambler."
   ]
  },
  {
   "cell_type": "markdown",
   "id": "5ed5dd8d",
   "metadata": {},
   "source": [
    "## 2. Chances"
   ]
  },
  {
   "cell_type": "markdown",
   "id": "07aee053",
   "metadata": {},
   "source": [
    "Before you do this exercise, make sure you understand the logic behind all the examples in [Section 9.5](https://inferentialthinking.com/chapters/09/5/Finding_Probabilities.html). \n",
    "\n",
    "Good ways to approach probability calculations include:\n",
    "\n",
    "- Thinking one trial at a time: What does the first one have to be? Then what does the next one have to be?\n",
    "- Breaking up the event into distinct ways in which it can happen.\n",
    "- Seeing if it is easier to find the chance that the event does not happen."
   ]
  },
  {
   "cell_type": "markdown",
   "id": "2ad6d2bc",
   "metadata": {},
   "source": [
    "### Finding Chances\n",
    "\n",
    "On each spin of a roulette wheel, all 38 pockets are equally likely to be the winner regardless of the results of other spins. Among the 38 pockets, 18 are red, 18 black, and 2 green. In each part below, write an expression that evaluates to the chance of the event described."
   ]
  },
  {
   "cell_type": "markdown",
   "id": "1019c6e4",
   "metadata": {
    "deletable": false,
    "editable": false
   },
   "source": [
    "**Question 2.1. (2 pts)** The winning pocket is black on all of the first three spins."
   ]
  },
  {
   "cell_type": "code",
   "execution_count": null,
   "id": "bd688467",
   "metadata": {
    "execution": {
     "iopub.execute_input": "2021-09-30T08:02:39.091100Z",
     "iopub.status.busy": "2021-09-30T08:02:39.090558Z",
     "iopub.status.idle": "2021-09-30T08:02:39.093738Z",
     "shell.execute_reply": "2021-09-30T08:02:39.093161Z"
    }
   },
   "outputs": [],
   "source": [
    "first_three_black = ...\n",
    "first_three_black"
   ]
  },
  {
   "cell_type": "code",
   "execution_count": null,
   "id": "05efd194",
   "metadata": {
    "deletable": false,
    "editable": false
   },
   "outputs": [],
   "source": [
    "grader.check(\"q21\")"
   ]
  },
  {
   "cell_type": "markdown",
   "id": "636be6c4",
   "metadata": {
    "deletable": false,
    "editable": false
   },
   "source": [
    "**Question 2.2. (2 pts)** The color green never wins in the first 10 spins."
   ]
  },
  {
   "cell_type": "code",
   "execution_count": null,
   "id": "ee9d50ad",
   "metadata": {
    "execution": {
     "iopub.execute_input": "2021-09-30T08:02:39.113241Z",
     "iopub.status.busy": "2021-09-30T08:02:39.112695Z",
     "iopub.status.idle": "2021-09-30T08:02:39.114965Z",
     "shell.execute_reply": "2021-09-30T08:02:39.115414Z"
    }
   },
   "outputs": [],
   "source": [
    "no_green = ...\n",
    "no_green"
   ]
  },
  {
   "cell_type": "code",
   "execution_count": null,
   "id": "000e40d5",
   "metadata": {
    "deletable": false,
    "editable": false
   },
   "outputs": [],
   "source": [
    "grader.check(\"q22\")"
   ]
  },
  {
   "cell_type": "markdown",
   "id": "753c13e5",
   "metadata": {
    "deletable": false,
    "editable": false
   },
   "source": [
    "**Question 2,3. (2 pts)** The color green wins at least once on the first 10 spins. "
   ]
  },
  {
   "cell_type": "code",
   "execution_count": null,
   "id": "873ef21a",
   "metadata": {
    "execution": {
     "iopub.execute_input": "2021-09-30T08:02:39.135633Z",
     "iopub.status.busy": "2021-09-30T08:02:39.135091Z",
     "iopub.status.idle": "2021-09-30T08:02:39.137225Z",
     "shell.execute_reply": "2021-09-30T08:02:39.137644Z"
    }
   },
   "outputs": [],
   "source": [
    "at_least_one_green = ...\n",
    "at_least_one_green"
   ]
  },
  {
   "cell_type": "code",
   "execution_count": null,
   "id": "25ecb52e",
   "metadata": {
    "deletable": false,
    "editable": false
   },
   "outputs": [],
   "source": [
    "grader.check(\"q23\")"
   ]
  },
  {
   "cell_type": "markdown",
   "id": "99c24980",
   "metadata": {
    "deletable": false,
    "editable": false
   },
   "source": [
    "**Question 2.4. (2 pts)** Two of the three colors never win in the first 10 spins.\n",
    "\n",
    "*Hint:* Imagine the event. What must happen on all 10 spins?"
   ]
  },
  {
   "cell_type": "code",
   "execution_count": null,
   "id": "e713b554",
   "metadata": {
    "execution": {
     "iopub.execute_input": "2021-09-30T08:02:39.158860Z",
     "iopub.status.busy": "2021-09-30T08:02:39.158293Z",
     "iopub.status.idle": "2021-09-30T08:02:39.161235Z",
     "shell.execute_reply": "2021-09-30T08:02:39.160803Z"
    }
   },
   "outputs": [],
   "source": [
    "lone_winners = ...\n",
    "lone_winners "
   ]
  },
  {
   "cell_type": "code",
   "execution_count": null,
   "id": "8e2b685d",
   "metadata": {
    "deletable": false,
    "editable": false
   },
   "outputs": [],
   "source": [
    "grader.check(\"q24\")"
   ]
  },
  {
   "cell_type": "markdown",
   "id": "0b3e5cfd",
   "metadata": {},
   "source": [
    "### Comparing Chances\n",
    "In each of Questions 2.5-2.7, two events A and B are described. Choose from one of the following three options and set each answer variable to a single integer:\n",
    "\n",
    "1. Event A is more likely than Event B\n",
    "2. Event B is more likely than Event A\n",
    "3. The two events have the same chance.\n",
    "\n",
    "You should be able to make the choices **without calculation**. Good ways to approach this exercise include imagining carrying out the chance experiments yourself, one trial at a time, and by thinking about the [law of averages](https://inferentialthinking.com/chapters/10/1/Empirical_Distributions.html#the-law-of-averages)."
   ]
  },
  {
   "cell_type": "markdown",
   "id": "c1b099e0",
   "metadata": {
    "deletable": false,
    "editable": false
   },
   "source": [
    "**Question 2.5. (1 pt)** A child picks four times at random from a box that has four toy animals: a bear, an elephant, a giraffe, and a kangaroo. \n",
    "\n",
    "- Event A: all four different animals are picked (assuming the child picks without replacement)\n",
    "- Event B: all four different animals are picked (assuming the child picks with replacement)"
   ]
  },
  {
   "cell_type": "code",
   "execution_count": null,
   "id": "e55c900d",
   "metadata": {
    "execution": {
     "iopub.execute_input": "2021-09-30T08:02:39.183613Z",
     "iopub.status.busy": "2021-09-30T08:02:39.182912Z",
     "iopub.status.idle": "2021-09-30T08:02:39.186720Z",
     "shell.execute_reply": "2021-09-30T08:02:39.185898Z"
    }
   },
   "outputs": [],
   "source": [
    "toys_option = ..."
   ]
  },
  {
   "cell_type": "code",
   "execution_count": null,
   "id": "2fe56349",
   "metadata": {
    "deletable": false,
    "editable": false
   },
   "outputs": [],
   "source": [
    "grader.check(\"q25\")"
   ]
  },
  {
   "cell_type": "markdown",
   "id": "75d46590",
   "metadata": {
    "deletable": false,
    "editable": false
   },
   "source": [
    "**Question 2.6. (1 pt)** In a lottery, two numbers are drawn at random with replacement from the integers 1 through 1000. \n",
    "\n",
    "- Event A: The number 8 is picked on both draws\n",
    "- Event B: The same number is picked on both draws"
   ]
  },
  {
   "cell_type": "code",
   "execution_count": null,
   "id": "666db80c",
   "metadata": {
    "execution": {
     "iopub.execute_input": "2021-09-30T08:02:39.217818Z",
     "iopub.status.busy": "2021-09-30T08:02:39.217234Z",
     "iopub.status.idle": "2021-09-30T08:02:39.220840Z",
     "shell.execute_reply": "2021-09-30T08:02:39.220180Z"
    }
   },
   "outputs": [],
   "source": [
    "lottery_option = ..."
   ]
  },
  {
   "cell_type": "code",
   "execution_count": null,
   "id": "bf1338f4",
   "metadata": {
    "deletable": false,
    "editable": false
   },
   "outputs": [],
   "source": [
    "grader.check(\"q26\")"
   ]
  },
  {
   "cell_type": "markdown",
   "id": "7cff076d",
   "metadata": {
    "deletable": false,
    "editable": false
   },
   "source": [
    "**Question 2.7. (1 pt)** A fair coin is tossed repeatedly. \n",
    "\n",
    "- Event A: There are 60 or more heads in 100 tosses\n",
    "- Event B: There are 600 or more heads in 1000 tosses\n",
    "\n",
    "*Hint*: Think in terms of proportions."
   ]
  },
  {
   "cell_type": "code",
   "execution_count": null,
   "id": "5a19b61f",
   "metadata": {
    "execution": {
     "iopub.execute_input": "2021-09-30T08:02:39.247511Z",
     "iopub.status.busy": "2021-09-30T08:02:39.246936Z",
     "iopub.status.idle": "2021-09-30T08:02:39.250018Z",
     "shell.execute_reply": "2021-09-30T08:02:39.249290Z"
    }
   },
   "outputs": [],
   "source": [
    "coin_option = ..."
   ]
  },
  {
   "cell_type": "code",
   "execution_count": null,
   "id": "f89f9ccd",
   "metadata": {
    "deletable": false,
    "editable": false
   },
   "outputs": [],
   "source": [
    "grader.check(\"q27\")"
   ]
  },
  {
   "cell_type": "markdown",
   "id": "bc52e7cc",
   "metadata": {},
   "source": [
    "### Correct Answer?\n",
    "\n",
    "For each of Questions 2.8-2.11, we will introduce a problem statement and give you a proposed answer. You must assign the provided variable to one of the following three integers, depending on whether the proposed answer is too low, too high, or correct.\n",
    "\n",
    "1. if you believe our proposed answer is **too high.**\n",
    "2. if you believe our proposed answer is **too low.**\n",
    "3. if you believe our proposed answer is **correct.**"
   ]
  },
  {
   "cell_type": "markdown",
   "id": "87856d24",
   "metadata": {
    "deletable": false,
    "editable": false
   },
   "source": [
    "**Question 2.8 (1 pt).** You roll a 6-sided die 10 times. What is the chance of getting 10 sixes?\n",
    "\n",
    "Our proposed answer: $$\\left(\\frac{1}{6}\\right)^{10}$$\n",
    " \n",
    "Assign `ten_sixes` to either 1, 2, or 3 depending on if you think our answer is too high, too low, or correct. "
   ]
  },
  {
   "cell_type": "code",
   "execution_count": null,
   "id": "ccc46657",
   "metadata": {},
   "outputs": [],
   "source": [
    "ten_sixes = ...\n",
    "ten_sixes"
   ]
  },
  {
   "cell_type": "code",
   "execution_count": null,
   "id": "9c26a32b",
   "metadata": {
    "deletable": false,
    "editable": false
   },
   "outputs": [],
   "source": [
    "grader.check(\"q28\")"
   ]
  },
  {
   "cell_type": "markdown",
   "id": "baf075a0",
   "metadata": {
    "deletable": false,
    "editable": false
   },
   "source": [
    "**Question 2.9. (1 pt)** Take the same problem set-up as before, rolling a fair dice 10 times. What is the chance that every roll is less than or equal to 5?\n",
    "\n",
    "Our proposed answer: $$1 - \\left(\\frac{1}{6}\\right)^{10}$$\n",
    "\n",
    "Assign `five_or_less` to either 1, 2, or 3. "
   ]
  },
  {
   "cell_type": "code",
   "execution_count": null,
   "id": "2802185b",
   "metadata": {},
   "outputs": [],
   "source": [
    "five_or_less = ...\n",
    "five_or_less"
   ]
  },
  {
   "cell_type": "code",
   "execution_count": null,
   "id": "0b64caaf",
   "metadata": {
    "deletable": false,
    "editable": false
   },
   "outputs": [],
   "source": [
    "grader.check(\"q29\")"
   ]
  },
  {
   "cell_type": "markdown",
   "id": "27ae752f",
   "metadata": {
    "deletable": false,
    "editable": false
   },
   "source": [
    "**Question  2.10. (1 pt)** Assume we are picking a lottery ticket. We must choose three distinct numbers from 1 to 1000 and write them on a ticket. Next, someone picks three numbers one by one from a bowl with numbers from 1 to 1000 each time without putting the previous number back in. We win if our numbers are all called in order. \n",
    "\n",
    "If we decide to play the game and pick our numbers as 12, 140, and 890, what is the chance that we win? \n",
    "\n",
    "Our proposed answer: $$\\left(\\frac{3}{1000}\\right)^3$$\n",
    "\n",
    "Assign `lottery` to either 1, 2, or 3. "
   ]
  },
  {
   "cell_type": "code",
   "execution_count": null,
   "id": "22dc1e46",
   "metadata": {},
   "outputs": [],
   "source": [
    "lottery = ...\n",
    "lottery"
   ]
  },
  {
   "cell_type": "code",
   "execution_count": null,
   "id": "7a43f933",
   "metadata": {
    "deletable": false,
    "editable": false
   },
   "outputs": [],
   "source": [
    "grader.check(\"q210\")"
   ]
  },
  {
   "cell_type": "markdown",
   "id": "75b0d62e",
   "metadata": {
    "deletable": false,
    "editable": false
   },
   "source": [
    "**Question 2.11 (1 pt).** Assume we have two lists, list A and list B. List A contains the numbers [20,10,30], while list B contains the numbers [10,30,20,40,30]. We choose one number from list A randomly and one number from list B randomly. What is the chance that the number we drew from list A is **larger than or equal** to the number we drew from list B?\n",
    "\n",
    "Our proposed solution: $$1/5$$\n",
    "\n",
    "Assign `list_chances` to either 1, 2, or 3. \n",
    "\n",
    "*Hint: Consider the different possible ways that the items in List A can be greater than or equal to items in List B. Try working out your thoughts with a pencil and paper, what do you think the correct solutions will be close to?*"
   ]
  },
  {
   "cell_type": "code",
   "execution_count": null,
   "id": "2b4997fc",
   "metadata": {},
   "outputs": [],
   "source": [
    "list_chances = ...\n",
    "list_chances"
   ]
  },
  {
   "cell_type": "code",
   "execution_count": null,
   "id": "615b623a",
   "metadata": {
    "deletable": false,
    "editable": false
   },
   "outputs": [],
   "source": [
    "grader.check(\"q211\")"
   ]
  },
  {
   "cell_type": "markdown",
   "id": "7f8de70f",
   "metadata": {},
   "source": [
    "## 3. Unrolling Loops"
   ]
  },
  {
   "cell_type": "markdown",
   "id": "76d6f11d",
   "metadata": {},
   "source": [
    "\"Unrolling\" a `for` loop means to manually write out all the code that it executes.  The result is code that does the same thing as the loop, but without the structure of the loop.  For example, for the following loop:\n",
    "\n",
    "    for num in np.arange(3):\n",
    "        print(\"The number is\", num)\n",
    "\n",
    "The unrolled version would look like this:\n",
    "\n",
    "    print(\"The number is\", 0)\n",
    "    print(\"The number is\", 1)\n",
    "    print(\"The number is\", 2)\n",
    "\n",
    "\n",
    "Unrolling a `for` loop is a great way to understand what the loop is doing during each step. In this exercise, you'll practice unrolling `for` loops."
   ]
  },
  {
   "cell_type": "markdown",
   "id": "e5487dab",
   "metadata": {
    "deletable": false,
    "editable": false
   },
   "source": [
    "**Question 3.1 (4 pts)** Unroll the code below -- write code that does the same thing as the given code, but with any for loops unrolled. It's a good idea to run both your answer and the original code to verify that they do the same thing. (Of course, if the code does something random, you'll get a different random outcome than the original code!)"
   ]
  },
  {
   "cell_type": "code",
   "execution_count": null,
   "id": "c26850a2",
   "metadata": {},
   "outputs": [],
   "source": [
    "for joke_iteration in np.arange(3):\n",
    "    print(\"Knock, knock.\")\n",
    "    print(\"Who's there?\")\n",
    "    print(\"Banana.\")\n",
    "    print(\"Banana who?\")\n",
    "print(\"Knock, knock.\")\n",
    "print(\"Who's there?\")\n",
    "print(\"Orange.\")\n",
    "print(\"Orange who?\")\n",
    "print(\"Orange you glad I didn't say banana?\")"
   ]
  },
  {
   "cell_type": "code",
   "execution_count": null,
   "id": "0fd13fa4",
   "metadata": {},
   "outputs": [],
   "source": [
    " ..."
   ]
  },
  {
   "cell_type": "markdown",
   "id": "432e8dfc",
   "metadata": {},
   "source": [
    "**You've completed Homework 7!**\n",
    "\n",
    "Please save your notebook, download a pdf version of the notebook, and submit it to Canvas."
   ]
  }
 ],
 "metadata": {
  "kernelspec": {
   "display_name": "Python 3 (ipykernel)",
   "language": "python",
   "name": "python3"
  },
  "language_info": {
   "codemirror_mode": {
    "name": "ipython",
    "version": 3
   },
   "file_extension": ".py",
   "mimetype": "text/x-python",
   "name": "python",
   "nbconvert_exporter": "python",
   "pygments_lexer": "ipython3",
   "version": "3.7.8"
  }
 },
 "nbformat": 4,
 "nbformat_minor": 5
}

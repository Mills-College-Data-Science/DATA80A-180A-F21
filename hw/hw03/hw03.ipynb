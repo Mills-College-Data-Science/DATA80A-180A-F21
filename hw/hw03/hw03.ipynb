{
 "cells": [
  {
   "cell_type": "markdown",
   "metadata": {
    "id": "V97rXlk4ZXHi"
   },
   "source": [
    "## Data 80A/180A Data Science for Everyone\n",
    "\n",
    "# Homework 3: Table Manipulation, Visualization, and Survey\n",
    "\n",
    "###  56 Points\n",
    "\n",
    "## Due Friday, September 17 by 11:59PM"
   ]
  },
  {
   "cell_type": "markdown",
   "metadata": {
    "id": "xXFtntsNZXHk"
   },
   "source": [
    "**Reading**: \n",
    "* [Chapter 6: Tables](https://www.inferentialthinking.com/chapters/06/Tables.html)\n",
    "* [Chapter 7: Visualization](https://www.inferentialthinking.com/chapters/07/Visualization.html)\n",
    "\n",
    "\n",
    "**Helpful Resource**:\n",
    "\n",
    "* [Python Reference](http://data8.org/fa21/python-reference.html): Cheat sheet of helpful array & table methods used in Data 80A/180A!"
   ]
  },
  {
   "cell_type": "code",
   "execution_count": null,
   "metadata": {
    "deletable": false,
    "editable": false,
    "id": "g5NSJ_SSZXHn"
   },
   "outputs": [],
   "source": [
    "# Don't change this cell; just run it.\n",
    "import numpy as np\n",
    "from datascience import *\n",
    "\n",
    "import otter\n",
    "grader = otter.Notebook()\n",
    "\n",
    "# These lines do some fancy plotting magic.\n",
    "import matplotlib\n",
    "%matplotlib inline\n",
    "import matplotlib.pyplot as plots\n",
    "plots.style.use('fivethirtyeight')"
   ]
  },
  {
   "cell_type": "markdown",
   "metadata": {
    "id": "-xP3OvyyZXH4"
   },
   "source": [
    "## 1. Unemployment\n"
   ]
  },
  {
   "cell_type": "markdown",
   "metadata": {
    "id": "S05DQtN2ZXH4"
   },
   "source": [
    "The Federal Reserve Bank of St. Louis publishes data about jobs in the US.  Below, we've loaded data on unemployment in the United States. There are many ways of defining unemployment, and our dataset includes two notions of the unemployment rate:\n",
    "\n",
    "1. Among people who are able to work and are looking for a full-time job, the percentage who can't find a job.  This is called the Non-Employment Index, or NEI.\n",
    "2. Among people who are able to work and are looking for a full-time job, the percentage who can't find any job *or* are only working at a part-time job.  The latter group is called \"Part-Time for Economic Reasons\", so the acronym for this index is NEI-PTER.  (Economists are great at marketing.)\n",
    "\n",
    "The source of the data is [here](https://fred.stlouisfed.org/categories/33509)."
   ]
  },
  {
   "cell_type": "markdown",
   "metadata": {
    "deletable": false,
    "editable": false,
    "id": "Ik22kM3vZXH5"
   },
   "source": [
    "**Question 1.1 (1 pt)** The data is in a CSV file called `unemployment.csv`.  Load that file into a table called `unemployment`."
   ]
  },
  {
   "cell_type": "code",
   "execution_count": null,
   "metadata": {
    "id": "Orfew6UGZXH5"
   },
   "outputs": [],
   "source": [
    "unemployment =  ... \n",
    "unemployment"
   ]
  },
  {
   "cell_type": "code",
   "execution_count": null,
   "metadata": {
    "deletable": false,
    "editable": false,
    "id": "EUtSfG62ZXH9"
   },
   "outputs": [],
   "source": [
    "grader.check(\"q11\")"
   ]
  },
  {
   "cell_type": "markdown",
   "metadata": {
    "deletable": false,
    "editable": false,
    "id": "UHrJ4WXgZXIA"
   },
   "source": [
    "**Question 1.2. (3 pts)** Sort the data in table `unemployment` in descending order by NEI, naming the sorted table `by_nei`.  Create another table called `by_nei_pter` that's sorted in descending order by NEI-PTER instead."
   ]
  },
  {
   "cell_type": "code",
   "execution_count": null,
   "metadata": {
    "id": "1ac_vcTCZXIB"
   },
   "outputs": [],
   "source": [
    "by_nei = ...\n",
    "by_nei_pter = ..."
   ]
  },
  {
   "cell_type": "code",
   "execution_count": null,
   "metadata": {
    "deletable": false,
    "editable": false,
    "id": "hJCT6CtXZXID"
   },
   "outputs": [],
   "source": [
    "grader.check(\"q12\")"
   ]
  },
  {
   "cell_type": "markdown",
   "metadata": {
    "deletable": false,
    "editable": false,
    "id": "5NPeLI4SZXIF"
   },
   "source": [
    "**Question 1.3. (2 pts)** Use `take` (see [Selecting Rows](https://www.inferentialthinking.com/chapters/06/2/Selecting_Rows.html)) to make a table containing the data for the 10 quarters when NEI was greatest (i.e., the first 10 rows).  Call that table `greatest_nei`.\n",
    "\n",
    "`greatest_nei` should be sorted in descending order of `NEI`. Note that each row of `unemployment` represents a quarter."
   ]
  },
  {
   "cell_type": "code",
   "execution_count": null,
   "metadata": {
    "id": "GWg3OIX-ZXIF"
   },
   "outputs": [],
   "source": [
    "greatest_nei = ...\n",
    "greatest_nei"
   ]
  },
  {
   "cell_type": "code",
   "execution_count": null,
   "metadata": {
    "deletable": false,
    "editable": false,
    "id": "Wc5FDFT2ZXIH"
   },
   "outputs": [],
   "source": [
    "grader.check(\"q13\")"
   ]
  },
  {
   "cell_type": "markdown",
   "metadata": {
    "deletable": false,
    "editable": false,
    "id": "XLmwOIGWZXIN"
   },
   "source": [
    "**Question 1.4. (4 pts)** First, create an array `pter` which is the percentage of people who work part-time but are looking full-time jobs (basically pter is NEI-PTER - NEI).  Second add `pter` as a column to `unemployment` (named \"PTER\") and sort the resulting table by that column in descending order.  Call the table `by_pter`.\n",
    "\n",
    "*Hint:* Table 1 below displays the expected output."
   ]
  },
  {
   "cell_type": "code",
   "execution_count": null,
   "metadata": {
    "id": "CfR995AUZXIO"
   },
   "outputs": [],
   "source": [
    "pter = ...\n",
    "by_pter = ...\n",
    "by_pter"
   ]
  },
  {
   "cell_type": "code",
   "execution_count": null,
   "metadata": {
    "deletable": false,
    "editable": false,
    "id": "xMWVRElfZXIQ"
   },
   "outputs": [],
   "source": [
    "grader.check(\"q14\")  "
   ]
  },
  {
   "cell_type": "markdown",
   "metadata": {
    "editable": false
   },
   "source": [
    "Table 1\n",
    "\n",
    "<img src=\"Q1.4_table.PNG\"/> "
   ]
  },
  {
   "cell_type": "markdown",
   "metadata": {
    "deletable": false,
    "editable": false,
    "id": "i30o8dZ4ZXIS"
   },
   "source": [
    "**Question 1.5. (4 pts)** Create a line plot of the PTER over time. \n",
    "\n",
    "To do this, create a new table called `pter_over_time` that adds the `year` array and the `pter` array to the `unemployment` table. Label these columns `Year` and `PTER`. Then, generate a line plot using one of the table plot methods you've learned in class.\n",
    "\n",
    "*Hint:*  Graph 1 below displays the expected output."
   ]
  },
  {
   "cell_type": "code",
   "execution_count": null,
   "metadata": {
    "id": "26c6Oa2FZXIS",
    "scrolled": false
   },
   "outputs": [],
   "source": [
    "# The year array \n",
    "year = 1994 + np.arange(by_pter.num_rows)/4\n",
    "\n",
    "# create the pter_over_time table\n",
    "pter_over_time = ...\n",
    "\n",
    "# plot Year in the x-axis and PTER in the y-axis \n",
    "..."
   ]
  },
  {
   "cell_type": "code",
   "execution_count": null,
   "metadata": {
    "deletable": false,
    "editable": false,
    "id": "Ugm6SGKcZXIT"
   },
   "outputs": [],
   "source": [
    "grader.check(\"q15\")"
   ]
  },
  {
   "cell_type": "markdown",
   "metadata": {
    "editable": false
   },
   "source": [
    "Graph 1\n",
    "<img src=\"Q1.5_graph.PNG\"/> "
   ]
  },
  {
   "cell_type": "markdown",
   "metadata": {
    "id": "_dPdUV-EZXIe"
   },
   "source": [
    "## 2. Birth Rates\n"
   ]
  },
  {
   "cell_type": "markdown",
   "metadata": {
    "id": "ABKHkOEtZXIf"
   },
   "source": [
    "The following table gives census-based population estimates for each state on both July 1, 2015 and July 1, 2016. The last four columns describe the components of the estimated change in population during this time interval. **For all questions below, assume that the word \"states\" refers to all 52 rows including Puerto Rico & the District of Columbia.**\n",
    "\n",
    "The data was taken from [here](http://www2.census.gov/programs-surveys/popest/datasets/2010-2016/national/totals/nst-est2016-alldata.csv).\n",
    "\n",
    "If you want to read more about the different column descriptions, click [here](http://www2.census.gov/programs-surveys/popest/datasets/2010-2015/national/totals/nst-est2015-alldata.pdf)!\n",
    "\n",
    "The raw data is a bit messy - run the cell below to clean the table and make it easier to work with."
   ]
  },
  {
   "cell_type": "code",
   "execution_count": null,
   "metadata": {
    "deletable": false,
    "editable": false,
    "id": "pKJi2zu5ZXIf"
   },
   "outputs": [],
   "source": [
    "# Don't change this cell; just run it.\n",
    "pop = Table.read_table('nst-est2016-alldata.csv').where('SUMLEV', 40).select([1, 4, 12, 13, 27, 34, 62, 69])\n",
    "pop = pop.relabeled('POPESTIMATE2015', '2015').relabeled('POPESTIMATE2016', '2016')\n",
    "pop = pop.relabeled('BIRTHS2016', 'BIRTHS').relabeled('DEATHS2016', 'DEATHS')\n",
    "pop = pop.relabeled('NETMIG2016', 'MIGRATION').relabeled('RESIDUAL2016', 'OTHER')\n",
    "pop = pop.with_columns(\"REGION\", np.array([int(region) if region != \"X\" else 0 for region in pop.column(\"REGION\")]))\n",
    "pop.set_format([2, 3, 4, 5, 6, 7], NumberFormatter(decimals=0)).show(5)"
   ]
  },
  {
   "cell_type": "markdown",
   "metadata": {
    "id": "u4hkEvzJ9s4A"
   },
   "source": [
    "In the table pop, a positive MiGRATION refers to people moving into the state, a negative MIGRATION refers to people moving out of the state. "
   ]
  },
  {
   "cell_type": "markdown",
   "metadata": {
    "deletable": false,
    "editable": false,
    "id": "lP5AJx8kZXIi"
   },
   "source": [
    "**Question 2.1. (2pts)** Assign `us_birth_rate` to the total US annual birth rate during this time interval. The annual birth rate is the total number of births in that period divided by the population size at the start of the time period. \n",
    "\n",
    "*Hint:* Alabama has birth rate of 58,556/4,853,875 = 0.012"
   ]
  },
  {
   "cell_type": "code",
   "execution_count": null,
   "metadata": {
    "id": "Iaem4HKUZXIj"
   },
   "outputs": [],
   "source": [
    "us_birth_rate = ...\n",
    "us_birth_rate"
   ]
  },
  {
   "cell_type": "code",
   "execution_count": null,
   "metadata": {
    "deletable": false,
    "editable": false,
    "id": "3Z1hy1FSZXIk"
   },
   "outputs": [],
   "source": [
    "grader.check(\"q21\")"
   ]
  },
  {
   "cell_type": "markdown",
   "metadata": {
    "delatable": false,
    "editable": false,
    "id": "HToiiiLsZXIm"
   },
   "source": [
    "**Question 2.2.(a) (2 pts)** Add a `Migration-Rate` column to the table `pop` that contains the **annual rate of migration** for each state. \n",
    "\n",
    "The annual rate of migration for a year-long period is the net number of migrations divided by the population size at the start of the period. \n",
    "\n",
    "*Hint:* The annual rate of migration in Alabama is 3,874 / 4,853,875 = 0.0000798125. Table 2 displays the expected output."
   ]
  },
  {
   "cell_type": "code",
   "execution_count": null,
   "metadata": {
    "id": "jk6FWq8gZXIm"
   },
   "outputs": [],
   "source": [
    "migration_rates = ...\n",
    "migration_rates"
   ]
  },
  {
   "cell_type": "code",
   "execution_count": null,
   "metadata": {
    "deletable": false,
    "editable": false,
    "id": "fR2nIu0QZXIo"
   },
   "outputs": [],
   "source": [
    "grader.check(\"q22\") "
   ]
  },
  {
   "cell_type": "markdown",
   "metadata": {
    "editable": false
   },
   "source": [
    "Table 2\n",
    "\n",
    "<img src=\"Q2.2_table.PNG\"/> "
   ]
  },
  {
   "cell_type": "markdown",
   "metadata": {
    "deletable": false,
    "editable": false
   },
   "source": [
    "**Question 2.2.(b) (2 pts)** Assign `highest_migration_rate_state` to the state wuth the highest migration rate."
   ]
  },
  {
   "cell_type": "code",
   "execution_count": null,
   "metadata": {},
   "outputs": [],
   "source": [
    "highest_migration_rate_state =  ...\n",
    "highest_migration_rate_state"
   ]
  },
  {
   "cell_type": "code",
   "execution_count": null,
   "metadata": {
    "deletable": false,
    "editable": false,
    "id": "Mclz06OzZXIq"
   },
   "outputs": [],
   "source": [
    "grader.check(\"q22b\")"
   ]
  },
  {
   "cell_type": "markdown",
   "metadata": {
    "deletable": false,
    "editable": false,
    "id": "pdLjiSPQZXIp"
   },
   "source": [
    "**Question 2.3. (4 pts)** Assign `west_births` to the total number of births that occurred in region 4 (the Western US). "
   ]
  },
  {
   "cell_type": "code",
   "execution_count": null,
   "metadata": {
    "id": "o0gyVUQyZXIp"
   },
   "outputs": [],
   "source": [
    "# filter the rows with a value 4 in the region column \n",
    "region_4  = ...\n",
    "\n",
    "# sum all the values in the column BIRTHS in the new table region_4\n",
    "west_births = ... \n",
    "\n",
    "west_births"
   ]
  },
  {
   "cell_type": "code",
   "execution_count": null,
   "metadata": {
    "deletable": false,
    "editable": false,
    "id": "Mclz06OzZXIq"
   },
   "outputs": [],
   "source": [
    "grader.check(\"q23\")"
   ]
  },
  {
   "cell_type": "markdown",
   "metadata": {
    "deletable": false,
    "editable": false,
    "id": "1hhxmbK-ZXIs"
   },
   "source": [
    "**Question 2.4. (4 pts)** Assign `less_than_west_births` to the number of states that had a total population in 2016 that was smaller than the *total number of births in region 4 (the Western US)* during this time interval."
   ]
  },
  {
   "cell_type": "code",
   "execution_count": null,
   "metadata": {
    "id": "hxKCDZypZXIs"
   },
   "outputs": [],
   "source": [
    "# filter the rows in pop with a population in 2016 less than the value west_births\n",
    "less_than_west_births = ...\n",
    "\n",
    "# calculate the number of rows in less_than_west_births \n",
    "num_of_states = ...\n",
    "num_of_states"
   ]
  },
  {
   "cell_type": "code",
   "execution_count": null,
   "metadata": {
    "deletable": false,
    "editable": false,
    "id": "UtEUm1TjZXIt"
   },
   "outputs": [],
   "source": [
    "grader.check(\"q24\")"
   ]
  },
  {
   "cell_type": "markdown",
   "metadata": {
    "deletable": false,
    "editable": false,
    "id": "jV97ZTcMZXIx"
   },
   "source": [
    "**Question 2.5. (2 pts)** In the next question, you will be creating a visualization to understand the relationship between birth and death rates. The annual death rate for a year-long period is the total number of deaths in that period divided by the population size at the start of the time period.\n",
    "\n",
    "What visualization is most appropriate to see if there is an association between birth and death rates during a given time interval?\n",
    "\n",
    "1. Line Graph\n",
    "<br>\n",
    "2. Scatter Plot\n",
    "<br>\n",
    "3. Bar Chart\n",
    "\n",
    "Assign `visualization` below to the number corresponding to the correct visualization."
   ]
  },
  {
   "cell_type": "code",
   "execution_count": null,
   "metadata": {
    "id": "nGNCltlOZXIx"
   },
   "outputs": [],
   "source": [
    "visualization = ..."
   ]
  },
  {
   "cell_type": "code",
   "execution_count": null,
   "metadata": {
    "deletable": false,
    "editable": false,
    "id": "CedBbQuhZXIy"
   },
   "outputs": [],
   "source": [
    "grader.check(\"q25\")"
   ]
  },
  {
   "cell_type": "markdown",
   "metadata": {
    "deletable": false,
    "editable": false,
    "id": "xs3Wu3kQZXI0"
   },
   "source": [
    "**Question 2.6. (4 pts)**  Add two columns, `Birth Rate` and `Death Rate` to the `pop` table, where the annual birth rate for a year is the total number of births in a year divided by the population size at the start of the year (so 2015)."
   ]
  },
  {
   "cell_type": "code",
   "execution_count": null,
   "metadata": {},
   "outputs": [],
   "source": [
    "# first, add a column Birth Rate to the pop table\n",
    "pop = ...\n",
    "\n",
    "# second, add a column Death Rate to the pop table\n",
    "pop = ... \n",
    "pop "
   ]
  },
  {
   "cell_type": "markdown",
   "metadata": {
    "deletable": false,
    "editable": false
   },
   "source": [
    "**Question 2.7. (2 pts)**  Show a table with seven states having the lowest death rates."
   ]
  },
  {
   "cell_type": "code",
   "execution_count": null,
   "metadata": {},
   "outputs": [],
   "source": [
    "..."
   ]
  },
  {
   "cell_type": "markdown",
   "metadata": {
    "deletable": false,
    "editable": false,
    "id": "xs3Wu3kQZXI0"
   },
   "source": [
    "**Question 2.8. (2 pts)**  In the code cell below, create a visualization that will help us determine if there is an association between birth rate and death rate during this time interval. "
   ]
  },
  {
   "cell_type": "code",
   "execution_count": null,
   "metadata": {
    "export_pdf": true,
    "id": "33A2qsK7ZXI0",
    "manual_problem_id": "birth_death_rates_graph"
   },
   "outputs": [],
   "source": [
    "# visualization \n",
    " ..."
   ]
  },
  {
   "cell_type": "markdown",
   "metadata": {
    "deletable": false,
    "editable": false,
    "id": "sOyUjZJLZXI1"
   },
   "source": [
    "**Question 2.9. (1 pt)** `True` or `False`: There is an association between birth rate and death rate during this time interval. \n",
    "\n",
    "Assign `assoc` to `True` or `False` in the cell below. "
   ]
  },
  {
   "cell_type": "code",
   "execution_count": null,
   "metadata": {
    "id": "l-3UdrbqZXI1"
   },
   "outputs": [],
   "source": [
    "assoc = ..."
   ]
  },
  {
   "cell_type": "code",
   "execution_count": null,
   "metadata": {
    "deletable": false,
    "editable": false,
    "id": "HDZH2JXKZXI3"
   },
   "outputs": [],
   "source": [
    "grader.check(\"q29\")"
   ]
  },
  {
   "cell_type": "markdown",
   "metadata": {
    "id": "q5WAhteWZXI_"
   },
   "source": [
    "## 3. Uber\n"
   ]
  },
  {
   "cell_type": "markdown",
   "metadata": {
    "id": "5fWsKI0eZXI_"
   },
   "source": [
    "Below we load two tables containing 200,000 weekday Uber rides in the Manila, Philippines, and Boston, Massachusetts metropolitan areas from the [Uber Movement](https://movement.uber.com) project. The `sourceid` and `dstid` columns contain codes corresponding to start and end locations of each ride. The `hod` column contains codes corresponding to the hour of the day the ride took place. The `ride time` column contains the length of the ride, in minutes."
   ]
  },
  {
   "cell_type": "code",
   "execution_count": null,
   "metadata": {
    "editable": false,
    "for_question_type": "solution",
    "id": "3hQ2CTj7ZXJA",
    "scrolled": true
   },
   "outputs": [],
   "source": [
    "boston = Table.read_table(\"boston.csv\")\n",
    "manila = Table.read_table(\"manila.csv\")\n",
    "print(\"Boston Table\")\n",
    "boston.show(4)\n",
    "print(\"Manila Table\")\n",
    "manila.show(4)"
   ]
  },
  {
   "cell_type": "markdown",
   "metadata": {
    "deletable": false,
    "editable": false,
    "id": "WNZmyhTzZXJB"
   },
   "source": [
    "**Question 3.1. (3 pts)** Assign `bos_avg` and `manila_avg`to be the average ride time for Boston rides and Manila rides, respectively."
   ]
  },
  {
   "cell_type": "code",
   "execution_count": null,
   "metadata": {},
   "outputs": [],
   "source": [
    "bos_avg = ..\n",
    "print('Boston average ride time is ', bos_avg) \n",
    "manila_avg = ...\n",
    "print('Manila average ride time is ', manila_avg) "
   ]
  },
  {
   "cell_type": "markdown",
   "metadata": {
    "deletable": false,
    "editable": false,
    "id": "WNZmyhTzZXJB"
   },
   "source": [
    "**Question 3.2. (2 pts)** Now let's look at the distribution of the ride times. Produce histograms of all ride times in Boston using the given bins. "
   ]
  },
  {
   "cell_type": "code",
   "execution_count": null,
   "metadata": {
    "export_pdf": true,
    "id": "Htt7OwGNZXJB",
    "manual_problem_id": "uber_1",
    "scrolled": true
   },
   "outputs": [],
   "source": [
    "equal_bins = np.arange(0, 120, 5)\n",
    "..."
   ]
  },
  {
   "cell_type": "markdown",
   "metadata": {
    "deletable": false,
    "editable": false,
    "id": "Wd3EJx-AZXJD"
   },
   "source": [
    "**Question 3.3. (2 pts)** Now, produce histograms of all ride times in Manila using the given bins."
   ]
  },
  {
   "cell_type": "code",
   "execution_count": null,
   "metadata": {
    "export_pdf": true,
    "id": "gm683C0tZXJD"
   },
   "outputs": [],
   "source": [
    "...\n",
    "\n",
    "# Don't delete the following line!\n",
    "plots.ylim(0, 0.05)"
   ]
  },
  {
   "cell_type": "markdown",
   "metadata": {
    "id": "q5WAhteWZXI_"
   },
   "source": [
    "## 4. Survey"
   ]
  },
  {
   "cell_type": "markdown",
   "metadata": {},
   "source": [
    "Mills College is a partnering with UC Berkeley in a National Science Foundation (NSF) sponsored research study to evaluate data science courses and activities, which are designed to introduce and immerse students into the field of data science.  The survey takes about 10 minutes.  We appreciate your participation in the study!"
   ]
  },
  {
   "cell_type": "markdown",
   "metadata": {
    "deletable": false,
    "editable": false
   },
   "source": [
    "**Question 4.1 (10 pts)** Complete the [Data Science NSF Mills Survey](https://berkeley.qualtrics.com/jfe/form/SV_bQ2vAWQQ5dF7dZA).  At the end of the survey, you are given a code.  Provide the code below and the drawing cash prize amount."
   ]
  },
  {
   "cell_type": "code",
   "execution_count": null,
   "metadata": {},
   "outputs": [],
   "source": [
    "code = ...\n",
    "print(code)\n",
    "drawing_cash_prize_amount = ...\n",
    "drawing_cash_prize_amount"
   ]
  },
  {
   "cell_type": "markdown",
   "metadata": {
    "id": "x_lH1zEPADCi"
   },
   "source": [
    "\n",
    "**You've completed Homework 3!**\n",
    "\n",
    "Please save your notebook, download a pdf version of the notebook, and submit it to Canvas."
   ]
  }
 ],
 "metadata": {
  "colab": {
   "collapsed_sections": [],
   "name": "hw03.ipynb",
   "provenance": []
  },
  "kernelspec": {
   "display_name": "Python 3 (ipykernel)",
   "language": "python",
   "name": "python3"
  },
  "language_info": {
   "codemirror_mode": {
    "name": "ipython",
    "version": 3
   },
   "file_extension": ".py",
   "mimetype": "text/x-python",
   "name": "python",
   "nbconvert_exporter": "python",
   "pygments_lexer": "ipython3",
   "version": "3.7.8"
  }
 },
 "nbformat": 4,
 "nbformat_minor": 1
}

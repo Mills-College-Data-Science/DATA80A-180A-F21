{
 "cells": [
  {
   "cell_type": "markdown",
   "metadata": {
    "id": "V189mPH4-6qn"
   },
   "source": [
    "# Data 80A/180A Data Science for Everyone\n",
    "\n",
    "# Homework 1: Causality \n",
    "\n",
    "### 34 Points\n",
    "\n",
    "## Due Friday, September 3 by 11:59PM\n"
   ]
  },
  {
   "cell_type": "markdown",
   "metadata": {
    "id": "0sl7LM74-6qx"
   },
   "source": [
    "**Reading:**\n",
    "\n",
    "- [Chapter 1: Data Science](https://inferentialthinking.com/chapters/01/what-is-data-science.html) \n",
    "- [Chapter 2: Causality and Experiments](http://www.inferentialthinking.com/chapters/02/causality-and-experiments.html) "
   ]
  },
  {
   "cell_type": "markdown",
   "metadata": {
    "id": "NGXurMmeUwng"
   },
   "source": [
    "Please complete this notebook by filling in the cells provided. You **must** provide your answers, explanations, and code in the designated space. Moreover, throughout this homework and all future ones, please be sure to not re-assign variables throughout the notebook! For example, if you use `max_temperature` in your answer to one question, do not reassign it later on. Otherwise, you will fail tests that you thought you were passing previously!\n",
    "\n",
    "Directly sharing answers is not okay, but discussing problems with the instructor or with other students is encouraged. \n",
    "\n",
    "You should start early so that you have time to get help if you're stuck. "
   ]
  },
  {
   "cell_type": "markdown",
   "metadata": {
    "id": "e5zBzn3LUwng"
   },
   "source": [
    "**Run the next code cell to import the otter grader module.**  Hold down `Shift` + `Return/Enter`"
   ]
  },
  {
   "cell_type": "code",
   "execution_count": null,
   "metadata": {
    "id": "IH6wGhy--6q2"
   },
   "outputs": [],
   "source": [
    "import otter\n",
    "grader = otter.Notebook()"
   ]
  },
  {
   "cell_type": "markdown",
   "metadata": {
    "id": "Kbc-ufz9-6q0"
   },
   "source": [
    "## 1. Characters in Little Women\n"
   ]
  },
  {
   "cell_type": "markdown",
   "metadata": {
    "id": "91AleclP-6q0"
   },
   "source": [
    "In lecture, we counted the number of times that the literary characters were named in each chapter of the classic book, [*Little Women*](https://inferentialthinking.com/chapters/01/3/1/Literary_Characters.html). In computer science, the word \"character\" also refers to a letter, digit, space, or punctuation mark; any single element of a text. The following code generates a scatter plot in which each dot corresponds to a chapter of *Little Women*. The horizontal position of a dot measures the number of periods in the chapter. The vertical position measures the total number of characters."
   ]
  },
  {
   "cell_type": "code",
   "execution_count": null,
   "metadata": {
    "id": "P_3rZEaw-6q2",
    "scrolled": true
   },
   "outputs": [],
   "source": [
    "# This cell contains code that hasn't yet been covered in the course,\n",
    "# but you should be able to interpret the scatter plot it generates.\n",
    "# Run this code cell\n",
    "\n",
    "from datascience import *\n",
    "from urllib.request import urlopen\n",
    "import numpy as np\n",
    "%matplotlib inline\n",
    "\n",
    "little_women_url = 'https://www.inferentialthinking.com/data/little_women.txt'\n",
    "chapters = urlopen(little_women_url).read().decode().split('CHAPTER ')[1:]\n",
    "text = Table().with_column('Chapters', chapters)\n",
    "Table().with_columns(\n",
    "    'Periods', np.char.count(chapters, '.'),\n",
    "    'Characters', text.apply(len, 0)\n",
    "    ).scatter(0)"
   ]
  },
  {
   "cell_type": "markdown",
   "metadata": {
    "deletable": false,
    "id": "QLTtymr5-6q4"
   },
   "source": [
    "**Question 1.1. (2 pts)** Around how many periods are there in the chapter with the most characters? \n",
    "\n",
    "Multiple choice: Assign either 1, 2, 3, 4, or 5 to the name `characters_q1` below.\n",
    "\n",
    "1. 250\n",
    "2. 390\n",
    "3. 440\n",
    "4. 32,000\n",
    "5. 40,000\n"
   ]
  },
  {
   "cell_type": "code",
   "execution_count": null,
   "metadata": {
    "id": "SH8Fh8sN-6q4"
   },
   "outputs": [],
   "source": [
    "characters_q1 = ..."
   ]
  },
  {
   "cell_type": "code",
   "execution_count": null,
   "metadata": {
    "id": "rGQCYxO0-6q5"
   },
   "outputs": [],
   "source": [
    "# Testing Question 1.1 \n",
    "grader.check(\"q11\")"
   ]
  },
  {
   "cell_type": "markdown",
   "metadata": {
    "deletable": false,
    "id": "hEFsNjos-6q5"
   },
   "source": [
    "**Question 1.2. (2 pts)** Which of the following chapters has the most characters per period? \n",
    "\n",
    "Multiple choice: Assign either 1, 2, or 3 to the name `characters_q2` below.\n",
    "1. The chapter with about 60 periods\n",
    "2. The chapter with about 350 periods\n",
    "3. The chapter with about 440 periods\n"
   ]
  },
  {
   "cell_type": "code",
   "execution_count": null,
   "metadata": {
    "id": "3oy9lRaI-6q6"
   },
   "outputs": [],
   "source": [
    "characters_q2 = ..."
   ]
  },
  {
   "cell_type": "code",
   "execution_count": null,
   "metadata": {
    "deletable": false,
    "id": "QB1eJj6r-6q6"
   },
   "outputs": [],
   "source": [
    "# Testing Question 1.2\n",
    "grader.check(\"q12\")"
   ]
  },
  {
   "cell_type": "markdown",
   "metadata": {
    "id": "b8FyYNyO-6q7"
   },
   "source": [
    "To discover more interesting facts from this plot, read [Section 1.3.2](https://inferentialthinking.com/chapters/01/3/2/Another_Kind_Of_Character.html) of the textbook."
   ]
  },
  {
   "cell_type": "markdown",
   "metadata": {
    "id": "EKTIvps--6rA"
   },
   "source": [
    "## 2. Job Opportunities & Education in Rural India\n"
   ]
  },
  {
   "cell_type": "markdown",
   "metadata": {
    "id": "DYh1rSun-6rA"
   },
   "source": [
    "A [study](http://www.nber.org/papers/w16021.pdf) at UCLA investigated factors that might result in greater attention to the health and education of girls in rural India. One such factor is information about job opportunities for women. The idea is that if people know that educated women can get good jobs, they might take more care of the health and education of girls in their families, as an investment in the girls’ future potential as earners. Without the knowledge of job opportunities, the author hypothesizes that families do not invest in women’s well-being.\n",
    "\n",
    "The study focused on 160 villages outside the capital of India, all with little access to information about call centers and similar organizations that offer job opportunities to women. In 80 of the villages chosen at random, recruiters visited the village, described the opportunities, recruited women who had some English language proficiency and experience with computers, and provided ongoing support free of charge for three years. In the other 80 villages, no recruiters visited and no other intervention was made.\n",
    "\n",
    "At the end of the study period, the researchers recorded data about the school attendance and health of the children in the villages."
   ]
  },
  {
   "cell_type": "markdown",
   "metadata": {
    "deletable": false,
    "id": "LoYcLZ3u-6rB"
   },
   "source": [
    "**Question 2.1. (2 pts)** Which statement best describes the *treatment* and *control* groups for this study? \n",
    "\n",
    "Multiple choice: Assign either 1, 2, or 3 to the name `jobs_q1` below.\n",
    "\n",
    "1. The treatment group was the 80 villages visited by recruiters, and the control group was the other 80 villages with no intervention.\n",
    "\n",
    "2. The treatment group was the 160 villages selected, and the control group was the rest of the villages outside the capital of India.\n",
    "\n",
    "3. There is no clear notion of *treatment* and *control* group in this study.\n"
   ]
  },
  {
   "cell_type": "code",
   "execution_count": null,
   "metadata": {
    "id": "PbzViEh4-6rB"
   },
   "outputs": [],
   "source": [
    "jobs_q1 = ..."
   ]
  },
  {
   "cell_type": "code",
   "execution_count": null,
   "metadata": {
    "deletable": false,
    "id": "vRsqeKRY-6rB"
   },
   "outputs": [],
   "source": [
    "# Testing Question 2.1\n",
    "grader.check(\"q21\")"
   ]
  },
  {
   "cell_type": "markdown",
   "metadata": {
    "deletable": false,
    "id": "pkjCQ_G6-6rC"
   },
   "source": [
    "**Question 2.2. (2 pts)** Was this an observational study or a randomized controlled experiment? \n",
    "\n",
    "Multiple choice: Assign either 1, 2, or 3 to the name `jobs_q2` below.\n",
    "\n",
    "1. This was an observational study.\n",
    "\n",
    "2. This was a randomized controlled experiment.  \n",
    "\n",
    "3. This was a randomized observational study.\n"
   ]
  },
  {
   "cell_type": "code",
   "execution_count": null,
   "metadata": {
    "id": "LRPgNyNk-6rC"
   },
   "outputs": [],
   "source": [
    "jobs_q2 = ..."
   ]
  },
  {
   "cell_type": "code",
   "execution_count": null,
   "metadata": {
    "deletable": false,
    "id": "eShe7x-I-6rC"
   },
   "outputs": [],
   "source": [
    "# Testing Question 2.2\n",
    "grader.check(\"q22\")"
   ]
  },
  {
   "cell_type": "markdown",
   "metadata": {
    "id": "WIkp0T_s-6rD"
   },
   "source": [
    "## 3. Differences Between Majors\n"
   ]
  },
  {
   "cell_type": "markdown",
   "metadata": {
    "id": "2mw7ev3S-6rD"
   },
   "source": [
    "The University of California, Berkeley’s Office of Planning and Analysis (OPA) provides data on numerous aspects of the campus. Adapted from the OPA website, the table below displays the numbers of degree recipients in three majors in the academic years 2008-2009 and 2017-2018.\n",
    "\n",
    "| Major                              | 2008-2009    | 2017-2018   |\n",
    "|------------------------------------|--------------|-------------|\n",
    "| Gender and Women's Studies         |      17      |    28       |\n",
    "| Linguistics                        |      49      |    67       |\n",
    "| Rhetoric                           |      113     |    56       |\n",
    "\n"
   ]
  },
  {
   "cell_type": "markdown",
   "metadata": {
    "deletable": false,
    "id": "4LHiXuJC-6rE"
   },
   "source": [
    "**Question 3.1. (4 pts)** Suppose you want to find the **biggest** absolute difference between the numbers of degree recipients in the two years, among the three majors.\n",
    "\n",
    "In the cell below, compute this value and call it `biggest_change`. Use a single expression (a single line of code) to compute the answer. Let Python perform all the arithmetic (like subtracting 49 from 67) rather than simplifying the expression yourself. The built-in `abs` function takes a numerical input and returns the absolute value. The built-in `max` function can take in 3 arguments and returns the maximum of the three numbers\n"
   ]
  },
  {
   "cell_type": "code",
   "execution_count": null,
   "metadata": {
    "export_pdf": true,
    "id": "hghbVDSc-6rE"
   },
   "outputs": [],
   "source": [
    "biggest_change = ...\n",
    "biggest_change"
   ]
  },
  {
   "cell_type": "code",
   "execution_count": null,
   "metadata": {
    "deletable": false,
    "id": "zy4i9gQG-6rF"
   },
   "outputs": [],
   "source": [
    "# Testing Question 3.1\n",
    "grader.check(\"q31\")"
   ]
  },
  {
   "cell_type": "markdown",
   "metadata": {
    "deletable": false,
    "id": "hR3m_6Al-6rG"
   },
   "source": [
    "**Question 3.2. (2 pts)** Which of the three majors had the **smallest** absolute difference? \n",
    "\n",
    "Multiple Choice: Assign `smallest_change_major` to 1, 2, or 3 where each number corresponds to the following major:\n",
    "\n",
    "1: Gender and Women's Studies  \n",
    "2: Linguistics  \n",
    "3: Rhetoric\n",
    "\n",
    "Multiple choice: Choose the number that corresponds to the major with the smallest absolute difference.\n",
    "\n",
    "You should be able to answer by rough mental arithmetic, without having to calculate the exact value for each major. \n"
   ]
  },
  {
   "cell_type": "code",
   "execution_count": null,
   "metadata": {
    "id": "pgiCaowI-6rG"
   },
   "outputs": [],
   "source": [
    "smallest_change_major = ...\n",
    "smallest_change_major"
   ]
  },
  {
   "cell_type": "code",
   "execution_count": null,
   "metadata": {
    "deletable": false,
    "id": "aY7GFnJj-6rG"
   },
   "outputs": [],
   "source": [
    "# Testing Question 3.2\n",
    "grader.check(\"q32\")"
   ]
  },
  {
   "cell_type": "markdown",
   "metadata": {
    "id": "Y36GQRvi-6rJ"
   },
   "source": [
    "## 4. Nearsightedness Study"
   ]
  },
  {
   "cell_type": "markdown",
   "metadata": {
    "id": "Xu19iD5Q-6rK"
   },
   "source": [
    "Myopia, or nearsightedness, results from a number of genetic and environmental factors. In 1999, Quinn et al studied the relation between myopia and ambient lighting at night (for example, from nightlights or room lights) during childhood."
   ]
  },
  {
   "cell_type": "markdown",
   "metadata": {
    "deletable": false,
    "id": "zv1jhS5t-6rK"
   },
   "source": [
    "**Question 4.1. (5 pts)** The data were gathered by the following procedure, reported in the study. “Between January and June 1998, parents of children aged 2-16 years that were seen as outpatients in a university pediatric ophthalmology clinic completed a questionnaire on the child’s light exposure both at present and before the age of 2 years.” Was this study observational, or was it a controlled experiment? Explain. "
   ]
  },
  {
   "cell_type": "markdown",
   "metadata": {
    "export_pdf": true,
    "id": "VXz-9mpT-6rL"
   },
   "source": [
    "*Write your answer here, replacing this text.*"
   ]
  },
  {
   "cell_type": "markdown",
   "metadata": {
    "deletable": false,
    "id": "qv7hhF2D-6rL"
   },
   "source": [
    "**Question 4.2. (5 pts)** The study found that of the children who slept with a room light on before the age of 2, 55% were myopic. Of the children who slept with a night light on before the age of 2, 34% were myopic. Of the children who slept in the dark before the age of 2, 10% were myopic. The study concluded that, \"The prevalence of myopia during childhood was strongly associated with ambient light exposure during sleep at night in the first two years after birth.\"\n",
    "\n",
    "Do the data support this statement? You may interpret “strongly” in any reasonable qualitative way."
   ]
  },
  {
   "cell_type": "markdown",
   "metadata": {
    "export_pdf": true,
    "id": "QAoIRZqB-6rM"
   },
   "source": [
    "*Write your answer here, replacing this text.*"
   ]
  },
  {
   "cell_type": "markdown",
   "metadata": {
    "deletable": false,
    "id": "Yh3pDLYz-6rM"
   },
   "source": [
    "**Question 4.3. (5 pts)** On May 13, 1999, CNN reported the results of this study under the headline, “Night light may lead to nearsightedness.” Does the conclusion of the study claim that night light causes nearsightedness?\n"
   ]
  },
  {
   "cell_type": "markdown",
   "metadata": {
    "export_pdf": true,
    "id": "3HXY2SH0-6rM"
   },
   "source": [
    "*Write your answer here, replacing this text.*"
   ]
  },
  {
   "cell_type": "markdown",
   "metadata": {
    "deletable": false,
    "id": "yphdNnA--6rN"
   },
   "source": [
    "**Question 4.4. (5 pts)** The final paragraph of the CNN report said that “several eye specialists” had pointed out that the study should have accounted for heredity.\n",
    "\n",
    "Myopia is passed down from parents to children. Myopic parents are more likely to have myopic children, and may also be more likely to leave lights on habitually (since the parents have poor vision). In what way does the knowledge of this possible genetic link affect how we interpret the data from the study? \n"
   ]
  },
  {
   "cell_type": "markdown",
   "metadata": {
    "export_pdf": true,
    "id": "dnS8aOGZ-6rN"
   },
   "source": [
    "*Write your answer here, replacing this text.*"
   ]
  },
  {
   "cell_type": "markdown",
   "metadata": {},
   "source": [
    "## 5. Save, Download, and Submit\n",
    "\n",
    "Recall the steps from **Lab 1** regarding saving, dowloading, and submitting your Jupyter notebook: First save (Ctrl-S) this notebook. To download a copy of this notebook as a pdf file, go to `File` in the toolbar and click `Download as` and select `PDF via LaTex (.pdf)`. This action will download this notebook as hw01.pdf in your local computer (ignore the newly created Untitled Chrome tab). To submit the notebook in Canvas, go to Assignment 1 in Canvas and upload the hw01.pdf file.  Remember to perform these steps for future homework assignments.\n",
    "\n"
   ]
  }
 ],
 "metadata": {
  "colab": {
   "collapsed_sections": [],
   "name": "hw01.ipynb",
   "provenance": []
  },
  "kernelspec": {
   "display_name": "Python 3",
   "language": "python",
   "name": "python3"
  },
  "language_info": {
   "codemirror_mode": {
    "name": "ipython",
    "version": 3
   },
   "file_extension": ".py",
   "mimetype": "text/x-python",
   "name": "python",
   "nbconvert_exporter": "python",
   "pygments_lexer": "ipython3",
   "version": "3.8.5"
  }
 },
 "nbformat": 4,
 "nbformat_minor": 1
}
